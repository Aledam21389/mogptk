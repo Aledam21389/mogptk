{
 "cells": [
  {
   "cell_type": "code",
   "execution_count": null,
   "metadata": {
    "collapsed": true
   },
   "outputs": [],
   "source": [
    "# execute if not installed\n",
    "import sys\n",
    "import os \n",
    "sys.path.insert(0, '../')\n",
    "\n",
    "import mogptk\n",
    "\n",
    "import matplotlib.pyplot as plt\n",
    "import seaborn as sns\n",
    "import numpy as np\n",
    "import pandas as pd\n",
    "\n",
    "%reload_ext autoreload\n",
    "%autoreload 2"
   ]
  },
  {
   "cell_type": "code",
   "execution_count": null,
   "metadata": {
    "collapsed": true
   },
   "outputs": [],
   "source": [
    "# plot config\n",
    "sns.set_context('paper', font_scale=1.3)\n",
    "sns.set_style('ticks')\n",
    "plt.rcParams['figure.figsize'] = (10, 5)"
   ]
  },
  {
   "cell_type": "code",
   "execution_count": null,
   "metadata": {
    "collapsed": false
   },
   "outputs": [],
   "source": [
    "data_path = 'data/finance_datasets/stock_data/'\n",
    "df_list = []\n",
    "cols = []\n",
    "for fname in os.listdir(data_path):\n",
    "    df = pd.read_csv(data_path + fname)\n",
    "    df['Date'] = pd.to_datetime(df['Date'])\n",
    "    cols.append(fname)\n",
    "    df_list.append(df)"
   ]
  },
  {
   "cell_type": "code",
   "execution_count": null,
   "metadata": {
    "collapsed": false
   },
   "outputs": [],
   "source": [
    "df_list[0].head()"
   ]
  },
  {
   "cell_type": "markdown",
   "metadata": {},
   "source": [
    " 2001-05-29 y 2001-12-25"
   ]
  },
  {
   "cell_type": "code",
   "execution_count": null,
   "metadata": {
    "collapsed": false
   },
   "outputs": [],
   "source": [
    "for i, df in enumerate(df_list):\n",
    "    idx = (df['Date'] >= np.datetime64('2001-05-29')) & (df['Date'] <= np.datetime64('2001-12-25'))\n",
    "    df_list[i] = df.loc[idx, :][['Date', 'Adj Close']]\n",
    "    # df_list[i].set_index('Date', inplace=True)\n",
    "    df_list[i]['Day'] = (df_list[i]['Date'] - df_list[i]['Date'].iloc[0]).dt.days.values\n",
    "    print(df_list[i].shape)"
   ]
  },
  {
   "cell_type": "code",
   "execution_count": null,
   "metadata": {
    "collapsed": false
   },
   "outputs": [],
   "source": [
    "data = []\n",
    "for df in df_list:\n",
    "    data.append(mogptk.Data(X=df['Day'].values, Y=df['Adj Close'].values))"
   ]
  },
  {
   "cell_type": "code",
   "execution_count": null,
   "metadata": {
    "collapsed": false
   },
   "outputs": [],
   "source": [
    "# randomly sample from the data\n",
    "# for channel in data:\n",
    "#     channel.remove_randomly(pct=0.3)\n",
    "\n",
    "# drop chunks to simulate sensor failure\n",
    "\n",
    "data[0].remove_range(df['Day'].iloc[-1], None)\n",
    "# data[1].remove_range(90, 120)\n",
    "# data[2].remove_range(90, 120)\n",
    "data[3].remove_range(90, 120)\n",
    "data[4].remove_range(None, 30)\n",
    "data[5].remove_range(None, 30)\n",
    "data[6].remove_range(50, 60)\n",
    "data[7].remove_range(50, 65)\n",
    "# data[8].remove_range(90, 120)\n",
    "\n",
    "for i in range(1, len(cols)):\n",
    "     data[i].remove_range(180, None)\n",
    "\n",
    "# add pred values\n",
    "\n",
    "# use data class\n",
    "x_test = [channel.X[~channel.mask] for channel in data]\n",
    "y_test = [df_list[i]['Adj Close'].values[~data[i].mask] for i in range(len(cols))]"
   ]
  },
  {
   "cell_type": "markdown",
   "metadata": {},
   "source": [
    "## Likelihood"
   ]
  },
  {
   "cell_type": "code",
   "execution_count": null,
   "metadata": {
    "collapsed": true
   },
   "outputs": [],
   "source": [
    "like = None\n",
    "like_params = {}"
   ]
  },
  {
   "cell_type": "markdown",
   "metadata": {},
   "source": [
    "#  MOSM"
   ]
  },
  {
   "cell_type": "code",
   "execution_count": null,
   "metadata": {
    "collapsed": false
   },
   "outputs": [],
   "source": [
    "n_trials = 1\n",
    "\n",
    "mosm_mae = np.zeros((n_trials, len(df_list)))\n",
    "mosm_mape = np.zeros((n_trials, len(df_list)))\n",
    "mosm_rmse = np.zeros((n_trials, len(df_list)))\n",
    "\n",
    "for n in range(n_trials):\n",
    "    model_mosm = mogptk.MOSM(data, Q=5)\n",
    "    model_mosm.init_params('BNSE')\n",
    "    \n",
    "    print('Starting trial', n)\n",
    "    model_mosm.train(method='L-BFGS-B',\n",
    "                     maxiter=2000,\n",
    "                     tol=1e-50,\n",
    "                     likelihood=like,\n",
    "                     variational=True,\n",
    "                     like_params=like_params)\n",
    "    print('Finished trial', n)\n",
    "    print('='*50)        \n",
    "    \n",
    "    # errors per channel\n",
    "    error = mogptk.test_errors(model_mosm, x_test=x_test, y_test=y_test)\n",
    "    \n",
    "    mosm_mae[n, :] = np.array(error[0])[:, 0]\n",
    "    mosm_mape[n, :] = np.array(error[0])[:, 1]\n",
    "    mosm_rmse[n, :] = np.array(error[0])[:, 2]\n",
    "    \n",
    "pd.DataFrame(np.c_[mosm_mae.mean(0), mosm_mape.mean(0), mosm_rmse.mean(0),\n",
    "                             mosm_mae.std(0), mosm_mape.std(0), mosm_rmse.std(0)],\n",
    "                       columns=['MAE', 'MAPE', 'RMSE', 'MAE std', 'MAPE% std', 'RMSE std'])"
   ]
  },
  {
   "cell_type": "code",
   "execution_count": null,
   "metadata": {
    "collapsed": false
   },
   "outputs": [],
   "source": [
    "mogptk.plot_prediction(model_mosm, grid=(5, 2), names=cols, title='Stocks MOSM');"
   ]
  },
  {
   "cell_type": "markdown",
   "metadata": {},
   "source": [
    "# CSM"
   ]
  },
  {
   "cell_type": "code",
   "execution_count": null,
   "metadata": {
    "collapsed": true
   },
   "outputs": [],
   "source": [
    "n_trials = 1\n",
    "\n",
    "csm_mae = np.zeros((n_trials, len(df_list)))\n",
    "csm_mape = np.zeros((n_trials, len(df_list)))\n",
    "csm_rmse = np.zeros((n_trials, len(df_list)))\n",
    "\n",
    "for n in range(n_trials):\n",
    "    model_csm = mogptk.CSM(data, Q=5)\n",
    "    model_csm.init_params('BNSE')\n",
    "    \n",
    "    print('Starting trial', n)\n",
    "    model_csm.train(method='L-BFGS-B',\n",
    "                    maxiter=2000,\n",
    "                    tol=1e-50,\n",
    "                    likelihood=like,\n",
    "                    variational=True,\n",
    "                    like_params=like_params)\n",
    "    print('Finished trial', n)\n",
    "    print('='*50)\n",
    "    \n",
    "    # errors per channel\n",
    "    error = mogptk.test_errors(model_csm, x_test=x_test, y_test=y_test)\n",
    "    \n",
    "    csm_mae[n, :] = np.array(error[0])[:, 0]\n",
    "    csm_mape[n, :] = np.array(error[0])[:, 1]\n",
    "    csm_rmse[n, :] = np.array(error[0])[:, 2]\n",
    "\n",
    "pd.DataFrame(np.c_[csm_mae.mean(0), csm_mape.mean(0), csm_rmse.mean(0),\n",
    "                             csm_mae.std(0), csm_mape.std(0), csm_rmse.std(0)],\n",
    "                       columns=['MAE', 'MAPE', 'RMSE', 'MAE std', 'MAPE% std', 'RMSE std'])"
   ]
  },
  {
   "cell_type": "code",
   "execution_count": null,
   "metadata": {
    "collapsed": true
   },
   "outputs": [],
   "source": [
    "mogptk.plot_prediction(model_csm, grid=(5, 2), names=cols, title='Stocks CSM');"
   ]
  },
  {
   "cell_type": "markdown",
   "metadata": {},
   "source": [
    "# SM-LMC"
   ]
  },
  {
   "cell_type": "code",
   "execution_count": null,
   "metadata": {
    "collapsed": true
   },
   "outputs": [],
   "source": [
    "n_trials = 1\n",
    "\n",
    "smlmc_mae = np.zeros((n_trials, len(df_list)))\n",
    "smlmc_mape = np.zeros((n_trials, len(df_list)))\n",
    "smlmc_rmse = np.zeros((n_trials, len(df_list)))\n",
    "\n",
    "for n in range(n_trials):\n",
    "    print('Trial ', n)\n",
    "    model_smlmc = mogptk.SM_LMC(data, Q=5)\n",
    "    model_smlmc.init_params('BNSE')\n",
    "    \n",
    "    model_smlmc.train(method='L-BFGS-B',\n",
    "                      maxiter=2000,\n",
    "                      tol=1e-50,\n",
    "                      likelihood=like,\n",
    "                      variational=True,\n",
    "                      like_params=like_params)\n",
    "    \n",
    "    error = mogptk.test_errors(model_smlmc, x_test=x_test, y_test=y_test)\n",
    "    \n",
    "    smlmc_mae[n, :] = np.array(error[0])[:, 0]\n",
    "    smlmc_mape[n, :] = np.array(error[0])[:, 1]\n",
    "    smlmc_rmse[n, :] = np.array(error[0])[:, 2]\n",
    "\n",
    "pd.DataFrame(np.c_[smlmc_mae.mean(0), smlmc_mape.mean(0), smlmc_rmse.mean(0),\n",
    "                   smlmc_mae.std(0), smlmc_mape.std(0), smlmc_rmse.std(0)],\n",
    "             columns=['MAE', 'MAPE%', 'RMSE', 'MAE std', 'MAPE% std', 'RMSE std'])"
   ]
  },
  {
   "cell_type": "code",
   "execution_count": null,
   "metadata": {
    "collapsed": true
   },
   "outputs": [],
   "source": [
    "mogptk.plot_prediction(model_smlmc, grid=(5, 2), names=cols, title='Stocks SM-LMC');"
   ]
  },
  {
   "cell_type": "code",
   "execution_count": null,
   "metadata": {
    "collapsed": true
   },
   "outputs": [],
   "source": []
  }
 ],
 "metadata": {
  "anaconda-cloud": {},
  "kernelspec": {
   "display_name": "tfgpu",
   "language": "python",
   "name": "tfgpu"
  },
  "language_info": {
   "codemirror_mode": {
    "name": "ipython",
    "version": 3
   },
   "file_extension": ".py",
   "mimetype": "text/x-python",
   "name": "python",
   "nbconvert_exporter": "python",
   "pygments_lexer": "ipython3",
   "version": "3.6.8"
  }
 },
 "nbformat": 4,
 "nbformat_minor": 2
}
