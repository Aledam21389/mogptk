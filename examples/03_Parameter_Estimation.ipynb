{
 "cells": [
  {
   "cell_type": "markdown",
   "metadata": {},
   "source": [
    "# 03 Parameter estimation\n",
    "\n",
    "Spectral kernels are flexible but difficult to optimize, to solve this we equip the toolkit with different ways to initialize the parameters before training.\n",
    "\n",
    "In this notebook we will showcase the diferent initialization for single output spectral mixture and multioutput kernels.\n",
    "\n",
    "For single output spectral mixture kernel there is 3 ways:\n",
    "* __Random__: Uses heuristic defined in ndrew Wilson PHD thesis, \n",
    "    - Inverse of lengthscales should be drawn from truncated Gaussian |N(0, max_dist^2)|\n",
    "    - Draw means from Unif(0, 0.5 / minimum distance between two points)\n",
    "    - Mixture weights should be roughly the std  of the y values divided by the number of mixtures\n",
    "    - \n",
    "* __BNSE__: Uses Bayesian Nonparametric Spectral Estimation (Tobar 2018) to estimate the power spectral density (PSD) of the signal, and asign.\n",
    "    - Find the peaks in the PSD and order it by magnitude\n",
    "    - Means as the position of the first Q peaks\n",
    "    - Lengthscales as the width of the peaks.\n",
    "    - Mixture weight as the normalized peaks magnitude.\n",
    "    \n",
    "\n",
    "* __Lomb Scargle__: Uses Lomb Scargle periodogram and obtain an estimate of the PSD, then follow the same heuristic as BNSE.\n",
    "\n",
    "\n",
    "For multiputput spectral kernels there is 2 ways:\n",
    "\n",
    "* __SM__: Fit and independent GP with spectral mixture kernel for each channel, then use those parameters as initial parameters.\n",
    "\n",
    "* __BNSE__: For each channel estimate the PSD using BNSE, and apply the same heuristics as the single output case.\n",
    "\n",
    "In both cases the noise for each channel is initializated as $1/30$ of the channels variance."
   ]
  },
  {
   "cell_type": "code",
   "execution_count": null,
   "metadata": {
    "ExecuteTime": {
     "end_time": "2019-07-26T20:47:42.356969Z",
     "start_time": "2019-07-26T20:47:37.443451Z"
    }
   },
   "outputs": [],
   "source": [
    "# import library if it is not installed\n",
    "import sys\n",
    "sys.path.insert(0, '../')\n",
    "\n",
    "import mogptk\n",
    "import numpy as np\n",
    "\n",
    "import matplotlib.pyplot as plt\n",
    "import seaborn as sns\n",
    "\n",
    "%reload_ext autoreload\n",
    "%autoreload 2"
   ]
  },
  {
   "cell_type": "code",
   "execution_count": null,
   "metadata": {
    "ExecuteTime": {
     "end_time": "2019-07-26T20:47:42.356969Z",
     "start_time": "2019-07-26T20:47:37.443451Z"
    }
   },
   "outputs": [],
   "source": [
    "sns.set_context('notebook', font_scale=1.4)\n",
    "sns.set_style('ticks')\n",
    "plt.rcParams['figure.figsize'] = (10, 4)"
   ]
  },
  {
   "cell_type": "markdown",
   "metadata": {},
   "source": [
    "## Synthetic  Data\n",
    "\n",
    "To showcase the initialization, we first create a dataset consisting in a sum of sinuoids\n",
    "\n",
    "$$ y(t) = \\sum_{i=1}^{3} a_i \\sin(t \\cdot f_i) + \\epsilon, \\quad \\epsilon \\sim \\mathcal{N}(0, \\sigma_n^2) $$\n",
    "\n",
    "With known frequencies $f_i$ and amplitudes $a_i$, when fiting the spectral mixture kernel, we should should expect the _means_ to have similar values as the frequencies and the _mixture weigths_ to be in proportion of the amplitudes.\n",
    "\n",
    "First we create a numpy array with the function, then we erase half of the data in order to do predictions."
   ]
  },
  {
   "cell_type": "code",
   "execution_count": null,
   "metadata": {
    "ExecuteTime": {
     "end_time": "2019-07-26T20:47:42.534099Z",
     "start_time": "2019-07-26T20:47:42.505555Z"
    }
   },
   "outputs": [],
   "source": [
    "# target freq to estimate\n",
    "target_freqs = np.array([0.2, 1, 2])\n",
    "target_amps = [1, 0.5, 0.5]\n",
    "\n",
    "n_points = 500\n",
    "\n",
    "t = np.linspace(0, 20, n_points)\n",
    "y = np.zeros(n_points)\n",
    "\n",
    "for i in range(3):\n",
    "    y += target_amps[i] * np.sin(2 * np.pi * target_freqs[i] * t)\n",
    "    \n",
    "y_n = y + np.random.normal(scale=0.4, size=n_points)\n",
    "\n",
    "# data class\n",
    "data = mogptk.Data(t.reshape(-1, 1), y_n)\n",
    "data.remove_range(start=10.0, end=None)\n",
    "\n",
    "x_pred = t\n",
    "\n",
    "data.plot();"
   ]
  },
  {
   "cell_type": "markdown",
   "metadata": {},
   "source": [
    "We show the spectrum and can the there is 3 peaks, each one in one of the frequencies"
   ]
  },
  {
   "cell_type": "code",
   "execution_count": null,
   "metadata": {},
   "outputs": [],
   "source": [
    "data.plot_spectrum()"
   ]
  },
  {
   "cell_type": "markdown",
   "metadata": {},
   "source": [
    "## No initialization\n",
    "\n",
    "Without initialization, the kernel parameters are sampled random from $(0, 1]$, the PSD given by the Fourier transform of the kernel"
   ]
  },
  {
   "cell_type": "code",
   "execution_count": null,
   "metadata": {
    "ExecuteTime": {
     "end_time": "2019-07-26T20:47:43.357508Z",
     "start_time": "2019-07-26T20:47:43.335360Z"
    }
   },
   "outputs": [],
   "source": [
    "# create model\n",
    "model = mogptk.SM([data], Q=4)\n",
    "\n",
    "model.plot_psd(title='PSD with random parameters')"
   ]
  },
  {
   "cell_type": "markdown",
   "metadata": {},
   "source": [
    "Now we can do predictions with the nontrained noninitialized model"
   ]
  },
  {
   "cell_type": "code",
   "execution_count": null,
   "metadata": {},
   "outputs": [],
   "source": [
    "model.predict(x_pred)\n",
    "model.plot_prediction(title='Untrained noninitialized model')"
   ]
  },
  {
   "cell_type": "markdown",
   "metadata": {},
   "source": [
    "## Initialization"
   ]
  },
  {
   "cell_type": "code",
   "execution_count": null,
   "metadata": {
    "ExecuteTime": {
     "end_time": "2019-07-26T20:47:44.875904Z",
     "start_time": "2019-07-26T20:47:43.821961Z"
    }
   },
   "outputs": [],
   "source": [
    "# initialize params\n",
    "method = 'BNSE'\n",
    "# method = 'LS'\n",
    "# method = 'Random'\n",
    "\n",
    "model.estimate_params(method=method)\n",
    "\n",
    "model.plot_psd(title='PSD with {} initialization'.format(method))"
   ]
  },
  {
   "cell_type": "code",
   "execution_count": null,
   "metadata": {},
   "outputs": [],
   "source": [
    "model.predict(x_pred)\n",
    "model.plot_prediction(title='Untrained model with {} initialization'.format(method))"
   ]
  },
  {
   "cell_type": "markdown",
   "metadata": {},
   "source": [
    "## Training"
   ]
  },
  {
   "cell_type": "code",
   "execution_count": null,
   "metadata": {},
   "outputs": [],
   "source": [
    "model.train(method='L-BFGS-B', maxiter=500, tol=1e-20)\n",
    "\n",
    "model.plot_psd(title='PSD with model trained')"
   ]
  },
  {
   "cell_type": "code",
   "execution_count": null,
   "metadata": {
    "ExecuteTime": {
     "end_time": "2019-07-26T20:47:51.191760Z",
     "start_time": "2019-07-26T20:47:50.708769Z"
    }
   },
   "outputs": [],
   "source": [
    "y_pred, lower_ci, upper_ci  = model.predict(x_pred)\n",
    "model.plot_prediction(title='Prediction with trained model')"
   ]
  },
  {
   "cell_type": "markdown",
   "metadata": {},
   "source": [
    "# Initialization for multioutput kernels"
   ]
  },
  {
   "cell_type": "markdown",
   "metadata": {},
   "source": [
    "First we create a similar dataset as the used in the [00 - Quick Start](https://github.com/GAMES-UChile/MultiOutputGP-Toolkit/blob/master/examples/00_Quick_Start.ipynb) notebook."
   ]
  },
  {
   "cell_type": "code",
   "execution_count": null,
   "metadata": {},
   "outputs": [],
   "source": [
    "n_points = 100\n",
    "t = np.linspace(0, 6, n_points)\n",
    "\n",
    "y1 = np.sin(6 * t)\n",
    "y1 += np.random.normal(scale=0.1, size=len(t))\n",
    "\n",
    "y2 = np.sin(6 * t + 2)\n",
    "y2 += np.random.normal(scale=0.1, size=len(t))\n",
    "\n",
    "\n",
    "y3 = np.sin(6 * t) - np.sin(4 * t)\n",
    "y3 += np.random.normal(scale=0.1, size=len(t))\n",
    "\n",
    "\n",
    "y4 = 3 * np.sin(6 * (t - 2))\n",
    "y4 += np.random.normal(scale=0.1, size=len(t))\n",
    "\n",
    "data1 = mogptk.Data(t, y1, name='A')\n",
    "data2 = mogptk.Data(t, y2, name='B')\n",
    "data3 = mogptk.Data(t, y3, name='C')\n",
    "data4 = mogptk.Data(t, y4, name='D')\n",
    "\n",
    "# create dataset\n",
    "dataset = mogptk.DataSet(data1, data2, data3, data4)\n",
    "\n",
    "for data in dataset:\n",
    "    data.remove_randomly(pct=0.3)\n",
    "\n",
    "# remove for channel 0\n",
    "dataset[0].remove_range(start=2.0, end=None)\n",
    "\n",
    "# create input for model prediction\n",
    "x_pred = [t for i in len(dataset)]"
   ]
  },
  {
   "cell_type": "markdown",
   "metadata": {},
   "source": [
    "## Create model"
   ]
  },
  {
   "cell_type": "code",
   "execution_count": null,
   "metadata": {},
   "outputs": [],
   "source": [
    "model_2 = mogptk.MOSM(dataset, Q=2)\n",
    "\n",
    "model_2.predict(x_pred)\n",
    "model_2.plot_prediction(title='Untrained noninitialized model'.)"
   ]
  },
  {
   "cell_type": "markdown",
   "metadata": {},
   "source": [
    "## Initialization"
   ]
  },
  {
   "cell_type": "code",
   "execution_count": null,
   "metadata": {},
   "outputs": [],
   "source": [
    "method = 'BNSE'\n",
    "# method = 'SM'\n",
    "\n",
    "model_2.estimate_params(method)\n",
    "\n",
    "model_2.predict(x_pred)\n",
    "model_2.plot_prediction(title='Untrained model with {} initialization'.format(method))"
   ]
  },
  {
   "cell_type": "markdown",
   "metadata": {},
   "source": [
    "## Training"
   ]
  },
  {
   "cell_type": "code",
   "execution_count": null,
   "metadata": {},
   "outputs": [],
   "source": [
    "model_2.train()\n",
    "\n",
    "model_2.predict(x_pred)\n",
    "model_2.plot_prediction(title='Trained model')"
   ]
  }
 ],
 "metadata": {
  "anaconda-cloud": {},
  "kernelspec": {
   "display_name": "Python [conda env:tf2_gpu]",
   "language": "python",
   "name": "conda-env-tf2_gpu-py"
  },
  "language_info": {
   "codemirror_mode": {
    "name": "ipython",
    "version": 3
   },
   "file_extension": ".py",
   "mimetype": "text/x-python",
   "name": "python",
   "nbconvert_exporter": "python",
   "pygments_lexer": "ipython3",
   "version": "3.7.6"
  },
  "nbpresent": {
   "slides": {},
   "themes": {
    "default": "3c73f974-bb17-4a98-9a42-db81b0035f72",
    "theme": {}
   }
  }
 },
 "nbformat": 4,
 "nbformat_minor": 2
}
