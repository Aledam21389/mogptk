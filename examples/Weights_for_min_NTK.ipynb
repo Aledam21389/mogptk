{
 "cells": [
  {
   "cell_type": "markdown",
   "metadata": {},
   "source": [
    "# Magnitude structure for minimizing negative transfer of knowledge in MOGP\n",
    "\n",
    "\n",
    "Given a number of outputs $M=3$, each one with $Q_{\\text{unique}}=3$ latent components, with $Q_{\\text{pair}}=1$  pairwise components and $Q_{\\text{shared}}=2$ shared components.\n",
    "\n",
    "This leads to a total of \n",
    "\n",
    "\\begin{align}\n",
    "Q_{\\text{total}} & = M * Q_u + \\binom{M}{2} Q_p + Q_s \\\\\n",
    "Q_{\\text{total}} & = 3 * 3 + 3 * 1 * + 2 = 14\n",
    "\\end{align}\n",
    "\n",
    "With this, a binary matrix with the weights has the form:"
   ]
  },
  {
   "cell_type": "markdown",
   "metadata": {},
   "source": [
    "__TODO: make so that the parameter fix can be done to COMPONENTS and CHANNELS__"
   ]
  },
  {
   "cell_type": "code",
   "execution_count": 1,
   "metadata": {
    "ExecuteTime": {
     "end_time": "2020-01-02T20:40:25.064685Z",
     "start_time": "2020-01-02T20:40:23.495912Z"
    }
   },
   "outputs": [],
   "source": [
    "import numpy as np\n",
    "import matplotlib.pyplot as plt\n",
    "\n",
    "import itertools\n",
    "from scipy.special import comb\n",
    "\n",
    "import sys\n",
    "sys.path.insert(0, '../')\n",
    "\n",
    "import mogptk"
   ]
  },
  {
   "cell_type": "code",
   "execution_count": 2,
   "metadata": {
    "ExecuteTime": {
     "end_time": "2020-01-02T20:40:25.073796Z",
     "start_time": "2020-01-02T20:40:25.066978Z"
    }
   },
   "outputs": [],
   "source": [
    "def create_mask(M, Q_u, Q_p, Q_s):\n",
    "    # total number of components\n",
    "    Q = int(Q_u.sum() + Q_s + comb(M, 2) * Q_p)\n",
    "    \n",
    "    W = np.zeros((Q, M))\n",
    "\n",
    "    # unique\n",
    "    for i, q in enumerate(Q_u):\n",
    "        if i==0:\n",
    "            W[:q, i] = np.ones(q)\n",
    "        else:\n",
    "            aux = np.cumsum(Q_u)[i - 1]\n",
    "            W[aux:aux+q, i] = np.ones(q)\n",
    "\n",
    "    # pairwise\n",
    "    if Q_p > 0:\n",
    "        pairs = list(itertools.combinations(range(M), 2))\n",
    "\n",
    "        aux = Q_u.sum()\n",
    "        for p in pairs:\n",
    "            W[aux:aux+Q_p, p] = np.ones(Q_p)\n",
    "            aux += Q_p\n",
    "\n",
    "    # shared\n",
    "    if Q_s > 0:\n",
    "        W[-Q_s:] = np.ones((Q_s, M))\n",
    "    \n",
    "    return W, Q"
   ]
  },
  {
   "cell_type": "code",
   "execution_count": 3,
   "metadata": {
    "ExecuteTime": {
     "end_time": "2020-01-02T20:40:25.175592Z",
     "start_time": "2020-01-02T20:40:25.075686Z"
    }
   },
   "outputs": [],
   "source": [
    "# channels\n",
    "M = 4\n",
    "# unique\n",
    "Q_u = np.array([1, 1, 1, 1]) \n",
    "# pairwise\n",
    "Q_p = 1\n",
    "# shared\n",
    "Q_s = 1 \n",
    "\n",
    "W, _ = create_mask(M, Q_u, Q_p, Q_s)"
   ]
  },
  {
   "cell_type": "code",
   "execution_count": 4,
   "metadata": {
    "ExecuteTime": {
     "end_time": "2020-01-02T20:40:25.467628Z",
     "start_time": "2020-01-02T20:40:25.180231Z"
    }
   },
   "outputs": [
    {
     "data": {
      "text/plain": [
       "array([5., 5., 5., 5.])"
      ]
     },
     "execution_count": 4,
     "metadata": {},
     "output_type": "execute_result"
    },
    {
     "data": {
      "image/png": "[encoded data removed]",
      "text/plain": [
       "<Figure size 288x792 with 1 Axes>"
      ]
     },
     "metadata": {
      "needs_background": "light"
     },
     "output_type": "display_data"
    }
   ],
   "source": [
    "plt.matshow(W)\n",
    "W.sum(0)"
   ]
  },
  {
   "cell_type": "markdown",
   "metadata": {},
   "source": [
    "# Use mask on MOSM"
   ]
  },
  {
   "cell_type": "code",
   "execution_count": 5,
   "metadata": {
    "ExecuteTime": {
     "end_time": "2020-01-02T20:40:25.476493Z",
     "start_time": "2020-01-02T20:40:25.470123Z"
    }
   },
   "outputs": [],
   "source": [
    "n_points = 100\n",
    "t = np.linspace(0, 6, n_points)\n",
    "\n",
    "y1 = np.sin(6 * t)\n",
    "y2 = np.sin(6 * t + 2)\n",
    "y3 = np.sin(6 * t) - np.sin(4 * t)\n",
    "y4 = 3 * np.sin(6 * (t - 2))\n",
    "\n",
    "data1 = mogptk.Data(t, y1, name='A')\n",
    "data2 = mogptk.Data(t, y2, name='B')\n",
    "data3 = mogptk.Data(t, y3, name='C')\n",
    "data4 = mogptk.Data(t, y4, name='D')\n",
    "\n",
    "# create dataset\n",
    "dataset = mogptk.DataSet(data1, data2, data3, data4)"
   ]
  },
  {
   "cell_type": "code",
   "execution_count": 6,
   "metadata": {
    "ExecuteTime": {
     "end_time": "2020-01-02T20:40:40.767631Z",
     "start_time": "2020-01-02T20:40:25.478354Z"
    }
   },
   "outputs": [],
   "source": [
    "# channels\n",
    "M = 4\n",
    "# unique\n",
    "Q_u = np.array([1, 1, 1]) \n",
    "# pairwise\n",
    "Q_p = 1\n",
    "# shared\n",
    "Q_s = 0\n",
    "\n",
    "W, Q = create_mask(M, Q_u, Q_p, Q_s)\n",
    "\n",
    "model = mogptk.MOSM(dataset, Q)"
   ]
  },
  {
   "cell_type": "code",
   "execution_count": 8,
   "metadata": {
    "ExecuteTime": {
     "end_time": "2020-01-02T20:40:57.173045Z",
     "start_time": "2020-01-02T20:40:57.165627Z"
    }
   },
   "outputs": [],
   "source": [
    "params = model.get_params()"
   ]
  },
  {
   "cell_type": "code",
   "execution_count": 19,
   "metadata": {
    "ExecuteTime": {
     "end_time": "2020-01-02T20:43:52.568025Z",
     "start_time": "2020-01-02T20:43:52.555573Z"
    }
   },
   "outputs": [
    {
     "data": {
      "text/plain": [
       "array([[ 0.88995269, -0.84303907,  0.35598524,  0.43291051],\n",
       "       [-0.76170202,  0.17857939, -0.2968727 , -0.14015862],\n",
       "       [ 0.66116012,  0.68146001,  1.73743902,  1.32710558],\n",
       "       [ 1.08971898, -0.38236019, -0.67710633, -0.21055198],\n",
       "       [ 1.72234122,  1.92508297,  1.33887081, -1.15586968],\n",
       "       [ 1.67996658, -0.01533544,  0.1615417 , -0.76185096],\n",
       "       [ 1.7635527 ,  0.35322751,  0.10936746,  0.37947871],\n",
       "       [ 1.90966481,  0.77209389,  0.54219039, -1.06538648],\n",
       "       [ 1.07223348, -1.74186502, -0.91746637,  0.23008413]])"
      ]
     },
     "execution_count": 19,
     "metadata": {},
     "output_type": "execute_result"
    }
   ],
   "source": [
    "np.array([p['magnitude']for p in params[:-1]])"
   ]
  },
  {
   "cell_type": "code",
   "execution_count": 26,
   "metadata": {
    "ExecuteTime": {
     "end_time": "2020-01-02T21:11:29.520657Z",
     "start_time": "2020-01-02T21:11:24.562154Z"
    }
   },
   "outputs": [],
   "source": [
    "# set params\n",
    "for q in range(model.Q):\n",
    "    model.set_param(q, 'magnitude', W[q,:])"
   ]
  },
  {
   "cell_type": "code",
   "execution_count": null,
   "metadata": {},
   "outputs": [],
   "source": []
  }
 ],
 "metadata": {
  "kernelspec": {
   "display_name": "tfgpu",
   "language": "python",
   "name": "tfgpu"
  },
  "language_info": {
   "codemirror_mode": {
    "name": "ipython",
    "version": 3
   },
   "file_extension": ".py",
   "mimetype": "text/x-python",
   "name": "python",
   "nbconvert_exporter": "python",
   "pygments_lexer": "ipython3",
   "version": "3.6.8"
  }
 },
 "nbformat": 4,
 "nbformat_minor": 2
}
