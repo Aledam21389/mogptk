{
 "cells": [
  {
   "cell_type": "markdown",
   "metadata": {},
   "source": [
    "# Basic example using the MOSM, Conv, CSM and SM-LMC kernels\n",
    "Here we show the basic usage of the toolkit using a contrived example dataset of three sinusoidal signals. The three sinusses are each put in a channel and have the same frequency but differ in phase. The observations are randomly picked in the range of [0,4], where the first channel will have the second half of the observations removed. Each of the kernels is being evaluated on the same dataset so that we can easily compare the results. Finally, a comparison is made between the different kernels and the errors they obtain."
   ]
  },
  {
   "cell_type": "code",
   "execution_count": 1,
   "metadata": {},
   "outputs": [],
   "source": [
    "# import library if it is not installed\n",
    "import sys\n",
    "sys.path.insert(0, '../')\n",
    "\n",
    "import mogptk\n",
    "import numpy as np\n",
    "\n",
    "# TODO: remove when done:\n",
    "%reload_ext autoreload\n",
    "%autoreload 2"
   ]
  },
  {
   "cell_type": "markdown",
   "metadata": {},
   "source": [
    "## Generate dataset"
   ]
  },
  {
   "cell_type": "code",
   "execution_count": 2,
   "metadata": {
    "scrolled": false
   },
   "outputs": [],
   "source": [
    "data = mogptk.Data()\n",
    "\n",
    "data.add_function(lambda x: np.sin(6*x), n=20, start=0.0, end=4.0, var=0.03, name='A')\n",
    "data.add_function(lambda x: np.sin(6*x)+2, n=20, start=0.0, end=4.0, var=0.03, name='B')\n",
    "data.add_function(lambda x: np.sin(6*x)+2 - np.sin(4*x), n=20, start=0.0, end=4.0, var=0.03, name='C')\n",
    "\n",
    "data.remove_range('A', start=2.0, end=None)"
   ]
  },
  {
   "cell_type": "markdown",
   "metadata": {},
   "source": [
    "## MOSM"
   ]
  },
  {
   "cell_type": "code",
   "execution_count": 9,
   "metadata": {
    "scrolled": false
   },
   "outputs": [
    {
     "data": {
      "text/plain": [
       "[{'magnitude': array([0.60165505, 0.43129299, 0.31466658]),\n",
       "  'mean': array([[ 0.55368507, -1.21678965,  0.73240389]]),\n",
       "  'variance': array([[0.4028232 , 0.96761288, 0.01520945]]),\n",
       "  'delay': array([[0., 0., 0.]]),\n",
       "  'phase': array([0., 0., 0.]),\n",
       "  'noise': array([0.29080653, 0.16220372, 0.68134703])},\n",
       " {'magnitude': array([-0.99632054,  2.8567706 , -1.42035188]),\n",
       "  'mean': array([[-0.40018327, -0.24111434, -0.31260152]]),\n",
       "  'variance': array([[0.65336648, 0.09336869, 0.5669838 ]]),\n",
       "  'delay': array([[0., 0., 0.]]),\n",
       "  'phase': array([0., 0., 0.]),\n",
       "  'noise': array([0.74514307, 0.6033652 , 0.57624663])},\n",
       " {'magnitude': array([-0.11044569, -0.7034589 ,  0.47207935]),\n",
       "  'mean': array([[-0.65362344,  0.16680292, -0.56969792]]),\n",
       "  'variance': array([[0.89728699, 0.50354221, 0.848873  ]]),\n",
       "  'delay': array([[0., 0., 0.]]),\n",
       "  'phase': array([0., 0., 0.]),\n",
       "  'noise': array([0.86247205, 0.88070909, 0.48503308])}]"
      ]
     },
     "metadata": {},
     "output_type": "display_data"
    },
    {
     "name": "stdout",
     "output_type": "stream",
     "text": [
      "Building...\n"
     ]
    },
    {
     "name": "stderr",
     "output_type": "stream",
     "text": [
      "WARNING:gpflow.logdensities:Shape of x must be 2D at computation.\n"
     ]
    },
    {
     "name": "stdout",
     "output_type": "stream",
     "text": [
      "Optimizing...\n",
      "Optimization terminated successfully.\n",
      "         Current function value: -16.969494\n",
      "         Iterations: 34\n",
      "         Function evaluations: 42\n",
      "         Gradient evaluations: 42\n",
      "INFO:tensorflow:Optimization terminated with:\n",
      "  Message: Optimization terminated successfully.\n",
      "  Objective function value: -16.969494\n",
      "  Number of iterations: 34\n",
      "  Number of functions evaluations: 42\n",
      "Done\n",
      "[[ 0.55368507 -1.21678965  0.73240389]] [1.e-06]\n",
      "[[-0.40018327 -0.24111434 -0.31260152]] [0.00370827]\n",
      "[[-0.65362344  0.16680292 -0.56969792]] [0.95527538]\n",
      "Building...\n"
     ]
    },
    {
     "name": "stderr",
     "output_type": "stream",
     "text": [
      "WARNING:gpflow.logdensities:Shape of x must be 2D at computation.\n"
     ]
    },
    {
     "name": "stdout",
     "output_type": "stream",
     "text": [
      "Optimizing...\n",
      "Optimization terminated successfully.\n",
      "         Current function value: 1.227931\n",
      "         Iterations: 136\n",
      "         Function evaluations: 161\n",
      "         Gradient evaluations: 161\n",
      "INFO:tensorflow:Optimization terminated with:\n",
      "  Message: Optimization terminated successfully.\n",
      "  Objective function value: 1.227931\n",
      "  Number of iterations: 136\n",
      "  Number of functions evaluations: 161\n",
      "Done\n",
      "[[1.e-06 1.e-06 1.e-06]] [1.e-06]\n"
     ]
    },
    {
     "ename": "IndexError",
     "evalue": "index 1 is out of bounds for axis 0 with size 1",
     "output_type": "error",
     "traceback": [
      "\u001b[0;31m---------------------------------------------------------------------------\u001b[0m",
      "\u001b[0;31mIndexError\u001b[0m                                Traceback (most recent call last)",
      "\u001b[0;32m<ipython-input-9-fde43dc572ba>\u001b[0m in \u001b[0;36m<module>\u001b[0;34m\u001b[0m\n\u001b[1;32m      1\u001b[0m \u001b[0mmodel_mosm\u001b[0m \u001b[0;34m=\u001b[0m \u001b[0mmogptk\u001b[0m\u001b[0;34m.\u001b[0m\u001b[0mMOSM\u001b[0m\u001b[0;34m(\u001b[0m\u001b[0mdata\u001b[0m\u001b[0;34m,\u001b[0m \u001b[0mQ\u001b[0m\u001b[0;34m=\u001b[0m\u001b[0;36m3\u001b[0m\u001b[0;34m)\u001b[0m\u001b[0;34m\u001b[0m\u001b[0;34m\u001b[0m\u001b[0m\n\u001b[1;32m      2\u001b[0m \u001b[0mdisplay\u001b[0m\u001b[0;34m(\u001b[0m\u001b[0mmodel_mosm\u001b[0m\u001b[0;34m.\u001b[0m\u001b[0mget_params\u001b[0m\u001b[0;34m(\u001b[0m\u001b[0;34m)\u001b[0m\u001b[0;34m)\u001b[0m\u001b[0;34m\u001b[0m\u001b[0;34m\u001b[0m\u001b[0m\n\u001b[0;32m----> 3\u001b[0;31m \u001b[0mmodel_mosm\u001b[0m\u001b[0;34m.\u001b[0m\u001b[0mestimate_params\u001b[0m\u001b[0;34m(\u001b[0m\u001b[0;34m)\u001b[0m\u001b[0;34m\u001b[0m\u001b[0;34m\u001b[0m\u001b[0m\n\u001b[0m\u001b[1;32m      4\u001b[0m \u001b[0mdisplay\u001b[0m\u001b[0;34m(\u001b[0m\u001b[0mmodel_mosm\u001b[0m\u001b[0;34m.\u001b[0m\u001b[0mget_params\u001b[0m\u001b[0;34m(\u001b[0m\u001b[0;34m)\u001b[0m\u001b[0;34m)\u001b[0m\u001b[0;34m\u001b[0m\u001b[0;34m\u001b[0m\u001b[0m\n",
      "\u001b[0;32m~/dev/chile/GPs/MultiOutputGP-Toolbox/mogptk/models.py\u001b[0m in \u001b[0;36mestimate_params\u001b[0;34m(self)\u001b[0m\n\u001b[1;32m     97\u001b[0m                 \u001b[0mprint\u001b[0m\u001b[0;34m(\u001b[0m\u001b[0mself\u001b[0m\u001b[0;34m.\u001b[0m\u001b[0mparameters\u001b[0m\u001b[0;34m[\u001b[0m\u001b[0mq\u001b[0m\u001b[0;34m]\u001b[0m\u001b[0;34m[\u001b[0m\u001b[0;34m\"mean\"\u001b[0m\u001b[0;34m]\u001b[0m\u001b[0;34m,\u001b[0m \u001b[0mmeans\u001b[0m\u001b[0;34m)\u001b[0m\u001b[0;34m\u001b[0m\u001b[0;34m\u001b[0m\u001b[0m\n\u001b[1;32m     98\u001b[0m                 \u001b[0mself\u001b[0m\u001b[0;34m.\u001b[0m\u001b[0mparameters\u001b[0m\u001b[0;34m[\u001b[0m\u001b[0mq\u001b[0m\u001b[0;34m]\u001b[0m\u001b[0;34m[\u001b[0m\u001b[0;34m\"magnitude\"\u001b[0m\u001b[0;34m]\u001b[0m\u001b[0;34m[\u001b[0m\u001b[0mchannel\u001b[0m\u001b[0;34m]\u001b[0m \u001b[0;34m=\u001b[0m \u001b[0mweights\u001b[0m\u001b[0;34m\u001b[0m\u001b[0;34m\u001b[0m\u001b[0m\n\u001b[0;32m---> 99\u001b[0;31m                 \u001b[0mself\u001b[0m\u001b[0;34m.\u001b[0m\u001b[0mparameters\u001b[0m\u001b[0;34m[\u001b[0m\u001b[0mq\u001b[0m\u001b[0;34m]\u001b[0m\u001b[0;34m[\u001b[0m\u001b[0;34m\"mean\"\u001b[0m\u001b[0;34m]\u001b[0m\u001b[0;34m[\u001b[0m\u001b[0mchannel\u001b[0m\u001b[0;34m]\u001b[0m \u001b[0;34m=\u001b[0m \u001b[0mmeans\u001b[0m\u001b[0;34m\u001b[0m\u001b[0;34m\u001b[0m\u001b[0m\n\u001b[0m\u001b[1;32m    100\u001b[0m                 \u001b[0mself\u001b[0m\u001b[0;34m.\u001b[0m\u001b[0mparameters\u001b[0m\u001b[0;34m[\u001b[0m\u001b[0mq\u001b[0m\u001b[0;34m]\u001b[0m\u001b[0;34m[\u001b[0m\u001b[0;34m\"variance\"\u001b[0m\u001b[0;34m]\u001b[0m\u001b[0;34m[\u001b[0m\u001b[0mchannel\u001b[0m\u001b[0;34m]\u001b[0m \u001b[0;34m=\u001b[0m \u001b[0mscales\u001b[0m\u001b[0;34m\u001b[0m\u001b[0;34m\u001b[0m\u001b[0m\n\u001b[1;32m    101\u001b[0m \u001b[0;34m\u001b[0m\u001b[0m\n",
      "\u001b[0;31mIndexError\u001b[0m: index 1 is out of bounds for axis 0 with size 1"
     ]
    }
   ],
   "source": [
    "model_mosm = mogptk.MOSM(data, Q=3)\n",
    "display(model_mosm.get_params())\n",
    "model_mosm.estimate_params()\n",
    "display(model_mosm.get_params())"
   ]
  },
  {
   "cell_type": "code",
   "execution_count": null,
   "metadata": {},
   "outputs": [],
   "source": [
    "model_mosm.train(disp=True)\n",
    "display(model_mosm.get_params())"
   ]
  },
  {
   "cell_type": "code",
   "execution_count": null,
   "metadata": {
    "scrolled": false
   },
   "outputs": [],
   "source": [
    "model_mosm.set_prediction_range(channel='A', start=0, end=4, step=0.02)\n",
    "model_mosm.set_prediction_range(channel='B', start=0, end=4, step=0.02)\n",
    "model_mosm.set_prediction_range(channel='C', start=0, end=4, step=0.02)\n",
    "model_mosm.predict()\n",
    "\n",
    "mogptk.plot(model_mosm)"
   ]
  },
  {
   "cell_type": "markdown",
   "metadata": {},
   "source": [
    "## CSM"
   ]
  },
  {
   "cell_type": "code",
   "execution_count": null,
   "metadata": {},
   "outputs": [],
   "source": [
    "model_csm = mogptk.CSM(data, Q=3)\n",
    "model_csm.build()\n",
    "model_csm.optimize()"
   ]
  },
  {
   "cell_type": "code",
   "execution_count": null,
   "metadata": {},
   "outputs": [],
   "source": [
    "model_csm.set_prediction_range(channel='A', start=0, end=4, step=0.02)\n",
    "model_csm.set_prediction_range(channel='B', start=0, end=4, step=0.02)\n",
    "model_csm.set_prediction_range(channel='C', start=0, end=4, step=0.02)\n",
    "model_csm.predict()\n",
    "\n",
    "mogptk.plot(model_csm)"
   ]
  },
  {
   "cell_type": "markdown",
   "metadata": {},
   "source": [
    "## CG"
   ]
  },
  {
   "cell_type": "code",
   "execution_count": null,
   "metadata": {},
   "outputs": [],
   "source": [
    "model_cg = mogptk.CG(data, Q=3)\n",
    "model_cg.build()\n",
    "model_cg.optimize()"
   ]
  },
  {
   "cell_type": "code",
   "execution_count": null,
   "metadata": {},
   "outputs": [],
   "source": [
    "model_cg.set_prediction_range(channel='A', start=0, end=4, step=0.02)\n",
    "model_cg.set_prediction_range(channel='B', start=0, end=4, step=0.02)\n",
    "model_cg.set_prediction_range(channel='C', start=0, end=4, step=0.02)\n",
    "model_cg.predict()\n",
    "\n",
    "mogptk.plot(model_cg)"
   ]
  },
  {
   "cell_type": "markdown",
   "metadata": {},
   "source": [
    "## SM-LMC"
   ]
  },
  {
   "cell_type": "code",
   "execution_count": null,
   "metadata": {},
   "outputs": [],
   "source": [
    "model_smlmc = mogptk.SM_LMC(data, Q=3)\n",
    "model_smlmc.build()\n",
    "model_smlmc.optimize()"
   ]
  },
  {
   "cell_type": "code",
   "execution_count": null,
   "metadata": {},
   "outputs": [],
   "source": [
    "model_smlmc.set_prediction_range(channel='A', start=0, end=4, step=0.02)\n",
    "model_smlmc.set_prediction_range(channel='B', start=0, end=4, step=0.02)\n",
    "model_smlmc.set_prediction_range(channel='C', start=0, end=4, step=0.02)\n",
    "model_smlmc.predict()\n",
    "\n",
    "mogptk.plot(model_smlmc)"
   ]
  },
  {
   "cell_type": "markdown",
   "metadata": {},
   "source": [
    "## Error estimation"
   ]
  },
  {
   "cell_type": "code",
   "execution_count": null,
   "metadata": {},
   "outputs": [],
   "source": [
    "mogptk.errors(model_mosm, model_csm, model_smlmc, model_cg, print=True)"
   ]
  },
  {
   "cell_type": "code",
   "execution_count": null,
   "metadata": {},
   "outputs": [],
   "source": []
  }
 ],
 "metadata": {
  "anaconda-cloud": {},
  "kernelspec": {
   "display_name": "Python 3",
   "language": "python",
   "name": "python3"
  },
  "language_info": {
   "codemirror_mode": {
    "name": "ipython",
    "version": 3
   },
   "file_extension": ".py",
   "mimetype": "text/x-python",
   "name": "python",
   "nbconvert_exporter": "python",
   "pygments_lexer": "ipython3",
   "version": "3.6.8"
  }
 },
 "nbformat": 4,
 "nbformat_minor": 1
}
