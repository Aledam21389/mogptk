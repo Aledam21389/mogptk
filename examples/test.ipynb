{
 "cells": [
  {
   "cell_type": "code",
   "execution_count": 1,
   "metadata": {},
   "outputs": [],
   "source": [
    "# import library if it is not installed\n",
    "import sys\n",
    "sys.path.insert(0, '../')\n",
    "\n",
    "import mogptk\n",
    "import numpy as np\n",
    "\n",
    "%reload_ext autoreload\n",
    "%autoreload 2"
   ]
  },
  {
   "cell_type": "code",
   "execution_count": 2,
   "metadata": {},
   "outputs": [],
   "source": [
    "data = mogptk.Data()\n",
    "#data.load_csv('data/jura.csv', ['X', 'Y'], ['Cd'])#, 'Cu'])\n",
    "#data.remove_range('Cd', start=2.0, end=None)\n",
    "#data.remove_randomly('Cd', pct=0.90)\n",
    "\n",
    "#data.add_function(lambda x: np.sin(6*x[:,0]) + np.cos(6*x[:,1]), n=200, start=[0.0,0.0], end=[4.0,4.0])\n",
    "data.add_function(lambda x: np.sin(6*x)+2, n=200, start=0.0, end=4.0, var=0.03, name='B')\n",
    "#data.add_function(lambda x: np.sin(6*x)+2 - np.sin(4*x), n=20, start=0.0, end=4.0, var=0.03, name='C')\n",
    "#data.remove_range('A', start=2.0, end=None)"
   ]
  },
  {
   "cell_type": "code",
   "execution_count": null,
   "metadata": {},
   "outputs": [],
   "source": [
    "sm = mogptk.SM(data, Q=3)\n",
    "display(sm.get_params())"
   ]
  },
  {
   "cell_type": "code",
   "execution_count": null,
   "metadata": {
    "scrolled": false
   },
   "outputs": [],
   "source": [
    "sm.init_params()\n",
    "display(sm.get_params())\n",
    "mogptk.plot_sm_psd(sm)"
   ]
  },
  {
   "cell_type": "code",
   "execution_count": null,
   "metadata": {
    "scrolled": false
   },
   "outputs": [],
   "source": [
    "sm.train(method='BFGS')\n",
    "display(sm.get_params())\n",
    "mogptk.plot_sm_psd(sm)"
   ]
  },
  {
   "cell_type": "code",
   "execution_count": null,
   "metadata": {
    "scrolled": true
   },
   "outputs": [],
   "source": [
    "sm.set_prediction_range(0, 0.0, 5.0, n=2000)\n",
    "sm.predict()\n",
    "mogptk.plot(sm)"
   ]
  },
  {
   "cell_type": "code",
   "execution_count": null,
   "metadata": {},
   "outputs": [],
   "source": [
    "sm.save('sm')"
   ]
  },
  {
   "cell_type": "code",
   "execution_count": null,
   "metadata": {},
   "outputs": [],
   "source": [
    "sm2 = mogptk.load('sm')\n",
    "sm2.set_prediction_range(0, 0.0, 10.0, n=2000)\n",
    "sm2.predict()\n",
    "mogptk.plot(sm2)"
   ]
  },
  {
   "cell_type": "markdown",
   "metadata": {},
   "source": [
    "## MOSM"
   ]
  },
  {
   "cell_type": "code",
   "execution_count": 5,
   "metadata": {},
   "outputs": [
    {
     "data": {
      "text/plain": [
       "[{'magnitude': array([1.27273869]),\n",
       "  'mean': array([[-1.24071388]]),\n",
       "  'variance': array([[0.70258174]]),\n",
       "  'delay': array([[0.]]),\n",
       "  'phase': array([0.]),\n",
       "  'noise': array([0.88317577])},\n",
       " {'magnitude': array([0.98859091]),\n",
       "  'mean': array([[-1.10544943]]),\n",
       "  'variance': array([[0.30069469]]),\n",
       "  'delay': array([[0.]]),\n",
       "  'phase': array([0.]),\n",
       "  'noise': array([0.44391757])},\n",
       " {'magnitude': array([1.52253614]),\n",
       "  'mean': array([[1.06389367]]),\n",
       "  'variance': array([[0.2888446]]),\n",
       "  'delay': array([[0.]]),\n",
       "  'phase': array([0.]),\n",
       "  'noise': array([0.35335582])}]"
      ]
     },
     "metadata": {},
     "output_type": "display_data"
    }
   ],
   "source": [
    "mosm = mogptk.MOSM(data, Q=3)\n",
    "display(mosm.get_params())"
   ]
  },
  {
   "cell_type": "code",
   "execution_count": 6,
   "metadata": {
    "scrolled": false
   },
   "outputs": [
    {
     "name": "stderr",
     "output_type": "stream",
     "text": [
      "WARNING:root:BNSE could not find peaks for SM\n"
     ]
    },
    {
     "name": "stdout",
     "output_type": "stream",
     "text": [
      "INFO:tensorflow:Optimization terminated with:\n",
      "  Message: Desired error not necessarily achieved due to precision loss.\n",
      "  Objective function value: -397.138522\n",
      "  Number of iterations: 76\n",
      "  Number of functions evaluations: 136\n"
     ]
    },
    {
     "data": {
      "image/png": "[encoded data removed]",
      "text/plain": [
       "<Figure size 1440x360 with 1 Axes>"
      ]
     },
     "metadata": {},
     "output_type": "display_data"
    },
    {
     "data": {
      "text/plain": [
       "[{'magnitude': array([0.50126626]),\n",
       "  'mean': array([[5.99530555]]),\n",
       "  'variance': array([[1.e-06]]),\n",
       "  'delay': array([[0.]]),\n",
       "  'phase': array([0.]),\n",
       "  'noise': array([0.88317577])},\n",
       " {'magnitude': array([3.9951919]),\n",
       "  'mean': array([[6.28318531e-06]]),\n",
       "  'variance': array([[1.e-06]]),\n",
       "  'delay': array([[0.]]),\n",
       "  'phase': array([0.]),\n",
       "  'noise': array([0.44391757])},\n",
       " {'magnitude': array([1.e-06]),\n",
       "  'mean': array([[6.28318531e-06]]),\n",
       "  'variance': array([[88.3209653]]),\n",
       "  'delay': array([[0.]]),\n",
       "  'phase': array([0.]),\n",
       "  'noise': array([0.35335582])}]"
      ]
     },
     "metadata": {},
     "output_type": "display_data"
    }
   ],
   "source": [
    "mosm.init_params(plot=True)\n",
    "display(mosm.get_params())"
   ]
  },
  {
   "cell_type": "code",
   "execution_count": 7,
   "metadata": {},
   "outputs": [
    {
     "name": "stdout",
     "output_type": "stream",
     "text": [
      "WARNING:tensorflow:From ../mogptk/kernels/fixdelay.py:31: setdiff1d (from tensorflow.python.ops.array_ops) is deprecated and will be removed after 2018-11-30.\n",
      "Instructions for updating:\n",
      "This op will be removed after the deprecation date. Please switch to tf.sets.difference().\n",
      "INFO:tensorflow:Optimization terminated with:\n",
      "  Message: b'CONVERGENCE: REL_REDUCTION_OF_F_<=_FACTR*EPSMCH'\n",
      "  Objective function value: -397.073481\n",
      "  Number of iterations: 83\n",
      "  Number of functions evaluations: 117\n"
     ]
    },
    {
     "data": {
      "text/plain": [
       "[{'magnitude': array([13.72872027]),\n",
       "  'mean': array([[5.99532314]]),\n",
       "  'variance': array([[1.e-06]]),\n",
       "  'delay': array([[0.]]),\n",
       "  'phase': array([0.]),\n",
       "  'noise': array([2.25659154])},\n",
       " {'magnitude': array([4.0379551]),\n",
       "  'mean': array([[3.58805456e-06]]),\n",
       "  'variance': array([[1.e-06]]),\n",
       "  'delay': array([[0.]]),\n",
       "  'phase': array([0.]),\n",
       "  'noise': array([0.98319859])},\n",
       " {'magnitude': array([-7.49224252e-09]),\n",
       "  'mean': array([[6.27740283e-06]]),\n",
       "  'variance': array([[88.32045766]]),\n",
       "  'delay': array([[0.]]),\n",
       "  'phase': array([0.]),\n",
       "  'noise': array([0.71681317])}]"
      ]
     },
     "metadata": {},
     "output_type": "display_data"
    }
   ],
   "source": [
    "mosm.train()\n",
    "display(mosm.get_params())"
   ]
  },
  {
   "cell_type": "code",
   "execution_count": null,
   "metadata": {},
   "outputs": [],
   "source": [
    "mosm.set_prediction_range(0, 0.0, 5.0, n=200)\n",
    "mosm.predict()\n",
    "mogptk.plot(mosm)"
   ]
  },
  {
   "cell_type": "markdown",
   "metadata": {},
   "source": [
    "## SM-LMC"
   ]
  },
  {
   "cell_type": "code",
   "execution_count": null,
   "metadata": {},
   "outputs": [],
   "source": [
    "smlmc = mogptk.SM_LMC(data, Q=3, Rq=1)\n",
    "display(smlmc.get_params())"
   ]
  },
  {
   "cell_type": "code",
   "execution_count": null,
   "metadata": {},
   "outputs": [],
   "source": [
    "smlmc.init_params(plot=True)\n",
    "display(smlmc.get_params())"
   ]
  },
  {
   "cell_type": "code",
   "execution_count": null,
   "metadata": {},
   "outputs": [],
   "source": [
    "smlmc.train()\n",
    "display(smlmc.get_params())"
   ]
  },
  {
   "cell_type": "code",
   "execution_count": null,
   "metadata": {},
   "outputs": [],
   "source": [
    "smlmc.set_prediction_range(0, 0.0, 5.0, n=200)\n",
    "smlmc.predict()\n",
    "mogptk.plot(smlmc)"
   ]
  },
  {
   "cell_type": "markdown",
   "metadata": {},
   "source": [
    "## CSM"
   ]
  },
  {
   "cell_type": "code",
   "execution_count": null,
   "metadata": {},
   "outputs": [],
   "source": [
    "csm = mogptk.CSM(data, Q=3, Rq=1)\n",
    "display(csm.get_params())"
   ]
  },
  {
   "cell_type": "code",
   "execution_count": null,
   "metadata": {},
   "outputs": [],
   "source": [
    "csm.init_params()\n",
    "display(csm.get_params())"
   ]
  },
  {
   "cell_type": "code",
   "execution_count": null,
   "metadata": {},
   "outputs": [],
   "source": [
    "csm.train()\n",
    "display(csm.get_params())"
   ]
  },
  {
   "cell_type": "code",
   "execution_count": null,
   "metadata": {},
   "outputs": [],
   "source": [
    "csm.set_prediction_range(0, 0.0, 5.0, n=200)\n",
    "csm.predict()\n",
    "mogptk.plot(csm)"
   ]
  },
  {
   "cell_type": "markdown",
   "metadata": {},
   "source": [
    "## CG"
   ]
  },
  {
   "cell_type": "code",
   "execution_count": 8,
   "metadata": {},
   "outputs": [
    {
     "data": {
      "text/plain": [
       "[{'constant': array([0.56984938]), 'variance': array([[0.55969321]])},\n",
       " {'constant': array([0.81027868]), 'variance': array([[0.51963776]])},\n",
       " {'constant': array([0.08357516]), 'variance': array([[0.64579016]])}]"
      ]
     },
     "metadata": {},
     "output_type": "display_data"
    }
   ],
   "source": [
    "cg = mogptk.CG(data, Q=3)\n",
    "display(cg.get_params())"
   ]
  },
  {
   "cell_type": "code",
   "execution_count": null,
   "metadata": {
    "scrolled": false
   },
   "outputs": [],
   "source": [
    "cg.init_params()\n",
    "display(cg.get_params())"
   ]
  },
  {
   "cell_type": "code",
   "execution_count": 9,
   "metadata": {},
   "outputs": [
    {
     "data": {
      "text/plain": [
       "[{'constant': array([2.376959]), 'variance': array([[3.37679494]])},\n",
       " {'constant': array([1.21186611]), 'variance': array([[0.1150187]])},\n",
       " {'constant': array([1.34432135]), 'variance': array([[4.05077361]])}]"
      ]
     },
     "metadata": {},
     "output_type": "display_data"
    }
   ],
   "source": [
    "cg.train(method='Adam')\n",
    "display(cg.get_params())"
   ]
  },
  {
   "cell_type": "code",
   "execution_count": null,
   "metadata": {},
   "outputs": [],
   "source": [
    "cg.set_prediction_range(0, 0.0, 5.0, n=200)\n",
    "cg.predict()\n",
    "mogptk.plot(cg)"
   ]
  },
  {
   "cell_type": "code",
   "execution_count": null,
   "metadata": {},
   "outputs": [],
   "source": []
  }
 ],
 "metadata": {
  "kernelspec": {
   "display_name": "Python 3",
   "language": "python",
   "name": "python3"
  },
  "language_info": {
   "codemirror_mode": {
    "name": "ipython",
    "version": 3
   },
   "file_extension": ".py",
   "mimetype": "text/x-python",
   "name": "python",
   "nbconvert_exporter": "python",
   "pygments_lexer": "ipython3",
   "version": "3.6.8"
  }
 },
 "nbformat": 4,
 "nbformat_minor": 2
}
