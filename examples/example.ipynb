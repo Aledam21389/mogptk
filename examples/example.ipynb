{
 "cells": [
  {
   "cell_type": "markdown",
   "metadata": {},
   "source": [
    "# Basic example using the MOGPTK\n",
    "\n",
    "One fundamental pillar of MOGPTK are the data and model classes, where one stores the data for each channel and the other defines the model to use. In this tutorial we will show how to instanciate them and use them for a toy dataset.\n",
    "\n",
    "This tutorial show examples for: __MOSM, CONV, CSM__ and __SM-LMC__ kernels\n",
    "\n",
    "\n",
    "[Documentation](https://games-uchile.github.io/MultiOutputGP-Toolkit/)"
   ]
  },
  {
   "cell_type": "code",
   "execution_count": 1,
   "metadata": {},
   "outputs": [],
   "source": [
    "# import library if it is not installed\n",
    "import sys\n",
    "sys.path.insert(0, '../')\n",
    "\n",
    "import mogptk\n",
    "\n",
    "import numpy as np\n",
    "import matplotlib.pyplot as plt\n",
    "\n",
    "# TODO: remove when done:\n",
    "%reload_ext autoreload\n",
    "%autoreload 2"
   ]
  },
  {
   "cell_type": "markdown",
   "metadata": {},
   "source": [
    "## 1. Generate dataset\n",
    "\n",
    "As a toy example we generate three sinusoidal signals. The four sinusses are each put in a channel and have the same frequency but differ in phase and delay. The observations are randomly picked in the range of [0,4], where the first channel will have the second half of the observations removed. The second channel will be a phased-delayed version, the third will have a second sinusoidal, and the fourth will have a time-delay."
   ]
  },
  {
   "cell_type": "code",
   "execution_count": 2,
   "metadata": {},
   "outputs": [],
   "source": [
    "# create data points\n",
    "\n",
    "# time array\n",
    "n_points = 100\n",
    "t = np.linspace(0, 6, n_points)\n",
    "\n",
    "# data for channel 1\n",
    "y1 = np.sin(6 * t)\n",
    "# add noise\n",
    "y1 += np.random.normal(scale=0.1, size=len(t))\n",
    "\n",
    "# phased version\n",
    "y2 = np.sin(6 * t + 2)\n",
    "y2 += np.random.normal(scale=0.1, size=len(t))\n",
    "\n",
    "# added sinosoidal\n",
    "y3 = np.sin(6 * t) - np.sin(4 * t)\n",
    "y3 += np.random.normal(scale=0.1, size=len(t))\n",
    "\n",
    "# delayed and amplified\n",
    "y4 = 3 * np.sin(6 * (t - 2))\n",
    "y4 += np.random.normal(scale=0.1, size=len(t))"
   ]
  },
  {
   "cell_type": "markdown",
   "metadata": {},
   "source": [
    "Then for each time series (channels) we will create a data class object, and then we will create a list of data objects."
   ]
  },
  {
   "cell_type": "code",
   "execution_count": 3,
   "metadata": {
    "scrolled": false
   },
   "outputs": [],
   "source": [
    "data_list = []\n",
    "\n",
    "# data object\n",
    "data = mogptk.Data(t, y1, name='A')\n",
    "data_list.append(data)\n",
    "\n",
    "data = mogptk.Data(t, y2, name='B')\n",
    "data_list.append(data)\n",
    "\n",
    "data = mogptk.Data(t, y3, name='C')\n",
    "data_list.append(data)\n",
    "\n",
    "data = mogptk.Data(t, y4, name='D')\n",
    "data_list.append(data)"
   ]
  },
  {
   "cell_type": "markdown",
   "metadata": {},
   "source": [
    "Then we can remove the seconf half for the channel 'A' and randomly remove 40% for each channel"
   ]
  },
  {
   "cell_type": "code",
   "execution_count": 4,
   "metadata": {},
   "outputs": [],
   "source": [
    "# remove randomly\n",
    "for data in data_list:\n",
    "    data.remove_randomly(pct=0.3)\n",
    "\n",
    "# remove for channel 0\n",
    "data_list[0].remove_range(start=2.0, end=None)"
   ]
  },
  {
   "cell_type": "markdown",
   "metadata": {},
   "source": [
    "We can plot the signal in time and frequency domain"
   ]
  },
  {
   "cell_type": "code",
   "execution_count": null,
   "metadata": {
    "scrolled": false
   },
   "outputs": [],
   "source": [
    "# plot data in time\n",
    "for data in data_list:\n",
    "    data.plot()"
   ]
  },
  {
   "cell_type": "code",
   "execution_count": null,
   "metadata": {
    "scrolled": false
   },
   "outputs": [],
   "source": [
    "# plot spectrum\n",
    "for data in data_list:\n",
    "    data.plot_spectrum()"
   ]
  },
  {
   "cell_type": "markdown",
   "metadata": {},
   "source": [
    "With the data objects we can use any of the models of the toolkit"
   ]
  },
  {
   "cell_type": "markdown",
   "metadata": {},
   "source": [
    "## 2. Models\n",
    "\n",
    "To use a model we first create the object, then we can initialize the parameters and train/predict with ease"
   ]
  },
  {
   "cell_type": "markdown",
   "metadata": {},
   "source": [
    "When we create the object, we have to pass the data list and the number of components. Initially the kernel parameters are at random, but we can __optionally__ re-initialize them by:\n",
    "\n",
    "1. 'BNSE': Estimate the PSD for each channel via BNSE (bayesian non parametric spectral estimation, Tobar 2019), then utilize the position, magnitude and with of the estimated spectrum as spectral means, weights and variance respectively.\n",
    "\n",
    "2. 'SM': For each channel adjust a single output Gaussian process with spectral mixture kernel, and use said parameters as initial parameters for the kernel."
   ]
  },
  {
   "cell_type": "code",
   "execution_count": null,
   "metadata": {
    "scrolled": false
   },
   "outputs": [],
   "source": [
    "# create model\n",
    "\n",
    "model = mogptk.MOSM(data_list, Q=2)\n",
    "# model = mogptk.CSM(data_list, Q=2)\n",
    "# model = mogptk.SMLMC(data_list, Q=2)\n",
    "# model = mogptk.CG(data_list, Q=2)\n",
    "\n",
    "# initialize parameters of kernel\n",
    "model.init_params('BNSE')"
   ]
  },
  {
   "cell_type": "markdown",
   "metadata": {},
   "source": [
    "With the model initialized we can obtain a preliminary prediction __before__ training"
   ]
  },
  {
   "cell_type": "code",
   "execution_count": null,
   "metadata": {},
   "outputs": [],
   "source": [
    "# construct the gpflow model\n",
    "model.build()\n",
    "\n",
    "# plot the prediction with untrained model\n",
    "_ = mogptk.plot_prediction(model)\n",
    "plt.suptitle('Untrained model', y=1.03, fontsize=20);"
   ]
  },
  {
   "cell_type": "markdown",
   "metadata": {},
   "source": [
    "### 2.1 Trainning\n",
    "The model can be trained using tensorflow of scipy optimizers"
   ]
  },
  {
   "cell_type": "code",
   "execution_count": null,
   "metadata": {},
   "outputs": [],
   "source": [
    "model.train(\n",
    "    method='L-BFGS-B',\n",
    "    tol=1e-10,\n",
    "    maxiter=2000)"
   ]
  },
  {
   "cell_type": "code",
   "execution_count": null,
   "metadata": {},
   "outputs": [],
   "source": [
    "_ = mogptk.plot_prediction(model)\n",
    "plt.suptitle('Trained model', y=1.03, fontsize=20);"
   ]
  },
  {
   "cell_type": "markdown",
   "metadata": {},
   "source": [
    "## 3. Prediction outside training range\n",
    "\n",
    "Prediction can be made outside the training range easily using the `model.predict()` function.\n",
    "\n",
    "For this we construct a list of ndarrays with the prediction inputs. The `model.predict()` returns the posterior mean, upper and lower confidence intervals. \n",
    "\n",
    "Upper and lower confidence intervals are used instead of the standar deviation of the posterior because the toolkit admits tranformations of the dataset (see section 4) and if the transformation is not linear -for example a log transformation- the process in the original domain will not be Gaussian."
   ]
  },
  {
   "cell_type": "code",
   "execution_count": null,
   "metadata": {},
   "outputs": [],
   "source": [
    "# we use the same time for all the channels\n",
    "input_pred = np.linspace(6, 10, 100)\n",
    "\n",
    "x_pred = [input_pred for i in range(model.get_output_dims())]\n",
    "\n",
    "# mean, lower and higher confidence interval\n",
    "y_pred, y_lo_ci, y_hi_ci = model.predict(x_pred)"
   ]
  },
  {
   "cell_type": "markdown",
   "metadata": {},
   "source": [
    "The output of the function follows the same structure as the input, a list of length equal to the number of channels, where each element is a numpy array with the predictions on said channel.\n",
    "\n",
    "This way we can use matplotlib to add the prediction to the one generated in with the training range.\n",
    "\n",
    "**add confidence intervals**"
   ]
  },
  {
   "cell_type": "code",
   "execution_count": null,
   "metadata": {},
   "outputs": [],
   "source": [
    "# base figure\n",
    "fig, axarr, data_dict = mogptk.plot_prediction(model)\n",
    "\n",
    "# add prediction\n",
    "for i in range(model.get_output_dims()):\n",
    "    axarr[i].plot(x_pred[i], y_pred[i], '--k')\n",
    "    axarr[i].fill_between(x_pred[i],\n",
    "                          y_lo_ci[i],\n",
    "                          y_hi_ci[i],\n",
    "                          color='k',\n",
    "                          alpha=0.25)\n",
    "                          \n",
    "plt.suptitle('Prediction outside training range', y=1.03, fontsize=20);"
   ]
  },
  {
   "cell_type": "markdown",
   "metadata": {},
   "source": [
    "## 4. Transformations on data\n",
    "\n",
    "Currently the toolkit admits the following transformation on channels:\n",
    "\n",
    "* Normalization.\n",
    "* Polinomial detrending.\n",
    "* Logarithmical.\n",
    "\n",
    "These can be applied in succesion, the toolkit keeps tracks of them to apply the inverse tranformation on the process when doing predictions."
   ]
  },
  {
   "cell_type": "markdown",
   "metadata": {},
   "source": [
    "As en example, lets take the exponential of the original data, for the first 3 channels, and fit the model with log transformation for those channels."
   ]
  },
  {
   "cell_type": "code",
   "execution_count": null,
   "metadata": {},
   "outputs": [],
   "source": [
    "data_list2 = []\n",
    "\n",
    "data_list2.append(mogptk.Data(t, np.exp(y1)))\n",
    "data_list2.append(mogptk.Data(t, np.exp(y2)))\n",
    "data_list2.append(mogptk.Data(t, np.exp(y3)))\n",
    "data_list2.append(mogptk.Data(t, y4))\n",
    "\n",
    "for data in data_list2:\n",
    "    data.remove_randomly(pct=0.3)\n",
    "\n",
    "data_list2[0].remove_range(start=2.0, end=None)"
   ]
  },
  {
   "cell_type": "code",
   "execution_count": null,
   "metadata": {
    "scrolled": true
   },
   "outputs": [],
   "source": [
    "# apply transformations\n",
    "for data in data_list2[:-1]:\n",
    "    data.transform(mogptk.TransformLog)\n",
    "    data.plot()"
   ]
  },
  {
   "cell_type": "code",
   "execution_count": null,
   "metadata": {},
   "outputs": [],
   "source": [
    "model2 = mogptk.MOSM(data_list2, Q=2)\n",
    "model2.init_params('BNSE')\n",
    "\n",
    "model2.build()\n",
    "model2.train()"
   ]
  },
  {
   "cell_type": "code",
   "execution_count": null,
   "metadata": {},
   "outputs": [],
   "source": [
    "_ = mogptk.plot_prediction(model2)\n",
    "plt.suptitle('Training with Log transformation', y=1.03, fontsize=20);"
   ]
  },
  {
   "cell_type": "markdown",
   "metadata": {},
   "source": [
    "## 5. Load DataFrames\n",
    "\n",
    "The toolkit also allows to load datasets directly from a csv file with `mogptk.LoadCSV()`, where we specify the file, and the name of the columns for input and output and it returns a Data class object.\n",
    "\n",
    "As an example, let's load the price of Oil and gold."
   ]
  },
  {
   "cell_type": "code",
   "execution_count": null,
   "metadata": {},
   "outputs": [],
   "source": [
    "oil = mogptk.LoadCSV(filename='data/gonu/brent-daily.csv',\n",
    "                     x_cols='Date',\n",
    "                     y_col='Price',\n",
    "                     name='Oil',\n",
    "                     format={'Date': mogptk.FormatDate})\n",
    "gold = mogptk.LoadCSV(filename='data/gonu/lmba-gold-usd-am-daily.csv',\n",
    "                      x_cols='Date',\n",
    "                      y_col='Price',\n",
    "                      name='Gold',\n",
    "                      format={'Date': mogptk.FormatDate})\n",
    "\n",
    "data_list3 = [oil, gold]"
   ]
  },
  {
   "cell_type": "markdown",
   "metadata": {},
   "source": [
    "Once the data is loaded, the toolkit have a series of tools to:_ filter, agregate by days, remove ranges and set prediction ranges_ by specifying the date range rather than the internal values used as inputs."
   ]
  },
  {
   "cell_type": "code",
   "execution_count": null,
   "metadata": {},
   "outputs": [],
   "source": [
    "for channel in data_list3:\n",
    "    # filter by date\n",
    "    channel.filter('2015-01-01', '2018-12-31')\n",
    "    # agregate from daily to weekly\n",
    "    channel.aggregate('7d')\n",
    "    \n",
    "    channel.transform(mogptk.TransformLog)\n",
    "    channel.transform(mogptk.TransformDetrend)\n",
    "    \n",
    "    # remove by date range\n",
    "    channel.remove_range('2016-11-15', '2017-01-01')\n",
    "    channel.remove_randomly(pct=0.5)\n",
    "    \n",
    "    # set prediction range by date\n",
    "    channel.set_pred_range('2015-01-01', '2018-12-31', step='1d')\n",
    "    \n",
    "    channel.plot()"
   ]
  },
  {
   "cell_type": "markdown",
   "metadata": {},
   "source": [
    "With this we can train the model normaly and set a prediction range by date"
   ]
  },
  {
   "cell_type": "code",
   "execution_count": null,
   "metadata": {},
   "outputs": [],
   "source": [
    "model3 = mogptk.MOSM(data_list3, Q=3)\n",
    "\n",
    "model3.init_params('BNSE')\n",
    "\n",
    "model3.build()\n",
    "model3.train(method='L-BFGS-B', maxiter=2000, tol=1e-50)"
   ]
  },
  {
   "cell_type": "markdown",
   "metadata": {},
   "source": [
    "We can set the prediction range by dates and then predict, in this case we call the predict function without arguments as the range where already set"
   ]
  },
  {
   "cell_type": "code",
   "execution_count": null,
   "metadata": {},
   "outputs": [],
   "source": [
    "for i in range(model3.get_output_dims()):    \n",
    "    model3.data[i].set_pred_range('2019-01-01', '2019-05-01', step='1d')\n",
    "\n",
    "y_pred, low_ci, hi_ci = model3.predict()\n",
    "x_pred = model3.get_x_pred()"
   ]
  },
  {
   "cell_type": "code",
   "execution_count": null,
   "metadata": {},
   "outputs": [],
   "source": [
    "# base figure\n",
    "fig, axarr, data_dict = mogptk.plot_prediction(model3, figsize=(12, 4))\n",
    "\n",
    "# add outside training range prediction\n",
    "for i in range(model3.get_output_dims()):\n",
    "    axarr[i].plot(x_pred[i], y_pred[i], '--k')\n",
    "    axarr[i].fill_between(x_pred[i].reshape(-1),\n",
    "                          low_ci[i],\n",
    "                          hi_ci[i],\n",
    "                          color='k',\n",
    "                          alpha=0.25)\n",
    "\n",
    "plt.suptitle('Oil and Gold dataset', y=1.03, fontsize=20);"
   ]
  },
  {
   "cell_type": "code",
   "execution_count": null,
   "metadata": {},
   "outputs": [],
   "source": []
  }
 ],
 "metadata": {
  "anaconda-cloud": {},
  "kernelspec": {
   "display_name": "tfgpu",
   "language": "python",
   "name": "tfgpu"
  },
  "language_info": {
   "codemirror_mode": {
    "name": "ipython",
    "version": 3
   },
   "file_extension": ".py",
   "mimetype": "text/x-python",
   "name": "python",
   "nbconvert_exporter": "python",
   "pygments_lexer": "ipython3",
   "version": "3.6.8"
  }
 },
 "nbformat": 4,
 "nbformat_minor": 1
}
