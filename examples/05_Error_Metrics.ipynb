{
 "cells": [
  {
   "cell_type": "markdown",
   "metadata": {},
   "source": [
    "# 05 Error metrics\n",
    "\n",
    "The toolkit allows to evaluate standar error metrics automaticaly, as well as only obtaint the raw error values and compute error metrics not included in the toolkit.\n",
    "\n",
    "This notebook will continue on the Air quality dataset, "
   ]
  },
  {
   "cell_type": "markdown",
   "metadata": {},
   "source": [
    "## Usage notes\n",
    "This toolkit works in the following order:- Set up the input data\n",
    "- Create model (SM, MOSM, CSM, SM-LMC, CG)\n",
    "- Make an estimation of the model parameters using BNSE+SM\n",
    "- Train the model parameters\n",
    "- Set the prediction range\n",
    "- Do a prediction For example:"
   ]
  },
  {
   "cell_type": "markdown",
   "metadata": {},
   "source": [
    "#### Imports and plot format"
   ]
  },
  {
   "cell_type": "code",
   "execution_count": null,
   "metadata": {
    "ExecuteTime": {
     "end_time": "2019-07-17T20:09:18.658876Z",
     "start_time": "2019-07-17T20:09:17.135777Z"
    }
   },
   "outputs": [],
   "source": [
    "# execute if not installed\n",
    "import sys\n",
    "import os\n",
    "sys.path.insert(0, '../')\n",
    "\n",
    "import mogptk\n",
    "\n",
    "import matplotlib.pyplot as plt\n",
    "import seaborn as sns\n",
    "import numpy as np\n",
    "import pandas as pd\n",
    "\n",
    "%reload_ext autoreload\n",
    "%autoreload 2"
   ]
  },
  {
   "cell_type": "markdown",
   "metadata": {},
   "source": [
    "# Air Quality MOGP\n",
    "\n",
    "\n",
    "The dataset hourly averaged responses from an array of 5 metal oxide chemical sensors embedded in an Air Quality Chemical Multisensor Device.\n",
    "\n",
    "The device was located on the field in a significantly polluted area, at road level,within an Italian city. Data were recorded from March 2004 to February 2005 (one year)representing the longest freely available recordings of on field deployed air quality chemical sensor devices responses.\n",
    "\n",
    "We will only use 5 columns CO(GT), NMHC(GT), C6H6(GT), NOx(GT), NO2(GT)."
   ]
  },
  {
   "cell_type": "markdown",
   "metadata": {},
   "source": [
    "The same as the previous tutorial [04-Model Training](https://github.com/GAMES-UChile/MultiOutputGP-Toolkit/blob/master/examples/04_Model_Training.ipynb) We load, the dataset, replace the sensor failures (-200) with nans and convert the date columns to hours."
   ]
  },
  {
   "cell_type": "code",
   "execution_count": null,
   "metadata": {},
   "outputs": [],
   "source": [
    "# load\n",
    "df = pd.read_csv('data/AirQualityUCI.csv', delimiter=';')\n",
    "\n",
    "cols = ['CO(GT)', 'NMHC(GT)', 'C6H6(GT)', 'NOx(GT)', 'NO2(GT)']\n",
    "\n",
    "# replace missing values with nan\n",
    "df.replace(-200.0, np.nan, inplace=True)\n",
    "\n",
    "# First 2 columns are date and time, we convert it to a single column with datetime format\n",
    "df['Date'] = pd.to_datetime(df['Date'] + ' ' + df['Time'], format='%d/%m/%Y %H.%M.%S')\n",
    "\n",
    "# define a initial date to compare all other to\n",
    "ini_date = pd.Timestamp('2004-03-10 00:00:00.0')\n",
    "\n",
    "# get elapsed hours\n",
    "df['Time'] = (df['Date'] - ini_date) / pd.Timedelta(hours=1)\n",
    "\n",
    "# use only the first 8 days of data\n",
    "df2 = df[df['Date'] < pd.Timestamp('2004-03-19 00:00:00.0')]\n",
    "\n",
    "dataset = mogptk.LoadDataFrame(df2,\n",
    "                    x_col='Time',\n",
    "                    y_col=cols)"
   ]
  },
  {
   "cell_type": "markdown",
   "metadata": {},
   "source": [
    "we will also use the transformation defined in the data prepararion and transformation tutorial [02-Data Preparation](https://github.com/GAMES-UChile/MultiOutputGP-Toolkit/blob/master/examples/02_Data_Preparation.ipynb) where each channel is normalized so it has mean 0 and variance 1."
   ]
  },
  {
   "cell_type": "code",
   "execution_count": null,
   "metadata": {},
   "outputs": [],
   "source": [
    "class Transform_Whiten:\n",
    "    \"\"\"\n",
    "    Transform the data so it has mean 0 and variance 1\n",
    "    \"\"\"\n",
    "    def __init__(self):\n",
    "        pass\n",
    "    \n",
    "    def _data(self, data):\n",
    "        # take only the non-removed observations\n",
    "        self.mean = data.Y[data.mask].mean()\n",
    "        self.std = data.Y[data.mask].std()\n",
    "        \n",
    "    def _forward(self, x, y):\n",
    "        return (y - self.mean) / self.std\n",
    "    \n",
    "    def _backward(self, x, y):\n",
    "        return (y * self.std) + self.mean"
   ]
  },
  {
   "cell_type": "code",
   "execution_count": null,
   "metadata": {},
   "outputs": [],
   "source": [
    "for channel in dataset:\n",
    "    channel.remove_randomly(pct=0.3)\n",
    "\n",
    "# drop relative ranges to simulate sensor failure\n",
    "dataset[0].remove_rel_range(0.2, 0.3)\n",
    "dataset[1].remove_rel_range(0.8, None)\n",
    "dataset[2].remove_rel_range(0.9, None)\n",
    "dataset[3].remove_rel_range(0.8, None)\n",
    "dataset[4].remove_rel_range(None, 0.2)\n",
    "\n",
    "\n",
    "for channel in dataset:\n",
    "    channel.transform(mogptk.TransformDetrend(degree=1))\n",
    "    channel.transform(Transform_Whiten())\n",
    "dataset.plot();"
   ]
  },
  {
   "cell_type": "markdown",
   "metadata": {},
   "source": [
    "Then we create the test inputs and output using the atribute `mogptk.Data.mask` which contain booleans indicating if the point mas removed or not, removed points will be treated as test points."
   ]
  },
  {
   "cell_type": "code",
   "execution_count": null,
   "metadata": {},
   "outputs": [],
   "source": [
    "x_test = [channel.X[~channel.mask] for channel in dataset]\n",
    "\n",
    "y_test = [channel.Y[~channel.mask] for channel in dataset]"
   ]
  },
  {
   "cell_type": "markdown",
   "metadata": {},
   "source": [
    "# Models\n",
    "\n",
    "We will use one of each of the models in the toolkit, starting with independent Gaussian processes with [SM](https://games-uchile.github.io/MultiOutputGP-Toolkit/sm.html) kernel."
   ]
  },
  {
   "cell_type": "markdown",
   "metadata": {
    "collapsed": true
   },
   "source": [
    "### 1-Independent GP with spectral mixture kernel\n",
    "\n",
    "For each channel we will use Q=5"
   ]
  },
  {
   "cell_type": "code",
   "execution_count": null,
   "metadata": {
    "scrolled": true
   },
   "outputs": [],
   "source": [
    "Q = 5 # number of mixtures\n",
    "n_channels = len(dataset)\n",
    "\n",
    "# list of the models\n",
    "igp_list = []\n",
    "\n",
    "for i in range(n_channels):\n",
    "    model = mogptk.SM(dataset[i], Q=Q)\n",
    "    model.estimate_params('BNSE')\n",
    "    \n",
    "    model.train(method='L-BFGS-B', maxiter=3000, tol=1e-30)\n",
    "    igp_list.append(model)"
   ]
  },
  {
   "cell_type": "markdown",
   "metadata": {},
   "source": [
    "using the function [`mogptk.test_errors`](https://games-uchile.github.io/MultiOutputGP-Toolkit/errors.html#mogptk.errors.test_errors) given a test input and output it calculates:\n",
    "\n",
    "* Mean Absolute Error (MAE)\n",
    "* mean-Normalized Mean Absolute Error (nMAE)\n",
    "* Root Mean Squared Error (RMSE)\n",
    "* mean-Normalized Mean Absolute Squared Error (nRMSE)\n",
    "\n",
    "\n",
    "If only the raw values $(y_{pred} - y_{true})$ are wanted, the flag `raw_errors` must be set to `True`.\n",
    "\n",
    "Multiple models for the same test set (x_test, y_test) can be passed at once, the result will be a list with one element for each model passed, where each element is another list of length equal to the number or channels where each element is the error for said model, said channel.\n",
    "\n",
    "This enables to obtain errors for multiple models for the same test set, where each channel can have different number of test points."
   ]
  },
  {
   "cell_type": "code",
   "execution_count": null,
   "metadata": {},
   "outputs": [],
   "source": [
    "for model in igp_list:\n",
    "    model.predict(dataset[0].X)\n",
    "    model.plot_prediction(figsize=(10, 2))"
   ]
  },
  {
   "cell_type": "code",
   "execution_count": null,
   "metadata": {},
   "outputs": [],
   "source": [
    "igp_errors = np.zeros((n_channels, 4))\n",
    "\n",
    "for i in range(n_channels):\n",
    "    igp_errors[i, :] = mogptk.test_errors(igp_list[i], x_test=x_test[i], y_test=y_test[i])[0][0]\n",
    "    \n",
    "pd.DataFrame(igp_errors,\n",
    "             columns=['MAE', 'nMAE', 'RMSE', 'nRMSE'],\n",
    "             index=cols)"
   ]
  },
  {
   "cell_type": "markdown",
   "metadata": {},
   "source": [
    "## 2-Multioutput Spectral Mixture (MOSM)\n",
    "\n",
    "Next we use the multioutput spectral mixture (Parra et al, 2016) to model the measurements"
   ]
  },
  {
   "cell_type": "code",
   "execution_count": null,
   "metadata": {},
   "outputs": [],
   "source": [
    "x_pred = [channel.X for channel in dataset]"
   ]
  },
  {
   "cell_type": "code",
   "execution_count": null,
   "metadata": {
    "ExecuteTime": {
     "end_time": "2019-07-17T20:09:53.987091Z",
     "start_time": "2019-07-17T20:09:43.999141Z"
    },
    "scrolled": true
   },
   "outputs": [],
   "source": [
    "model_mosm = mogptk.MOSM(dataset, Q=4)\n",
    "model_mosm.estimate_params('BNSE')\n",
    "\n",
    "model_mosm.train(method='L-BFGS-B', maxiter=3000, tol=1e-15)\n",
    "\n",
    "model_mosm.predict(x_pred)\n",
    "model_mosm.plot_prediction(grid=(5, 1), figsize=(10, 10), title='MOSM on Air Quality Data', names=cols)"
   ]
  },
  {
   "cell_type": "markdown",
   "metadata": {},
   "source": [
    "## 3-Cross Spectral Mixture (CSM)\n",
    "\n",
    "Then we use the cross spectral mixture kernel (Ulrich et al, 2015)"
   ]
  },
  {
   "cell_type": "code",
   "execution_count": null,
   "metadata": {},
   "outputs": [],
   "source": [
    "model_csm = mogptk.CSM(data, Q=4)\n",
    "model_csm.estimate_params()\n",
    "\n",
    "model_csm.train(method='L-BFGS-B', maxiter=3000, tol=1e-15)\n",
    "\n",
    "model_csm.predict(x_pred)\n",
    "model_csm.plot_prediction(grid=(5, 1), figsize=(10, 10), title='CSM on Air Quality Data', names=cols)"
   ]
  },
  {
   "cell_type": "markdown",
   "metadata": {},
   "source": [
    "## 4-Spectral Mixture - Linear Model of Corregionalization (SM-LMC)\n",
    "\n",
    "Lastly we fit the Spectral mixture- linear model of corregionalization (Wilson, 2014)"
   ]
  },
  {
   "cell_type": "code",
   "execution_count": null,
   "metadata": {},
   "outputs": [],
   "source": [
    "model_smlmc = mogptk.SM_LMC(data, Q=4)\n",
    "model_smlmc.estimate_params()\n",
    "\n",
    "model_smlmc.train(method='L-BFGS-B', maxiter=3000, tol=1e-15)\n",
    "\n",
    "model_smlmc.predict(x_pred)\n",
    "model_smlmc.plot_prediction(grid=(5, 1), figsize=(10, 10), title='CSM on Air Quality Data', names=cols)"
   ]
  },
  {
   "cell_type": "markdown",
   "metadata": {},
   "source": [
    "## 5-Convolutional Gaussian (CONV)"
   ]
  },
  {
   "cell_type": "code",
   "execution_count": null,
   "metadata": {
    "scrolled": true
   },
   "outputs": [],
   "source": [
    "model_conv = mogptk.CG(data, Q=4)\n",
    "model_conv.estimate_params()\n",
    "\n",
    "model_conv.train(method='L-BFGS-B', maxiter=3000, tol=1e-15)\n",
    "\n",
    "model_cov.predict(x_pred)\n",
    "model_conv.plot_prediction(grid=(5, 1), figsize=(10, 10), title='CONV on Air Quality Data', names=cols)"
   ]
  },
  {
   "cell_type": "markdown",
   "metadata": {},
   "source": [
    "# Compare errors"
   ]
  },
  {
   "cell_type": "code",
   "execution_count": null,
   "metadata": {},
   "outputs": [],
   "source": [
    "errors = mogptk.test_errors(model_smlmc, model_conv, model_csm, model_mosm,\n",
    "                           x_test=x_test, y_test=y_test)"
   ]
  },
  {
   "cell_type": "markdown",
   "metadata": {},
   "source": [
    "We will take the mean MAE, nMAE, RMSE, nRMSE for all the channels and compare all the models"
   ]
  },
  {
   "cell_type": "code",
   "execution_count": null,
   "metadata": {},
   "outputs": [],
   "source": [
    "pd.DataFrame(np.c_[igp_errors.mean(0),\n",
    "                   np.array(errors[0]).mean(0),\n",
    "                   np.array(errors[1]).mean(0),\n",
    "                   np.array(errors[2]).mean(0),\n",
    "                   np.array(errors[3]).mean(0),\n",
    "                  ],\n",
    "             columns=['mean MAE', 'mean nMAE', 'mean RMSE', 'mean nRMSE'],\n",
    "             index=['IGP', 'SM-LMC', 'CONV', 'CSM', 'MOSM'])"
   ]
  }
 ],
 "metadata": {
  "anaconda-cloud": {},
  "kernelspec": {
   "display_name": "Python [conda env:tf2_gpu]",
   "language": "python",
   "name": "conda-env-tf2_gpu-py"
  },
  "language_info": {
   "codemirror_mode": {
    "name": "ipython",
    "version": 3
   },
   "file_extension": ".py",
   "mimetype": "text/x-python",
   "name": "python",
   "nbconvert_exporter": "python",
   "pygments_lexer": "ipython3",
   "version": "3.7.6"
  }
 },
 "nbformat": 4,
 "nbformat_minor": 2
}
