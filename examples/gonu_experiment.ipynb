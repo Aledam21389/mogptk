{
 "cells": [
  {
   "cell_type": "markdown",
   "metadata": {},
   "source": [
    "# Oil, Gold, NASDAQ, and USD-index dataset\n",
    "\n",
    "- Oil: Brent daily in USD from https://www.eia.gov/dnav/pet/hist/RBRTEd.htm\n",
    "- Gold: LMBA gold daily at 10:30AM in USD from https://fred.stlouisfed.org/series/GOLDAMGBD228NLBM\n",
    "- NASDAQ: adjusted closing price (daily) from https://finance.yahoo.com/quote/%5EIXIC/history?p=%5EIXIC\n",
    "- USD index: traded weighted on broad currency index from https://fred.stlouisfed.org/series/TWEXB"
   ]
  },
  {
   "cell_type": "code",
   "execution_count": null,
   "metadata": {
    "collapsed": true
   },
   "outputs": [],
   "source": [
    "# ale\n",
    "# execute if not installed\n",
    "import sys\n",
    "sys.path.insert(0, '../')\n",
    "\n",
    "import mogptk\n",
    "import gpflow\n",
    "\n",
    "import matplotlib.pyplot as plt\n",
    "import seaborn as sns\n",
    "import numpy as np\n",
    "import pandas as pd\n",
    "import datetime\n",
    "\n",
    "%reload_ext autoreload\n",
    "%autoreload 2"
   ]
  },
  {
   "cell_type": "markdown",
   "metadata": {},
   "source": [
    "import mogptk\n",
    "import numpy as np\n",
    "\n",
    "%reload_ext autoreload\n",
    "%autoreload 2"
   ]
  },
  {
   "cell_type": "code",
   "execution_count": null,
   "metadata": {
    "collapsed": false,
    "scrolled": true
   },
   "outputs": [],
   "source": [
    "oil = mogptk.LoadCSV('data/gonu/brent-daily.csv',\n",
    "                     'Date',\n",
    "                     'Price',\n",
    "                     name='Oil',\n",
    "                     format={'Date': mogptk.FormatDate})\n",
    "gold = mogptk.LoadCSV('data/gonu/lmba-gold-usd-am-daily.csv',\n",
    "                      'Date',\n",
    "                      'Price',\n",
    "                      name='Gold',\n",
    "                      format={'Date': mogptk.FormatDate})\n",
    "nasdaq = mogptk.LoadCSV('data/gonu/nasdaq.csv',\n",
    "                        'Date',\n",
    "                        'Adj Close',\n",
    "                        name='NASDAQ',\n",
    "                        format={'Date': mogptk.FormatDate})\n",
    "usd = mogptk.LoadCSV('data/gonu/TWEXB.csv',\n",
    "                     'Date',\n",
    "                     'Price',\n",
    "                     name='USD',\n",
    "                     format={'Date': mogptk.FormatDate})\n",
    "\n",
    "f_paths = [\n",
    "    'data/gonu/brent-daily.csv',\n",
    "    'data/gonu/lmba-gold-usd-am-daily.csv',\n",
    "    'data/gonu/nasdaq.csv',\n",
    "    'data/gonu/TWEXB.csv'\n",
    "          ]\n",
    "cols = ['Oil', 'Gold', 'NASDAQ', 'USD']\n",
    "\n",
    "data = [oil, gold, nasdaq, usd]\n",
    "\n",
    "\n",
    "np.random.seed(1)\n",
    "for i, channel in enumerate(data):\n",
    "    channel.filter('2015-01-01', '2018-12-31')\n",
    "    channel.aggregate('7d')\n",
    "    \n",
    "    channel.transform(mogptk.TransformLog)\n",
    "    channel.transform(mogptk.TransformDetrend)\n",
    "    \n",
    "    if i == 0:\n",
    "        channel.remove_range('2018-10-05', None)\n",
    "        channel.remove_randomly(pct=0.3)\n",
    "    if i == 1:\n",
    "        channel.remove_range('2016-11-15', '2017-01-01')\n",
    "        channel.remove_randomly(pct=0.6)\n",
    "    if i == 2:\n",
    "        # channel.remove_range('2018-10-01', None)\n",
    "        channel.remove_randomly(pct=0.6)\n",
    "        # channel.remove_range('2018-10-01', None)\n",
    "        # channel.remove_range('2016-01-01', '2016-03-01')\n",
    "        \n",
    "    if i == 3:\n",
    "        channel.remove_range('2016-03-15', '2016-06-01')\n",
    "        channel.remove_randomly(pct=0.6)\n",
    "        \n",
    "    channel.plot()\n",
    "    \n",
    "# for i, channel in enumerate(data):\n",
    "    # channel.plot_spectrum(per='day')    \n",
    "    # print('BNSE:', channel.get_bnse_estimation())\n",
    "    # print('LombScargle:', channel.get_ls_estimation())\n",
    "    \n",
    "# oil.set_pred_range('2015-07-01', '2018-07-01', n=1000)\n",
    "# gold.set_pred_range('2015-07-01', '2018-07-01', n=1000)\n",
    "# nasdaq.set_pred_range('2015-07-01', '2018-07-01', n=1000)\n",
    "# usd.set_pred_range('2015-07-01', '2018-07-01', n=1000)\n",
    "\n",
    "x_test = [channel.X[~channel.mask] for channel in data]\n",
    "y_test = [mogptk.data._detransform(c.transformations, c.X, c.Y)[~c.mask] for c in data]"
   ]
  },
  {
   "cell_type": "markdown",
   "metadata": {},
   "source": [
    "## MOSM"
   ]
  },
  {
   "cell_type": "code",
   "execution_count": null,
   "metadata": {
    "collapsed": false,
    "scrolled": true
   },
   "outputs": [],
   "source": [
    "%%time\n",
    "n_trials = 5\n",
    "\n",
    "mosm_list = []\n",
    "mosm_mae = np.zeros((n_trials, len(cols)))\n",
    "mosm_mape = np.zeros((n_trials, len(cols)))\n",
    "mosm_rmse = np.zeros((n_trials, len(cols)))\n",
    "\n",
    "for n in range(n_trials):\n",
    "    model_mosm = mogptk.MOSM(data, Q=4)\n",
    "    model_mosm.init_params('BNSE')\n",
    "    \n",
    "    print('Starting trial', n)\n",
    "    model_mosm.train(method='L-BFGS-B', maxiter=5000, tol=1e-50)\n",
    "    \n",
    "    print('='*50)\n",
    "    \n",
    "    mosm_list.append(model_mosm)\n",
    "    \n",
    "    # errors per channel\n",
    "    error = mogptk.test_errors(model_mosm, x_test=x_test, y_test=y_test)\n",
    "    \n",
    "    mosm_mae[n, :] = np.array(error[0])[:, 0]\n",
    "    mosm_mape[n, :] = np.array(error[0])[:, 1]\n",
    "    mosm_rmse[n, :] = np.array(error[0])[:, 2]\n",
    "    print('Finished trial', n)"
   ]
  },
  {
   "cell_type": "code",
   "execution_count": null,
   "metadata": {
    "collapsed": false
   },
   "outputs": [],
   "source": [
    "pd.DataFrame(np.c_[mosm_mae.mean(0), mosm_mape.mean(0), mosm_rmse.mean(0),\n",
    "                             mosm_mae.std(0), mosm_mape.std(0), mosm_rmse.std(0)],\n",
    "                       columns=['MAE', 'MAPE', 'RMSE', 'MAE std', 'MAPE% std', 'RMSE std'])"
   ]
  },
  {
   "cell_type": "code",
   "execution_count": null,
   "metadata": {
    "collapsed": false
   },
   "outputs": [],
   "source": [
    "# best_model = mosm_list[np.argmin(mosm_mape.mean(1))]\n",
    "ylims = [(20, 100), (1000, 1500), (4000, 8600), (110, 135)]\n",
    "f, axarr = mogptk.plot_prediction(best_model,\n",
    "                       grid=(2, 2),\n",
    "                       names=cols,\n",
    "                       title='',\n",
    "                       ylims=ylims,\n",
    "                       figsize=(12, 4));\n",
    "\n",
    "yticks = [(30, 90), (1100, 1400), (4500, 8000), (114, 130)]\n",
    "\n",
    "for i in range(len(cols)):\n",
    "    axarr[i].set_title(cols[i], fontsize=13)\n",
    "    axarr[i].set_yticks(np.linspace(yticks[i][0], yticks[i][1], 3))\n",
    "\n",
    "    channel = model_mosm.data[i]\n",
    "\n",
    "    xlabels = pd.date_range('2015-01-01', '2018-12-31', periods=9).date\n",
    "    xticks = [channel.formatters[0]._parse(str(label)) for label in xlabels]\n",
    "    \n",
    "    new_xlabels = ['']*9\n",
    "    xlabels[::2][2:] += datetime.timedelta(days=1)\n",
    "    new_xlabels[::2] = xlabels[::2]\n",
    "    \n",
    "    axarr[i].set_xticks(xticks)\n",
    "    axarr[i].set_xticklabels(new_xlabels)\n",
    "\n",
    "plt.tight_layout()\n",
    "    \n",
    "# plt.savefig('output/mosm_gonu.pdf', bbox_inches='tight')"
   ]
  },
  {
   "cell_type": "markdown",
   "metadata": {
    "scrolled": false
   },
   "source": [
    "mosm = mogptk.MOSM(data, Q=3)\n",
    "mosm.init_params()\n",
    "\n",
    "mosm.train(tol=1e-6, maxiter=2000)\n",
    "mosm.plot()\n",
    "mosm.print()\n",
    "mosm.info()\n",
    "\n",
    "mosm.predict()\n",
    "mosm.plot_data()"
   ]
  },
  {
   "cell_type": "code",
   "execution_count": null,
   "metadata": {
    "collapsed": false
   },
   "outputs": [],
   "source": [
    "f, ax, corr_matrix = best_model.plot_correlations()\n",
    "ax.set_title('GONU', pad=20)\n",
    "ax.set_yticks(np.arange(4));\n",
    "ax.set_yticklabels(cols);\n",
    "ax.set_xticks(np.arange(4));\n",
    "ax.set_xticklabels(cols);\n",
    "plt.savefig('output/corr_gonu.pdf', bbox_inches='tight')"
   ]
  },
  {
   "cell_type": "code",
   "execution_count": null,
   "metadata": {
    "collapsed": false,
    "scrolled": true
   },
   "outputs": [],
   "source": [
    "corr_list = []\n",
    "\n",
    "for model in mosm_list:\n",
    "    _, _, corr = model.plot_correlations();\n",
    "    corr_list.append(corr)"
   ]
  },
  {
   "cell_type": "code",
   "execution_count": null,
   "metadata": {
    "collapsed": false
   },
   "outputs": [],
   "source": [
    "corr_array = np.array(corr_list)\n",
    "corr_array.shape"
   ]
  },
  {
   "cell_type": "code",
   "execution_count": null,
   "metadata": {
    "collapsed": false
   },
   "outputs": [],
   "source": [
    "color_range = np.abs(corr_array.mean(0)).max()\n",
    "\n",
    "f, ax = plt.subplots()\n",
    "im = ax.matshow(corr_array.mean(0), cmap='coolwarm', vmin=-color_range, vmax=color_range)\n",
    "f.colorbar(im)\n",
    "for (i, j), z in np.ndenumerate(corr_array.mean(0)):\n",
    "    ax.text(j, i, '{:0.1f}'.format(z), ha='center', va='center', \n",
    "            bbox=dict(boxstyle='round', facecolor='white', alpha=0.5, edgecolor='0.9'))\n",
    "\n",
    "ax.set_yticks(np.arange(4));\n",
    "ax.set_yticklabels(cols);\n",
    "ax.set_xticks(np.arange(4));\n",
    "ax.set_xticklabels(cols);\n",
    "plt.savefig('output/corr_gonu_mean.pdf', bbox_inches='tight')"
   ]
  },
  {
   "cell_type": "markdown",
   "metadata": {},
   "source": [
    "## MOSM-Student-T like"
   ]
  },
  {
   "cell_type": "code",
   "execution_count": null,
   "metadata": {
    "collapsed": true
   },
   "outputs": [],
   "source": [
    "like = gpflow.likelihoods.StudentT"
   ]
  },
  {
   "cell_type": "code",
   "execution_count": null,
   "metadata": {
    "collapsed": false
   },
   "outputs": [],
   "source": [
    "%%time\n",
    "n_trials = 1\n",
    "like_params = {'scale':1e-3, 'df':3}\n",
    "\n",
    "mosm_student_list = []\n",
    "mosm_student_mae = np.zeros((n_trials, len(cols)))\n",
    "mosm_student_mape = np.zeros((n_trials, len(cols)))\n",
    "mosm_student_rmse = np.zeros((n_trials, len(cols)))\n",
    "\n",
    "for n in range(n_trials):\n",
    "    mosm_student = mogptk.MOSM(data, Q=4)\n",
    "#    model_mosm.init_params('BNSE')\n",
    "    mosm_student.params = best_model.params\n",
    "    \n",
    "    print('Starting trial', n)\n",
    "    # mosm_student.build(likelihood=like, like_params=like_params, variational=False)\n",
    "    mosm_student.train(method='L-BFGS-B', maxiter=5000, tol=1e-50, likelihood=like, like_params=like_params, variational=True)\n",
    "    \n",
    "    print('='*50)\n",
    "    \n",
    "    mosm_student_list.append(mosm_student)\n",
    "    \n",
    "    # errors per channel\n",
    "    error = mogptk.test_errors(mosm_student, x_test=x_test, y_test=y_test)\n",
    "    \n",
    "    mosm_student_mae[n, :] = np.array(error[0])[:, 0]\n",
    "    mosm_student_mape[n, :] = np.array(error[0])[:, 1]\n",
    "    mosm_student_rmse[n, :] = np.array(error[0])[:, 2]\n",
    "    print('Finished trial', n)"
   ]
  },
  {
   "cell_type": "code",
   "execution_count": null,
   "metadata": {
    "collapsed": false
   },
   "outputs": [],
   "source": [
    "pd.DataFrame(np.c_[mosm_student_mae.mean(0), mosm_student_mape.mean(0), mosm_student_rmse.mean(0),\n",
    "                             mosm_student_mae.std(0), mosm_student_mape.std(0), mosm_student_rmse.std(0)],\n",
    "                       columns=['MAE', 'MAPE', 'RMSE', 'MAE std', 'MAPE% std', 'RMSE std'])"
   ]
  },
  {
   "cell_type": "code",
   "execution_count": null,
   "metadata": {
    "collapsed": false
   },
   "outputs": [],
   "source": [
    "mosm_mape.mean(), mosm_student_mape.mean()"
   ]
  },
  {
   "cell_type": "code",
   "execution_count": null,
   "metadata": {
    "collapsed": false
   },
   "outputs": [],
   "source": [
    "mosm_student.likelihood.scale"
   ]
  },
  {
   "cell_type": "code",
   "execution_count": null,
   "metadata": {
    "collapsed": false
   },
   "outputs": [],
   "source": [
    "best_student = mosm_student_list[np.argmin(mosm_student_mape.mean(1))]\n",
    "ylims = [(20, 100), (1000, 1500), (4000, 8600), (110, 135)]\n",
    "f, axarr = mogptk.plot_prediction(best_student,\n",
    "                       grid=(2, 2),\n",
    "                       names=cols,\n",
    "                       title='',\n",
    "                       ylims=ylims,\n",
    "                       figsize=(12, 4));\n",
    "\n",
    "yticks = [(30, 90), (1100, 1400), (4500, 8000), (114, 130)]\n",
    "\n",
    "for i in range(len(cols)):\n",
    "    axarr[i].set_title(cols[i], fontsize=13)\n",
    "    axarr[i].set_yticks(np.linspace(yticks[i][0], yticks[i][1], 3))\n",
    "\n",
    "    channel = best_student.data[i]\n",
    "\n",
    "    xlabels = pd.date_range('2015-01-01', '2018-12-31', periods=9).date\n",
    "    xticks = [channel.formatters[0]._parse(str(label)) for label in xlabels]\n",
    "    \n",
    "    new_xlabels = ['']*9\n",
    "    xlabels[::2][2:] += datetime.timedelta(days=1)\n",
    "    new_xlabels[::2] = xlabels[::2]\n",
    "    \n",
    "    axarr[i].set_xticks(xticks)\n",
    "    axarr[i].set_xticklabels(new_xlabels)\n",
    "\n",
    "plt.tight_layout()"
   ]
  },
  {
   "cell_type": "code",
   "execution_count": null,
   "metadata": {
    "collapsed": true
   },
   "outputs": [],
   "source": [
    "import pickle\n",
    "\n",
    "with open('output/best_mosm_gauss_likeli.p', 'wb') as fp:\n",
    "    pickle.dump(best_model.params, fp, protocol=pickle.HIGHEST_PROTOCOL)"
   ]
  },
  {
   "cell_type": "markdown",
   "metadata": {},
   "source": [
    "## CSM"
   ]
  },
  {
   "cell_type": "code",
   "execution_count": null,
   "metadata": {
    "collapsed": false,
    "scrolled": true
   },
   "outputs": [],
   "source": [
    "%%time\n",
    "n_trials = 5\n",
    "\n",
    "csm_mae = np.zeros((n_trials, len(cols)))\n",
    "csm_mape = np.zeros((n_trials, len(cols)))\n",
    "csm_rmse = np.zeros((n_trials, len(cols)))\n",
    "\n",
    "for n in range(n_trials):\n",
    "    model_csm = mogptk.CSM(data, Q=3)\n",
    "    model_csm.init_params('BNSE')\n",
    "    \n",
    "    print('Starting trial', n)\n",
    "    model_csm.train(method='L-BFGS-B', maxiter=8000, tol=1e-15)\n",
    "    print('Finished trial', n)\n",
    "    print('='*50)\n",
    "    \n",
    "    # errors per channel\n",
    "    error = mogptk.test_errors(model_csm, x_test=x_test, y_test=y_test)\n",
    "    \n",
    "    csm_mae[n, :] = np.array(error[0])[:, 0]\n",
    "    csm_mape[n, :] = np.array(error[0])[:, 1]\n",
    "    csm_rmse[n, :] = np.array(error[0])[:, 2]"
   ]
  },
  {
   "cell_type": "code",
   "execution_count": null,
   "metadata": {
    "collapsed": false
   },
   "outputs": [],
   "source": [
    "pd.DataFrame(np.c_[csm_mae.mean(0), csm_mape.mean(0), csm_rmse.mean(0),\n",
    "                             csm_mae.std(0), csm_mape.std(0), csm_rmse.std(0)],\n",
    "                       columns=['MAE', 'MAPE', 'RMSE', 'MAE std', 'MAPE% std', 'RMSE std'])"
   ]
  },
  {
   "cell_type": "code",
   "execution_count": null,
   "metadata": {
    "collapsed": false
   },
   "outputs": [],
   "source": [
    "mogptk.plot_prediction(model_csm,grid=(2, 2),\n",
    "                       names=cols,\n",
    "                       title='',\n",
    "                       ylims=ylims,\n",
    "                       figsize=(12, 4));"
   ]
  },
  {
   "cell_type": "markdown",
   "metadata": {},
   "source": [
    "csm = mogptk.CSM(data, Q=3)\n",
    "csm.init_params()\n",
    "csm.train(tol=1e-6, maxiter=2000)\n",
    "csm.print()\n",
    "\n",
    "csm.predict()\n",
    "csm.plot_data()"
   ]
  },
  {
   "cell_type": "markdown",
   "metadata": {},
   "source": [
    "## SM-LMC"
   ]
  },
  {
   "cell_type": "code",
   "execution_count": null,
   "metadata": {
    "collapsed": false,
    "scrolled": true
   },
   "outputs": [],
   "source": [
    "%%time\n",
    "n_trials = 5\n",
    "\n",
    "smlmc_mae = np.zeros((n_trials, len(cols)))\n",
    "smlmc_mape = np.zeros((n_trials, len(cols)))\n",
    "smlmc_rmse = np.zeros((n_trials, len(cols)))\n",
    "\n",
    "for n in range(n_trials):\n",
    "    print('Trial ', n)\n",
    "    model_smlmc = mogptk.SM_LMC(data, Q=3)\n",
    "    model_smlmc.init_params('BNSE')\n",
    "    print('='*50)\n",
    "    \n",
    "    model_smlmc.train(method='L-BFGS-B', maxiter=8000, tol=1e-50)\n",
    "    \n",
    "    error = mogptk.test_errors(model_smlmc, x_test=x_test, y_test=y_test)\n",
    "    \n",
    "    smlmc_mae[n, :] = np.array(error[0])[:, 0]\n",
    "    smlmc_mape[n, :] = np.array(error[0])[:, 1]\n",
    "    smlmc_rmse[n, :] = np.array(error[0])[:, 2]"
   ]
  },
  {
   "cell_type": "code",
   "execution_count": null,
   "metadata": {
    "collapsed": false
   },
   "outputs": [],
   "source": [
    "pd.DataFrame(np.c_[smlmc_mae.mean(0), smlmc_mape.mean(0), smlmc_rmse.mean(0),\n",
    "                   smlmc_mae.std(0), smlmc_mape.std(0), smlmc_rmse.std(0)],\n",
    "             columns=['MAE', 'MAPE%', 'RMSE', 'MAE std', 'MAPE% std', 'RMSE std'])"
   ]
  },
  {
   "cell_type": "code",
   "execution_count": null,
   "metadata": {
    "collapsed": false
   },
   "outputs": [],
   "source": [
    "mogptk.plot_prediction(model_smlmc,grid=(2, 2),\n",
    "                       names=cols,\n",
    "                       title='',\n",
    "                       ylims=ylims,\n",
    "                       figsize=(12, 4));"
   ]
  },
  {
   "cell_type": "markdown",
   "metadata": {
    "scrolled": false
   },
   "source": [
    "smlmc = mogptk.SM_LMC(data, Q=3)\n",
    "smlmc.init_params()\n",
    "smlmc.train(tol=1e-6, maxiter=2000)\n",
    "smlmc.print()\n",
    "\n",
    "smlmc.predict()\n",
    "smlmc.plot_data()"
   ]
  },
  {
   "cell_type": "markdown",
   "metadata": {},
   "source": [
    "## Results"
   ]
  },
  {
   "cell_type": "code",
   "execution_count": null,
   "metadata": {
    "collapsed": false
   },
   "outputs": [],
   "source": [
    "print(mosm_mape[:, :].mean(), csm_mape[:, :].mean(), smlmc_mape[:, :].mean())"
   ]
  },
  {
   "cell_type": "code",
   "execution_count": null,
   "metadata": {
    "collapsed": false
   },
   "outputs": [],
   "source": [
    "print(mosm_mape[:, :].std(), csm_mape[:, :].std(), smlmc_mape[:, :].std())"
   ]
  },
  {
   "cell_type": "code",
   "execution_count": null,
   "metadata": {
    "collapsed": false
   },
   "outputs": [],
   "source": []
  },
  {
   "cell_type": "code",
   "execution_count": null,
   "metadata": {
    "collapsed": true
   },
   "outputs": [],
   "source": []
  }
 ],
 "metadata": {
  "anaconda-cloud": {},
  "kernelspec": {
   "display_name": "tfgpu",
   "language": "python",
   "name": "tfgpu"
  },
  "language_info": {
   "codemirror_mode": {
    "name": "ipython",
    "version": 3
   },
   "file_extension": ".py",
   "mimetype": "text/x-python",
   "name": "python",
   "nbconvert_exporter": "python",
   "pygments_lexer": "ipython3",
   "version": "3.6.8"
  }
 },
 "nbformat": 4,
 "nbformat_minor": 2
}
