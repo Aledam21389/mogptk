{
 "cells": [
  {
   "cell_type": "markdown",
   "metadata": {},
   "source": [
    "# Magnitude structure for minimizing negative transfer of knowledge in MOGP\n",
    "\n",
    "\n",
    "Given a number of outputs $M=3$, each one with $Q_{\\text{unique}}=3$ latent components, with $Q_{\\text{pair}}=1$  pairwise components and $Q_{\\text{shared}}=2$ shared components.\n",
    "\n",
    "This leads to a total of \n",
    "\n",
    "\\begin{align}\n",
    "Q_{\\text{total}} & = M * Q_u + \\binom{M}{2} Q_p + Q_s \\\\\n",
    "Q_{\\text{total}} & = 3 * 3 + 3 * 1 * + 2 = 14\n",
    "\\end{align}\n",
    "\n",
    "With this, a binary matrix with the weights has the form:"
   ]
  },
  {
   "cell_type": "code",
   "execution_count": 1,
   "metadata": {
    "ExecuteTime": {
     "end_time": "2019-12-31T21:33:29.251799Z",
     "start_time": "2019-12-31T21:33:29.022832Z"
    }
   },
   "outputs": [],
   "source": [
    "import numpy as np\n",
    "import matplotlib.pyplot as plt\n",
    "\n",
    "import itertools\n",
    "from scipy.special import comb"
   ]
  },
  {
   "cell_type": "code",
   "execution_count": 2,
   "metadata": {
    "ExecuteTime": {
     "end_time": "2019-12-31T21:33:29.283225Z",
     "start_time": "2019-12-31T21:33:29.253887Z"
    }
   },
   "outputs": [],
   "source": [
    "def create_mask(M, Q_u, Q_p, Q_s):\n",
    "    # total number of components\n",
    "    Q = int(Q_u.sum() + Q_s + comb(M, 2) * Q_p)\n",
    "    W = np.zeros((Q, M))\n",
    "\n",
    "    # unique\n",
    "    for i, q in enumerate(Q_u):\n",
    "        if i==0:\n",
    "            W[:q, i] = np.ones(q)\n",
    "        else:\n",
    "            aux = np.cumsum(Q_u)[i - 1]\n",
    "            W[aux:aux+q, i] = np.ones(q)\n",
    "\n",
    "    # pairwise\n",
    "    if Q_p > 0:\n",
    "        pairs = list(itertools.combinations(range(M), 2))\n",
    "\n",
    "        aux = Q_u.sum()\n",
    "        for p in pairs:\n",
    "            W[aux:aux+Q_p, p] = np.ones(Q_p)\n",
    "            aux += Q_p\n",
    "\n",
    "    # shared\n",
    "    if Q_s > 0:\n",
    "        W[-Q_s:] = np.ones((Q_s, M))\n",
    "    \n",
    "    return W"
   ]
  },
  {
   "cell_type": "code",
   "execution_count": 3,
   "metadata": {
    "ExecuteTime": {
     "end_time": "2019-12-31T21:33:29.456708Z",
     "start_time": "2019-12-31T21:33:29.285092Z"
    }
   },
   "outputs": [],
   "source": [
    "# channels\n",
    "M = 4\n",
    "# unique\n",
    "Q_u = np.array([2, 3, 0, 1]) \n",
    "# pairwise\n",
    "Q_p = 2\n",
    "# shared\n",
    "Q_s = 3 \n",
    "\n",
    "W = create_mask(M, Q_u, Q_p, Q_s)"
   ]
  },
  {
   "cell_type": "code",
   "execution_count": 4,
   "metadata": {
    "ExecuteTime": {
     "end_time": "2019-12-31T21:33:29.772055Z",
     "start_time": "2019-12-31T21:33:29.460025Z"
    }
   },
   "outputs": [
    {
     "data": {
      "text/plain": [
       "<matplotlib.image.AxesImage at 0x7f0403c42f28>"
      ]
     },
     "execution_count": 4,
     "metadata": {},
     "output_type": "execute_result"
    },
    {
     "data": {
      "image/png": "[encoded data removed]",
      "text/plain": [
       "<Figure size 288x1152 with 1 Axes>"
      ]
     },
     "metadata": {
      "needs_background": "light"
     },
     "output_type": "display_data"
    }
   ],
   "source": [
    "plt.matshow(W)"
   ]
  },
  {
   "cell_type": "code",
   "execution_count": 5,
   "metadata": {
    "ExecuteTime": {
     "end_time": "2019-12-31T21:33:29.788036Z",
     "start_time": "2019-12-31T21:33:29.778992Z"
    }
   },
   "outputs": [
    {
     "data": {
      "text/plain": [
       "array([11., 12.,  9., 10.])"
      ]
     },
     "execution_count": 5,
     "metadata": {},
     "output_type": "execute_result"
    }
   ],
   "source": [
    "W.sum(0)"
   ]
  },
  {
   "cell_type": "code",
   "execution_count": null,
   "metadata": {},
   "outputs": [],
   "source": []
  }
 ],
 "metadata": {
  "kernelspec": {
   "display_name": "tfgpu",
   "language": "python",
   "name": "tfgpu"
  },
  "language_info": {
   "codemirror_mode": {
    "name": "ipython",
    "version": 3
   },
   "file_extension": ".py",
   "mimetype": "text/x-python",
   "name": "python",
   "nbconvert_exporter": "python",
   "pygments_lexer": "ipython3",
   "version": "3.6.8"
  }
 },
 "nbformat": 4,
 "nbformat_minor": 2
}
