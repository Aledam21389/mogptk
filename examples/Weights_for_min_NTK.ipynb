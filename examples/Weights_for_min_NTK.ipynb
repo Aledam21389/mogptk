{
 "cells": [
  {
   "cell_type": "markdown",
   "metadata": {},
   "source": [
    "# Magnitude structure for minimizing negative transfer of knowledge in MOGP\n",
    "\n",
    "\n",
    "Given a number of outputs $M=3$, each one with $Q_{\\text{unique}}=3$ latent components, with $Q_{\\text{pair}}=1$  pairwise components and $Q_{\\text{shared}}=2$ shared components.\n",
    "\n",
    "This leads to a total of \n",
    "\n",
    "\\begin{align}\n",
    "Q_{\\text{total}} & = M * Q_u + \\binom{M}{2} Q_p + Q_s \\\\\n",
    "Q_{\\text{total}} & = 3 * 3 + 3 * 1 * + 2 = 14\n",
    "\\end{align}\n",
    "\n",
    "With this, a binary matrix with the weights has the form:"
   ]
  },
  {
   "cell_type": "code",
   "execution_count": 14,
   "metadata": {
    "ExecuteTime": {
     "end_time": "2019-12-16T18:18:34.113733Z",
     "start_time": "2019-12-16T18:18:34.106765Z"
    }
   },
   "outputs": [],
   "source": [
    "import numpy as np\n",
    "import matplotlib.pyplot as plt\n",
    "\n",
    "from scipy.special import comb"
   ]
  },
  {
   "cell_type": "code",
   "execution_count": 15,
   "metadata": {
    "ExecuteTime": {
     "end_time": "2019-12-16T18:18:34.320744Z",
     "start_time": "2019-12-16T18:18:34.308198Z"
    }
   },
   "outputs": [],
   "source": [
    "M = 3\n",
    "Q_u = 3 # unique\n",
    "Q_p = 1 # pairwise\n",
    "Q_s = 2 # shared\n",
    "\n",
    "Q = int(M * Q_u + Q_s + comb(M, 2))"
   ]
  },
  {
   "cell_type": "code",
   "execution_count": 22,
   "metadata": {
    "ExecuteTime": {
     "end_time": "2019-12-16T18:21:02.022266Z",
     "start_time": "2019-12-16T18:21:02.016124Z"
    }
   },
   "outputs": [],
   "source": [
    "W = np.zeros((Q, M))\n",
    "\n",
    "# unique\n",
    "for m in range(M):\n",
    "    W[m:m+Q_u,m] = np.ones(Q_u)\n",
    "\n",
    "# pairwise\n",
    "\n",
    "# shared\n",
    "W[-Q_s:] = np.ones((Q_s, M))"
   ]
  },
  {
   "cell_type": "code",
   "execution_count": 23,
   "metadata": {
    "ExecuteTime": {
     "end_time": "2019-12-16T18:21:03.349851Z",
     "start_time": "2019-12-16T18:21:03.166608Z"
    }
   },
   "outputs": [
    {
     "data": {
      "text/plain": [
       "<matplotlib.image.AxesImage at 0x7ff1aefaed68>"
      ]
     },
     "execution_count": 23,
     "metadata": {},
     "output_type": "execute_result"
    },
    {
     "data": {
      "image/png": "[encoded data removed]",
      "text/plain": [
       "<Figure size 288x1152 with 1 Axes>"
      ]
     },
     "metadata": {
      "needs_background": "light"
     },
     "output_type": "display_data"
    }
   ],
   "source": [
    "plt.matshow(W)"
   ]
  },
  {
   "cell_type": "code",
   "execution_count": null,
   "metadata": {},
   "outputs": [],
   "source": []
  }
 ],
 "metadata": {
  "kernelspec": {
   "display_name": "tfgpu",
   "language": "python",
   "name": "tfgpu"
  },
  "language_info": {
   "codemirror_mode": {
    "name": "ipython",
    "version": 3
   },
   "file_extension": ".py",
   "mimetype": "text/x-python",
   "name": "python",
   "nbconvert_exporter": "python",
   "pygments_lexer": "ipython3",
   "version": "3.6.8"
  }
 },
 "nbformat": 4,
 "nbformat_minor": 2
}
