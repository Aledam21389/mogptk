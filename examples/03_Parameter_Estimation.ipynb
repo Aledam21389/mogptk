{
 "cells": [
  {
   "cell_type": "markdown",
   "metadata": {},
   "source": [
    "# 03 Parameter estimation\n",
    "\n",
    "Spectral kernels are flexible but difficult to optimize, to solve this we equip the toolkit with different ways to initialize the parameters before training.\n",
    "\n",
    "In this notebook we will showcase the diferent initialization for single output spectral mixture and multioutput kernels.\n",
    "\n",
    "For single output spectral mixture kernel there is 3 ways:\n",
    "* __Random__: Uses heuristic defined in ndrew Wilson PHD thesis, \n",
    "    - Inverse of lengthscales should be drawn from truncated Gaussian |N(0, max_dist^2)|\n",
    "    - Draw means from Unif(0, 0.5 / minimum distance between two points)\n",
    "    - Mixture weights should be roughly the std  of the y values divided by the number of mixtures\n",
    "    - \n",
    "* __BNSE__: Uses Bayesian Nonparametric Spectral Estimation (Tobar 2018) to estimate the power spectral density (PSD) of the signal, and asign.\n",
    "    - Find the peaks in the PSD and order it by magnitude\n",
    "    - Means as the position of the first Q peaks\n",
    "    - Lengthscales as the width of the peaks.\n",
    "    - Mixture weight as the normalized peaks magnitude.\n",
    "    \n",
    "\n",
    "* __Lomb Scargle__: Uses Lomb Scargle periodogram and obtain an estimate of the PSD, then follow the same heuristic as BNSE.\n",
    "\n",
    "\n",
    "For multiputput spectral kernels there is 2 ways:\n",
    "\n",
    "* __SM__: Fit and independent GP with spectral mixture kernel for each channel, then use those parameters as initial parameters.\n",
    "\n",
    "* __BNSE__: For each channel estimate the PSD using BNSE, and apply the same heuristics as the single output case.\n",
    "\n",
    "In both cases the noise for each channel is initializated as $1/30$ of the channels variance."
   ]
  },
  {
   "cell_type": "code",
   "execution_count": 1,
   "metadata": {
    "ExecuteTime": {
     "end_time": "2019-07-26T20:47:42.356969Z",
     "start_time": "2019-07-26T20:47:37.443451Z"
    }
   },
   "outputs": [],
   "source": [
    "# import library if it is not installed\n",
    "import sys\n",
    "sys.path.insert(0, '../')\n",
    "\n",
    "import mogptk\n",
    "import numpy as np\n",
    "\n",
    "import matplotlib.pyplot as plt\n",
    "import seaborn as sns\n",
    "\n",
    "%reload_ext autoreload\n",
    "%autoreload 2"
   ]
  },
  {
   "cell_type": "code",
   "execution_count": 2,
   "metadata": {
    "ExecuteTime": {
     "end_time": "2019-07-26T20:47:42.356969Z",
     "start_time": "2019-07-26T20:47:37.443451Z"
    }
   },
   "outputs": [],
   "source": [
    "sns.set_context('notebook', font_scale=1.3)\n",
    "sns.set_style('ticks')\n",
    "plt.rcParams['figure.figsize'] = (10, 4)"
   ]
  },
  {
   "cell_type": "markdown",
   "metadata": {},
   "source": [
    "## Synthetic  Data\n",
    "\n",
    "To showcase the initialization, we first create a dataset consisting in a sum of sinuoids\n",
    "\n",
    "$y(t) = \\sum_{i=1}^{3} a_i \\sin(t f_i) + \\epsilon, \\quad \\epsilon \\sim \\mathcal{N}(0, \\sigma_n^2)$\n",
    "\n",
    "With known frequencies $f_i$ and amplitudes $a_i$, when fiting the spectral mixture kernel, we should should expect the means to have similar values as the frequencies"
   ]
  },
  {
   "cell_type": "code",
   "execution_count": null,
   "metadata": {
    "ExecuteTime": {
     "end_time": "2019-07-26T20:47:42.534099Z",
     "start_time": "2019-07-26T20:47:42.505555Z"
    }
   },
   "outputs": [],
   "source": [
    "# target freq to estimate\n",
    "target_freqs = np.array([0.2, 1, 2])\n",
    "target_amps = [1, 0.5, 0.5]\n",
    "\n",
    "n_points = 500\n",
    "\n",
    "t = np.linspace(0, 20, n_points)\n",
    "y = np.zeros(n_points)\n",
    "\n",
    "for i in range(3):\n",
    "    y += target_amps[i] * np.sin(2 * np.pi * target_freqs[i] * t)\n",
    "    \n",
    "y_n = y + np.random.normal(scale=0.4, size=n_points)\n",
    "y_n = np.exp(y_n)\n",
    "y_n += -y_n.min() + 1e-1\n",
    "\n",
    "# data class\n",
    "data = mogptk.Data(t.reshape(-1, 1), y_n)\n",
    "data.remove_range(start=10.0, end=None)\n",
    "\n",
    "data.plot()"
   ]
  },
  {
   "cell_type": "code",
   "execution_count": null,
   "metadata": {},
   "outputs": [],
   "source": [
    "data.plot_spectrum()"
   ]
  },
  {
   "cell_type": "code",
   "execution_count": null,
   "metadata": {},
   "outputs": [],
   "source": [
    "data.transform(mogptk.TransformLog)\n",
    "data.plot()"
   ]
  },
  {
   "cell_type": "code",
   "execution_count": null,
   "metadata": {
    "ExecuteTime": {
     "end_time": "2019-07-26T20:47:43.357508Z",
     "start_time": "2019-07-26T20:47:43.335360Z"
    }
   },
   "outputs": [],
   "source": [
    "# create model\n",
    "model = mogptk.SM([data], Q=4)\n",
    "\n",
    "model.plot_psd(title='PSD with random parameters')"
   ]
  },
  {
   "cell_type": "code",
   "execution_count": null,
   "metadata": {
    "ExecuteTime": {
     "end_time": "2019-07-26T20:47:44.875904Z",
     "start_time": "2019-07-26T20:47:43.821961Z"
    }
   },
   "outputs": [],
   "source": [
    "# initialize params\n",
    "method = 'BNSE'\n",
    "model.init_params(method=method)\n",
    "\n",
    "model.plot_psd(title='PSD with {} initialization'.format(method))"
   ]
  },
  {
   "cell_type": "code",
   "execution_count": null,
   "metadata": {
    "ExecuteTime": {
     "end_time": "2019-07-26T20:47:50.706866Z",
     "start_time": "2019-07-26T20:47:44.877372Z"
    }
   },
   "outputs": [],
   "source": [
    "model.build()\n",
    "model.train(method='L-BFGS-B', maxiter=5000, tol=1e-20)\n",
    "\n",
    "model.plot_psd(title='PSD with model trained')"
   ]
  },
  {
   "cell_type": "code",
   "execution_count": null,
   "metadata": {
    "ExecuteTime": {
     "end_time": "2019-07-26T20:47:51.191760Z",
     "start_time": "2019-07-26T20:47:50.708769Z"
    }
   },
   "outputs": [],
   "source": [
    "y_pred, lower_ci, upper_ci  = model.predict([t])\n",
    "\n",
    "plt.plot(t, y_pred[0], label='Post.mean', lw=2, zorder=2)\n",
    "plt.plot(t[:250], y_n[:250], '.k', alpha=0.7, zorder=2, label='Train')\n",
    "plt.plot(t[250:], np.exp(y[250:]), '--k', zorder=3, label='Test')\n",
    "plt.fill_between(t,\n",
    "                 lower_ci[0],\n",
    "                 upper_ci[0],\n",
    "                 color='b',\n",
    "                 alpha=0.3,\n",
    "                 zorder=1,\n",
    "                 label='95% c.i')\n",
    "plt.xlim(-0.1, 20.1)\n",
    "plt.legend(ncol=4)\n",
    "plt.title('Predictions with trained model');"
   ]
  },
  {
   "cell_type": "code",
   "execution_count": null,
   "metadata": {
    "ExecuteTime": {
     "end_time": "2019-07-26T20:48:04.222255Z",
     "start_time": "2019-07-26T20:47:51.193973Z"
    },
    "scrolled": true
   },
   "outputs": [],
   "source": [
    "# err_param, err_pred = experiment(t[:250], y_n[:250], t, y, target_freqs, Q=3, n_trials=10)"
   ]
  },
  {
   "cell_type": "code",
   "execution_count": null,
   "metadata": {
    "ExecuteTime": {
     "end_time": "2019-07-26T20:48:04.224123Z",
     "start_time": "2019-07-26T20:47:37.472Z"
    }
   },
   "outputs": [],
   "source": [
    "# err_param.mean(1), err_param.std(1)"
   ]
  },
  {
   "cell_type": "code",
   "execution_count": null,
   "metadata": {
    "ExecuteTime": {
     "end_time": "2019-07-26T20:48:04.225037Z",
     "start_time": "2019-07-26T20:47:37.474Z"
    }
   },
   "outputs": [],
   "source": [
    "# err_pred.mean(1), err_pred.std(1)"
   ]
  },
  {
   "cell_type": "markdown",
   "metadata": {
    "collapsed": true
   },
   "source": [
    "\n",
    "# Experiment 1: Mauna Loa"
   ]
  },
  {
   "cell_type": "code",
   "execution_count": null,
   "metadata": {
    "ExecuteTime": {
     "end_time": "2019-07-26T20:48:06.904917Z",
     "start_time": "2019-07-26T20:48:06.824825Z"
    }
   },
   "outputs": [],
   "source": [
    "# dataset mauna loa\n",
    "from sklearn.datasets import fetch_openml\n",
    "\n",
    "def load_mauna_loa_atmospheric_co2():\n",
    "    ml_data = fetch_openml(data_id=41187)\n",
    "    months = []\n",
    "    ppmv_sums = []\n",
    "    counts = []\n",
    "\n",
    "    y = ml_data.data[:, 0]\n",
    "    m = ml_data.data[:, 1]\n",
    "    month_float = y + (m - 1) / 12\n",
    "    ppmvs = ml_data.target\n",
    "\n",
    "    for month, ppmv in zip(month_float, ppmvs):\n",
    "        if not months or month != months[-1]:\n",
    "            months.append(month)\n",
    "            ppmv_sums.append(ppmv)\n",
    "            counts.append(1)\n",
    "        else:\n",
    "            # aggregate monthly sum to produce average\n",
    "            ppmv_sums[-1] += ppmv\n",
    "            counts[-1] += 1\n",
    "\n",
    "    months = np.asarray(months).reshape(-1)\n",
    "    avg_ppmvs = np.asarray(ppmv_sums) / counts\n",
    "    return months, avg_ppmvs"
   ]
  },
  {
   "cell_type": "code",
   "execution_count": null,
   "metadata": {
    "ExecuteTime": {
     "end_time": "2019-07-26T20:48:08.730675Z",
     "start_time": "2019-07-26T20:48:07.015082Z"
    }
   },
   "outputs": [],
   "source": [
    "x, y = load_mauna_loa_atmospheric_co2()\n",
    "\n",
    "stop = 200\n",
    "\n",
    "plt.plot(x[:stop], y[:stop], label='Train')\n",
    "plt.plot(x[stop:], y[stop:], 'r', label='Test')\n",
    "plt.legend()\n",
    "plt.xlabel('Year')\n",
    "plt.ylabel('CO2');\n",
    "plt.title('Mauna Loa dataset');"
   ]
  },
  {
   "cell_type": "code",
   "execution_count": null,
   "metadata": {
    "ExecuteTime": {
     "end_time": "2019-07-26T20:48:09.054462Z",
     "start_time": "2019-07-26T20:48:08.732903Z"
    }
   },
   "outputs": [],
   "source": [
    "# add data\n",
    "data = mogptk.Data(x[:stop, np.newaxis], y[:stop])\n",
    "data.transform(mogptk.TransformDetrend(3))\n",
    "\n",
    "# create model\n",
    "model = mogptk.SM([data], Q=10)\n",
    "\n",
    "model.plot_psd(title='PSD with random parameters')"
   ]
  },
  {
   "cell_type": "code",
   "execution_count": null,
   "metadata": {},
   "outputs": [],
   "source": [
    "# plot detrended data\n",
    "data.plot(title='Detrended Data')"
   ]
  },
  {
   "cell_type": "code",
   "execution_count": null,
   "metadata": {
    "ExecuteTime": {
     "end_time": "2019-07-26T20:48:11.208029Z",
     "start_time": "2019-07-26T20:48:09.056142Z"
    }
   },
   "outputs": [],
   "source": [
    "method = 'BNSE'\n",
    "model.init_params(method)\n",
    "model.plot_psd(title='PSD with {} initialization'.format(method))"
   ]
  },
  {
   "cell_type": "code",
   "execution_count": null,
   "metadata": {
    "ExecuteTime": {
     "end_time": "2019-07-26T20:48:29.475806Z",
     "start_time": "2019-07-26T20:48:11.209687Z"
    }
   },
   "outputs": [],
   "source": [
    "%%time \n",
    "model.build()\n",
    "model.train(method='L-BFGS-B', maxiter=10000, tol=1e-85)\n",
    "\n",
    "model.plot_psd(title='PSD with model trained')"
   ]
  },
  {
   "cell_type": "code",
   "execution_count": null,
   "metadata": {
    "ExecuteTime": {
     "end_time": "2019-07-26T20:49:05.544784Z",
     "start_time": "2019-07-26T20:49:05.171089Z"
    }
   },
   "outputs": [],
   "source": [
    "%%time \n",
    "# prediction\n",
    "x_pred = [x.reshape(-1, 1)]\n",
    "\n",
    "y_pred, lower_ci, upper_ci = model.predict(x_pred)\n",
    "\n",
    "# plot\n",
    "plt.plot(x[:stop], y[:stop], '-k', label='Train')\n",
    "plt.plot(x[stop:], y[stop:], '-r', label='Test')\n",
    "plt.plot(x_pred[0], y_pred[0], lw=1.5, zorder=1, label='GP-SM')\n",
    "plt.fill_between(x_pred[0].reshape(-1),\n",
    "                 lower_ci[0],\n",
    "                 upper_ci[0],\n",
    "                 color='b',\n",
    "                 alpha=0.3,\n",
    "                 zorder=1)\n",
    "plt.legend(ncol=3)\n",
    "plt.title('Mauna Loa')\n",
    "plt.xlabel('Year')\n",
    "plt.ylabel('CO2')"
   ]
  },
  {
   "cell_type": "markdown",
   "metadata": {},
   "source": [
    "# Airplane passangers"
   ]
  },
  {
   "cell_type": "code",
   "execution_count": null,
   "metadata": {
    "ExecuteTime": {
     "end_time": "2019-07-26T20:48:04.235667Z",
     "start_time": "2019-07-26T20:47:37.506Z"
    }
   },
   "outputs": [],
   "source": [
    "air = np.loadtxt('data/Airline_passenger.csv')\n",
    "\n",
    "stop = 96\n",
    "\n",
    "x = air[: ,0]\n",
    "y = air[:, 1]\n",
    "\n",
    "# add data\n",
    "data = mogptk.Data(x[:stop, np.newaxis], y[:stop])\n",
    "\n",
    "data.transform(mogptk.TransformLog)\n",
    "data.transform(mogptk.TransformDetrend(3))\n",
    "\n",
    "# create model\n",
    "model = mogptk.SM([data], Q=10)\n",
    "\n",
    "data.plot()"
   ]
  },
  {
   "cell_type": "code",
   "execution_count": null,
   "metadata": {
    "ExecuteTime": {
     "end_time": "2019-07-26T20:48:04.237457Z",
     "start_time": "2019-07-26T20:47:37.510Z"
    }
   },
   "outputs": [],
   "source": [
    "method = 'BNSE'\n",
    "model.init_params(method)\n",
    "\n",
    "model.plot_psd(title='PSD with {} initialization'.format(method))"
   ]
  },
  {
   "cell_type": "code",
   "execution_count": null,
   "metadata": {
    "ExecuteTime": {
     "end_time": "2019-07-26T20:48:04.238450Z",
     "start_time": "2019-07-26T20:47:37.513Z"
    },
    "scrolled": false
   },
   "outputs": [],
   "source": [
    "model.build()\n",
    "model.train('L-BFGS-B', maxiter=2000, tol=1e-80)\n",
    "\n",
    "model.plot_psd(title='PSD with model trained')"
   ]
  },
  {
   "cell_type": "code",
   "execution_count": null,
   "metadata": {
    "ExecuteTime": {
     "end_time": "2019-07-26T20:48:04.239813Z",
     "start_time": "2019-07-26T20:47:37.515Z"
    }
   },
   "outputs": [],
   "source": [
    "x_pred = [x[:, np.newaxis]]\n",
    "y_pred, lower_ci, upper_ci = model.predict(x_pred)\n",
    "\n",
    "# plot\n",
    "plt.plot(x[:stop], y[:stop], '-k', label='Train')\n",
    "plt.plot(x[stop:], y[stop:], '-r', label='Test')\n",
    "plt.plot(x_pred[0], y_pred[0], lw=1.5, zorder=2, label='GP-SM')\n",
    "plt.fill_between(x_pred[0].reshape(-1),\n",
    "                 lower_ci[0],\n",
    "                 upper_ci[0],\n",
    "                 color='b',\n",
    "                 alpha=0.3,\n",
    "                 zorder=1)\n",
    "plt.title('Airline passanger')\n",
    "plt.legend(ncol=3)\n",
    "plt.xlabel('Month')\n",
    "plt.ylabel('Passanger');"
   ]
  },
  {
   "cell_type": "markdown",
   "metadata": {},
   "source": [
    "# Jura single output\n",
    "\n",
    "\n",
    "Save for later (until multi input)"
   ]
  }
 ],
 "metadata": {
  "anaconda-cloud": {},
  "kernelspec": {
   "display_name": "Python [conda env:tensorflow2_gpu]",
   "language": "python",
   "name": "conda-env-tensorflow2_gpu-py"
  },
  "language_info": {
   "codemirror_mode": {
    "name": "ipython",
    "version": 3
   },
   "file_extension": ".py",
   "mimetype": "text/x-python",
   "name": "python",
   "nbconvert_exporter": "python",
   "pygments_lexer": "ipython3",
   "version": "3.7.5"
  },
  "nbpresent": {
   "slides": {},
   "themes": {
    "default": "3c73f974-bb17-4a98-9a42-db81b0035f72",
    "theme": {}
   }
  }
 },
 "nbformat": 4,
 "nbformat_minor": 2
}
