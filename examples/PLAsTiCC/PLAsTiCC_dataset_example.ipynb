{
 "cells": [
  {
   "cell_type": "markdown",
   "metadata": {
    "collapsed": true
   },
   "source": [
    "The Photometric LSST Astronomical Time-Series Classification Challenge (PLAsTiCC) comprises a collection of synthetic multi-channel time series for the task of astronomical object classification. The initiative seeks to inspire the creation of robust classification algorithms before the project is completed, so the data is designed to mimic the data expected to be produced by the LSST. \n",
    "\n",
    "https://arxiv.org/abs/1810.00001\n",
    "https://www.kaggle.com/c/PLAsTiCC-2018\n",
    "\n",
    "We are, however, interested in the task of signal reconstruction more than signal classification, although a gaussian process model fitting a curve can be interpreted as a signal's feature vector by virtue of the model's parameters."
   ]
  },
  {
   "cell_type": "code",
   "execution_count": 1,
   "metadata": {},
   "outputs": [],
   "source": [
    "import mogptk\n",
    "import numpy as np\n",
    "import csv\n",
    "import time"
   ]
  },
  {
   "cell_type": "markdown",
   "metadata": {},
   "source": [
    "The following functions allow us to unravel the information contained in the dataset in multioutput format."
   ]
  },
  {
   "cell_type": "code",
   "execution_count": 4,
   "metadata": {},
   "outputs": [
    {
     "name": "stdout",
     "output_type": "stream",
     "text": [
      "size  1421705\n",
      "<_csv.reader object at 0x7f9fc42057b8>\n"
     ]
    }
   ],
   "source": [
    "def make_X_y_for_one_obj(data_of_object):\n",
    "    #Since data_of_object are the rows pertaining the object\n",
    "    #we merely need to represent the 6-channel info in the appropriate format\n",
    "    #X has two values: [channel_id, mjd], where channel_id goes from 0 to 5\n",
    "    #y has one value: [flux]\n",
    "    X = np.zeros((data_of_object.shape[0],2))\n",
    "    y = np.zeros(data_of_object.shape[0])\n",
    "    counter = 0\n",
    "    for row in data_of_object:\n",
    "        X[counter,0] = row['band']\n",
    "        X[counter,1] = row['mjd']\n",
    "        y[counter] = row['flux']\n",
    "        counter = counter + 1\n",
    "    return X,y[:, None]\n",
    "\n",
    "def make_X_y_matrices(path):\n",
    "    with open(path, 'r') as csvfile:\n",
    "        reader = csv.reader(csvfile, delimiter=',')\n",
    "        row_size = len(next(reader)) #This is the header row, no need to re-read it or add it to data\n",
    "        size = (sum(1 for row in csvfile))\n",
    "        print(\"size \", size)\n",
    "        #For now we'll be using float32, but if more precision is needed it can be changed to 64\n",
    "        #We're using a structured array to benefit from np.sort's sorting by order, this will facilitate the separation of\n",
    "        #time series per stellar object.\n",
    "        data = np.zeros(size, dtype={'names':('id', 'mjd', 'band', 'flux', 'flux_err', 'detected'), 'formats': (int, np.float32, int, np.float32, np.float32, int)})\n",
    "        counter = 0\n",
    "        csvfile.seek(0)\n",
    "        next(reader)\n",
    "        print(reader)\n",
    "        for row in reader:\n",
    "            data[counter][0] = row[0] #id\n",
    "            data[counter][1] = row[1] #mjd\n",
    "            data[counter][2] = row[2] #band\n",
    "            data[counter][3] = row[3] #flux\n",
    "            data[counter][4] = row[4] #flux_err\n",
    "            data[counter][5] = row[5] #detected\n",
    "            counter = counter + 1\n",
    "            \n",
    "\n",
    "        data = np.sort(data, order=['id', 'band', 'mjd']) #We sort each object by band and date, this allows us to plot easily in the model.\n",
    "        X_y_of_each_object = []\n",
    "        start = 0\n",
    "        end = 0\n",
    "        current_object = data[0]['id']\n",
    "        for row in data:\n",
    "            if(row['id'] != current_object):\n",
    "                X_y_of_each_object.append(make_X_y_for_one_obj(data[start:end]))\n",
    "                start = end + 1\n",
    "                current_object = row['id']\n",
    "            end = end + 1\n",
    "        X_y_of_each_object.append(make_X_y_for_one_obj(data[start:end])) #Last object will not find a different one\n",
    "        return X_y_of_each_object\n",
    "\n",
    "X_y_of_each_object = make_X_y_matrices('../data/PLAsTiCC/training_set.csv') #We cast the dataset into X,y elements."
   ]
  },
  {
   "cell_type": "markdown",
   "metadata": {},
   "source": [
    "As in the smarphone dataset examples, we'll take the curves of one object and proceed to delete portions of the signals to test the model's reconstruction capabilities."
   ]
  },
  {
   "cell_type": "code",
   "execution_count": 5,
   "metadata": {},
   "outputs": [
    {
     "ename": "IndexError",
     "evalue": "index 1 is out of bounds for axis 0 with size 1",
     "output_type": "error",
     "traceback": [
      "\u001b[0;31m---------------------------------------------------------------------------\u001b[0m",
      "\u001b[0;31mIndexError\u001b[0m                                Traceback (most recent call last)",
      "\u001b[0;32m<ipython-input-5-c16ab1cce7e5>\u001b[0m in \u001b[0;36m<module>\u001b[0;34m\u001b[0m\n\u001b[1;32m      4\u001b[0m \u001b[0;34m\u001b[0m\u001b[0m\n\u001b[1;32m      5\u001b[0m \u001b[0mmodel\u001b[0m \u001b[0;34m=\u001b[0m \u001b[0mmogptk\u001b[0m\u001b[0;34m.\u001b[0m\u001b[0mmodel\u001b[0m\u001b[0;34m(\u001b[0m\u001b[0;36m5\u001b[0m\u001b[0;34m,\u001b[0m \u001b[0moptimizer\u001b[0m \u001b[0;34m=\u001b[0m \u001b[0;34m'L-BFGS-B'\u001b[0m\u001b[0;34m)\u001b[0m \u001b[0;31m#Powell takes a couple hours to compute, but always converges.\u001b[0m\u001b[0;34m\u001b[0m\u001b[0;34m\u001b[0m\u001b[0m\n\u001b[0;32m----> 6\u001b[0;31m \u001b[0mmodel\u001b[0m\u001b[0;34m.\u001b[0m\u001b[0madd_training_data\u001b[0m\u001b[0;34m(\u001b[0m\u001b[0mX\u001b[0m\u001b[0;34m,\u001b[0m \u001b[0my\u001b[0m\u001b[0;34m)\u001b[0m\u001b[0;34m\u001b[0m\u001b[0;34m\u001b[0m\u001b[0m\n\u001b[0m\u001b[1;32m      7\u001b[0m \u001b[0mmodel\u001b[0m\u001b[0;34m.\u001b[0m\u001b[0moptimization_heuristic_zero\u001b[0m\u001b[0;34m(\u001b[0m\u001b[0miterations\u001b[0m\u001b[0;34m=\u001b[0m\u001b[0;36m1000\u001b[0m\u001b[0;34m)\u001b[0m\u001b[0;34m\u001b[0m\u001b[0;34m\u001b[0m\u001b[0m\n\u001b[1;32m      8\u001b[0m \u001b[0mX_pred_new\u001b[0m \u001b[0;34m=\u001b[0m \u001b[0mmodel\u001b[0m\u001b[0;34m.\u001b[0m\u001b[0mpredict_interval\u001b[0m\u001b[0;34m(\u001b[0m\u001b[0;36m3200\u001b[0m\u001b[0;34m,\u001b[0m \u001b[0;34m[\u001b[0m\u001b[0mi\u001b[0m \u001b[0;32mfor\u001b[0m \u001b[0mi\u001b[0m \u001b[0;32min\u001b[0m \u001b[0mrange\u001b[0m\u001b[0;34m(\u001b[0m\u001b[0;36m6\u001b[0m\u001b[0;34m)\u001b[0m\u001b[0;34m]\u001b[0m\u001b[0;34m)\u001b[0m \u001b[0;31m#First argument is the desired resolution (number of points between start and ending point), second argument are the desired channels to predict upon.\u001b[0m\u001b[0;34m\u001b[0m\u001b[0;34m\u001b[0m\u001b[0m\n",
      "\u001b[0;32m~/dev/chile/GPs/MultiOutputGP-Toolbox/mogptk/model.py\u001b[0m in \u001b[0;36madd_training_data\u001b[0;34m(self, X, y, norm)\u001b[0m\n\u001b[1;32m    137\u001b[0m             \u001b[0mself\u001b[0m\u001b[0;34m.\u001b[0m\u001b[0my\u001b[0m\u001b[0;34m[\u001b[0m\u001b[0mchannel\u001b[0m\u001b[0;34m]\u001b[0m \u001b[0;34m=\u001b[0m \u001b[0mself\u001b[0m\u001b[0;34m.\u001b[0m\u001b[0my_train_input\u001b[0m\u001b[0;34m[\u001b[0m\u001b[0mchannel\u001b[0m\u001b[0;34m]\u001b[0m\u001b[0;34m\u001b[0m\u001b[0;34m\u001b[0m\u001b[0m\n\u001b[1;32m    138\u001b[0m \u001b[0;34m\u001b[0m\u001b[0m\n\u001b[0;32m--> 139\u001b[0;31m         \u001b[0mself\u001b[0m\u001b[0;34m.\u001b[0m\u001b[0mX_train_original\u001b[0m\u001b[0;34m,\u001b[0m \u001b[0mself\u001b[0m\u001b[0;34m.\u001b[0m\u001b[0my_train_original\u001b[0m \u001b[0;34m=\u001b[0m \u001b[0mself\u001b[0m\u001b[0;34m.\u001b[0m\u001b[0mtransform_lists_into_multioutput_format\u001b[0m\u001b[0;34m(\u001b[0m\u001b[0mself\u001b[0m\u001b[0;34m.\u001b[0m\u001b[0mX_train_input\u001b[0m\u001b[0;34m,\u001b[0m \u001b[0mself\u001b[0m\u001b[0;34m.\u001b[0m\u001b[0my_train_input\u001b[0m\u001b[0;34m)\u001b[0m\u001b[0;34m\u001b[0m\u001b[0;34m\u001b[0m\u001b[0m\n\u001b[0m\u001b[1;32m    140\u001b[0m \u001b[0;34m\u001b[0m\u001b[0m\n\u001b[1;32m    141\u001b[0m         \u001b[0;31m#Transform to multioutput format\u001b[0m\u001b[0;34m\u001b[0m\u001b[0;34m\u001b[0m\u001b[0;34m\u001b[0m\u001b[0m\n",
      "\u001b[0;32m~/dev/chile/GPs/MultiOutputGP-Toolbox/mogptk/model.py\u001b[0m in \u001b[0;36mtransform_lists_into_multioutput_format\u001b[0;34m(self, X, y)\u001b[0m\n\u001b[1;32m     45\u001b[0m             \u001b[0;32mfor\u001b[0m \u001b[0melement\u001b[0m \u001b[0;32min\u001b[0m \u001b[0mrange\u001b[0m\u001b[0;34m(\u001b[0m\u001b[0mlen\u001b[0m\u001b[0;34m(\u001b[0m\u001b[0mX\u001b[0m\u001b[0;34m[\u001b[0m\u001b[0mchannel\u001b[0m\u001b[0;34m]\u001b[0m\u001b[0;34m)\u001b[0m\u001b[0;34m)\u001b[0m\u001b[0;34m:\u001b[0m\u001b[0;34m\u001b[0m\u001b[0;34m\u001b[0m\u001b[0m\n\u001b[1;32m     46\u001b[0m                 \u001b[0mcurrent_x\u001b[0m \u001b[0;34m=\u001b[0m \u001b[0;34m[\u001b[0m\u001b[0mchannel\u001b[0m\u001b[0;34m]\u001b[0m\u001b[0;34m\u001b[0m\u001b[0;34m\u001b[0m\u001b[0m\n\u001b[0;32m---> 47\u001b[0;31m                 \u001b[0mcurrent_y\u001b[0m \u001b[0;34m=\u001b[0m \u001b[0;34m[\u001b[0m\u001b[0my\u001b[0m\u001b[0;34m[\u001b[0m\u001b[0mchannel\u001b[0m\u001b[0;34m]\u001b[0m\u001b[0;34m[\u001b[0m\u001b[0melement\u001b[0m\u001b[0;34m]\u001b[0m\u001b[0;34m]\u001b[0m\u001b[0;34m\u001b[0m\u001b[0;34m\u001b[0m\u001b[0m\n\u001b[0m\u001b[1;32m     48\u001b[0m                 \u001b[0;32mif\u001b[0m\u001b[0;34m(\u001b[0m\u001b[0misinstance\u001b[0m\u001b[0;34m(\u001b[0m\u001b[0mX\u001b[0m\u001b[0;34m[\u001b[0m\u001b[0mchannel\u001b[0m\u001b[0;34m]\u001b[0m\u001b[0;34m[\u001b[0m\u001b[0melement\u001b[0m\u001b[0;34m]\u001b[0m\u001b[0;34m,\u001b[0m \u001b[0;34m(\u001b[0m\u001b[0mlist\u001b[0m\u001b[0;34m,\u001b[0m \u001b[0mnp\u001b[0m\u001b[0;34m.\u001b[0m\u001b[0mndarray\u001b[0m\u001b[0;34m)\u001b[0m\u001b[0;34m)\u001b[0m\u001b[0;34m)\u001b[0m\u001b[0;34m:\u001b[0m\u001b[0;34m\u001b[0m\u001b[0;34m\u001b[0m\u001b[0m\n\u001b[1;32m     49\u001b[0m                     \u001b[0;32mfor\u001b[0m \u001b[0mx_i\u001b[0m \u001b[0;32min\u001b[0m \u001b[0mX\u001b[0m\u001b[0;34m[\u001b[0m\u001b[0mchannel\u001b[0m\u001b[0;34m]\u001b[0m\u001b[0;34m[\u001b[0m\u001b[0melement\u001b[0m\u001b[0;34m]\u001b[0m\u001b[0;34m:\u001b[0m\u001b[0;34m\u001b[0m\u001b[0;34m\u001b[0m\u001b[0m\n",
      "\u001b[0;31mIndexError\u001b[0m: index 1 is out of bounds for axis 0 with size 1"
     ]
    }
   ],
   "source": [
    "#Example for the first astronomical object of id 615\n",
    "starting_time = time.time()\n",
    "X, y = X_y_of_each_object[1]\n",
    "\n",
    "model = mogptk.model(5, optimizer = 'L-BFGS-B') #Powell takes a couple hours to compute, but always converges.\n",
    "model.add_training_data(X, y)\n",
    "model.optimization_heuristic_zero(iterations=1000)\n",
    "X_pred_new = model.predict_interval(3200, [i for i in range(6)]) #First argument is the desired resolution (number of points between start and ending point), second argument are the desired channels to predict upon.\n",
    "Y_pred, STD_pred = model.predict(X_pred_new)\n",
    "model.make_plots(\"PLAsTiCC_example_1.png\", var=False) #Variance is not included in the plot because it is too high.\n",
    "model.make_plots(\"PLAsTiCC_example_1_no_var.png\", var=True) #Variance is not included in the plot because it is too high.\n",
    "end_time = time.time()\n",
    "print(\"Total time: \", end_time-starting_time)"
   ]
  },
  {
   "cell_type": "code",
   "execution_count": 3,
   "metadata": {},
   "outputs": [
    {
     "ename": "NameError",
     "evalue": "name 'X_y_of_each_object' is not defined",
     "output_type": "error",
     "traceback": [
      "\u001b[0;31m---------------------------------------------------------------------------\u001b[0m",
      "\u001b[0;31mNameError\u001b[0m                                 Traceback (most recent call last)",
      "\u001b[0;32m<ipython-input-3-277e4bdbc780>\u001b[0m in \u001b[0;36m<module>\u001b[0;34m\u001b[0m\n\u001b[1;32m      1\u001b[0m \u001b[0;31m#Example for another astronomical object\u001b[0m\u001b[0;34m\u001b[0m\u001b[0;34m\u001b[0m\u001b[0;34m\u001b[0m\u001b[0m\n\u001b[1;32m      2\u001b[0m \u001b[0mstarting_time\u001b[0m \u001b[0;34m=\u001b[0m \u001b[0mtime\u001b[0m\u001b[0;34m.\u001b[0m\u001b[0mtime\u001b[0m\u001b[0;34m(\u001b[0m\u001b[0;34m)\u001b[0m\u001b[0;34m\u001b[0m\u001b[0;34m\u001b[0m\u001b[0m\n\u001b[0;32m----> 3\u001b[0;31m \u001b[0mX\u001b[0m\u001b[0;34m,\u001b[0m \u001b[0my\u001b[0m \u001b[0;34m=\u001b[0m \u001b[0mX_y_of_each_object\u001b[0m\u001b[0;34m[\u001b[0m\u001b[0;36m65\u001b[0m\u001b[0;34m]\u001b[0m\u001b[0;34m\u001b[0m\u001b[0;34m\u001b[0m\u001b[0m\n\u001b[0m\u001b[1;32m      4\u001b[0m \u001b[0;34m\u001b[0m\u001b[0m\n\u001b[1;32m      5\u001b[0m \u001b[0mmodel\u001b[0m \u001b[0;34m=\u001b[0m \u001b[0mmogptk\u001b[0m\u001b[0;34m.\u001b[0m\u001b[0mmodel\u001b[0m\u001b[0;34m(\u001b[0m\u001b[0;36m5\u001b[0m\u001b[0;34m,\u001b[0m \u001b[0moptimizer\u001b[0m \u001b[0;34m=\u001b[0m \u001b[0;34m'L-BFGS-B'\u001b[0m\u001b[0;34m)\u001b[0m \u001b[0;31m#Powell takes a couple hours to compute, but always converges.\u001b[0m\u001b[0;34m\u001b[0m\u001b[0;34m\u001b[0m\u001b[0m\n",
      "\u001b[0;31mNameError\u001b[0m: name 'X_y_of_each_object' is not defined"
     ]
    }
   ],
   "source": [
    "#Example for another astronomical object\n",
    "starting_time = time.time()\n",
    "X, y = X_y_of_each_object[65]\n",
    "\n",
    "model = mogptk.model(5, optimizer = 'L-BFGS-B') #Powell takes a couple hours to compute, but always converges.\n",
    "model.add_training_data(X, y)\n",
    "model.optimization_heuristic_zero(iterations=1000)\n",
    "X_pred_new = model.predict_interval(3200, [i for i in range(6)]) #First argument is the desired resolution (number of points between start and ending point), second argument are the desired channels to predict upon.\n",
    "Y_pred, STD_pred = model.predict(X_pred_new)\n",
    "model.make_plots(\"PLAsTiCC_example_65.png\", var=False) #Variance is not included in the plot because it is too high.\n",
    "model.make_plots(\"PLAsTiCC_example_65_no_var.png\", var=True) #Variance is not included in the plot because it is too high.\n",
    "end_time = time.time()\n",
    "print(\"Total time: \", end_time-starting_time)"
   ]
  },
  {
   "cell_type": "code",
   "execution_count": null,
   "metadata": {},
   "outputs": [],
   "source": []
  }
 ],
 "metadata": {
  "anaconda-cloud": {},
  "kernelspec": {
   "display_name": "Python 3",
   "language": "python",
   "name": "python3"
  },
  "language_info": {
   "codemirror_mode": {
    "name": "ipython",
    "version": 3
   },
   "file_extension": ".py",
   "mimetype": "text/x-python",
   "name": "python",
   "nbconvert_exporter": "python",
   "pygments_lexer": "ipython3",
   "version": "3.6.8"
  }
 },
 "nbformat": 4,
 "nbformat_minor": 2
}
