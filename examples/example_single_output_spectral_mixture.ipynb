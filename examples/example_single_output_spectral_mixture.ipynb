{
 "cells": [
  {
   "cell_type": "markdown",
   "metadata": {},
   "source": [
    "# Examples using the Spectral mixture kernel for single channel\n",
    "\n",
    "* Mauna Loa\n",
    "* Airline passengers"
   ]
  },
  {
   "cell_type": "code",
   "execution_count": null,
   "metadata": {},
   "outputs": [],
   "source": [
    "# import library if it is not installed\n",
    "import sys\n",
    "sys.path.insert(0, '../')\n",
    "\n",
    "import mogptk\n",
    "import numpy as np\n",
    "\n",
    "import matplotlib.pyplot as plt\n",
    "import seaborn as sns\n",
    "\n",
    "%reload_ext autoreload\n",
    "%autoreload 2"
   ]
  },
  {
   "cell_type": "code",
   "execution_count": null,
   "metadata": {},
   "outputs": [],
   "source": [
    "sns.set_context('notebook', font_scale=1.4)\n",
    "sns.set_style('ticks')\n",
    "plt.rcParams['figure.figsize'] = (10, 4)"
   ]
  },
  {
   "cell_type": "markdown",
   "metadata": {},
   "source": [
    "# Mauna Loa"
   ]
  },
  {
   "cell_type": "code",
   "execution_count": null,
   "metadata": {},
   "outputs": [],
   "source": [
    "# dataset mauna loa\n",
    "from sklearn.datasets import fetch_openml\n",
    "\n",
    "def load_mauna_loa_atmospheric_co2():\n",
    "    ml_data = fetch_openml(data_id=41187)\n",
    "    months = []\n",
    "    ppmv_sums = []\n",
    "    counts = []\n",
    "\n",
    "    y = ml_data.data[:, 0]\n",
    "    m = ml_data.data[:, 1]\n",
    "    month_float = y + (m - 1) / 12\n",
    "    ppmvs = ml_data.target\n",
    "\n",
    "    for month, ppmv in zip(month_float, ppmvs):\n",
    "        if not months or month != months[-1]:\n",
    "            months.append(month)\n",
    "            ppmv_sums.append(ppmv)\n",
    "            counts.append(1)\n",
    "        else:\n",
    "            # aggregate monthly sum to produce average\n",
    "            ppmv_sums[-1] += ppmv\n",
    "            counts[-1] += 1\n",
    "\n",
    "    months = np.asarray(months).reshape(-1)\n",
    "    avg_ppmvs = np.asarray(ppmv_sums) / counts\n",
    "    return months, avg_ppmvs"
   ]
  },
  {
   "cell_type": "code",
   "execution_count": null,
   "metadata": {},
   "outputs": [],
   "source": [
    "# load dataset\n",
    "x, y = load_mauna_loa_atmospheric_co2()\n",
    "\n",
    "stop = 200\n",
    "\n",
    "# plot\n",
    "plt.plot(x[:stop], y[:stop], label='Train')\n",
    "plt.plot(x[stop:], y[stop:], 'r', label='Test')\n",
    "plt.legend()\n",
    "plt.xlabel('Year')\n",
    "plt.ylabel('CO2');\n",
    "plt.title('Mauna Loa dataset');"
   ]
  },
  {
   "cell_type": "code",
   "execution_count": null,
   "metadata": {},
   "outputs": [],
   "source": [
    "# add data\n",
    "data = mogptk.Data(x[:stop, np.newaxis], y[:stop])\n",
    "data.transform(mogptk.TransformDetrend(2))\n",
    "\n",
    "# create model\n",
    "model = mogptk.SM([data], Q=10)\n",
    "\n",
    "model.plot_psd(title='PSD with random parameters')"
   ]
  },
  {
   "cell_type": "code",
   "execution_count": null,
   "metadata": {},
   "outputs": [],
   "source": [
    "# plot detrended data\n",
    "data.plot(title='Detrended Data')"
   ]
  },
  {
   "cell_type": "code",
   "execution_count": null,
   "metadata": {},
   "outputs": [],
   "source": [
    "method = 'BNSE'\n",
    "model.init_params(method)\n",
    "model.plot_psd(title='PSD with {} initialization'.format(method))"
   ]
  },
  {
   "cell_type": "code",
   "execution_count": null,
   "metadata": {},
   "outputs": [],
   "source": [
    "model.train(method='L-BFGS-B', maxiter=2000, tol=1e-20)\n",
    "model.plot_psd(title='PSD with model trained')"
   ]
  },
  {
   "cell_type": "code",
   "execution_count": null,
   "metadata": {},
   "outputs": [],
   "source": [
    "y_pred, lower_ci, upper_ci = model.predict(x)\n",
    "fig, ax = model.plot_prediction(title='Mauna Loa')\n",
    "ax.set_xlabel('Year')\n",
    "ax.set_ylabel('CO2');"
   ]
  },
  {
   "cell_type": "markdown",
   "metadata": {},
   "source": [
    "# Airplane passangers"
   ]
  },
  {
   "cell_type": "code",
   "execution_count": null,
   "metadata": {},
   "outputs": [],
   "source": [
    "air = np.loadtxt('data/Airline_passenger.csv')\n",
    "\n",
    "stop = 96\n",
    "\n",
    "x = air[: ,0]\n",
    "y = air[:, 1]\n",
    "\n",
    "# add data\n",
    "data = mogptk.Data(x[:stop, np.newaxis], y[:stop])\n",
    "\n",
    "data.transform(mogptk.TransformLog)\n",
    "data.transform(mogptk.TransformDetrend(2))\n",
    "\n",
    "# create model\n",
    "model = mogptk.SM([data], Q=10)\n",
    "\n",
    "data.plot()"
   ]
  },
  {
   "cell_type": "code",
   "execution_count": null,
   "metadata": {},
   "outputs": [],
   "source": [
    "method = 'BNSE'\n",
    "model.init_params(method)\n",
    "\n",
    "model.plot_psd(title='PSD with {} initialization'.format(method))"
   ]
  },
  {
   "cell_type": "code",
   "execution_count": null,
   "metadata": {},
   "outputs": [],
   "source": [
    "model.train('L-BFGS-B', maxiter=2000, tol=1e-80)\n",
    "\n",
    "model.plot_psd(title='PSD with model trained')"
   ]
  },
  {
   "cell_type": "code",
   "execution_count": null,
   "metadata": {},
   "outputs": [],
   "source": [
    "model.predict(x)\n",
    "fig, ax = model.plot_prediction(title='Mauna Loa')\n",
    "ax.set_xlabel('Month')\n",
    "ax.set_ylabel('Passengers');"
   ]
  }
 ],
 "metadata": {
  "kernelspec": {
   "display_name": "Python [conda env:tf2_gpu]",
   "language": "python",
   "name": "conda-env-tf2_gpu-py"
  },
  "language_info": {
   "codemirror_mode": {
    "name": "ipython",
    "version": 3
   },
   "file_extension": ".py",
   "mimetype": "text/x-python",
   "name": "python",
   "nbconvert_exporter": "python",
   "pygments_lexer": "ipython3",
   "version": "3.7.6"
  }
 },
 "nbformat": 4,
 "nbformat_minor": 2
}
