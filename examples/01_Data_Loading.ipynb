{
 "cells": [
  {
   "cell_type": "markdown",
   "metadata": {},
   "source": [
    "# 01-Data Loading\n",
    "\n",
    "_[Estimated execution time: 1 min]_\n",
    "\n",
    "This tutorial will show different ways of loading data sets and how we can process different data types such as date and time.\n",
    "\n",
    "In MOGPTK there are two data structures that are important, the `Data` and `DataSet` classes. The `Data` class is the basic component that holds all data and related information for a single channel. For example, it contains the `X` and `Y` coordinates of our input data, which coordinates are for training and testing, the name of the channel, the labels for the X and Y axes, the latent function of our data (if exists), data from predictions, data transformations (see tutorial about data preparation), and data formatters (discussed in this tutorial).\n",
    "\n",
    "The `DataSet` class is essentially an array of `Data` instances and thus represents a complete data set with multiple output (and input) channels. The separate `Data` instances can be obtained by indexing (e.g. `dataset[0]` returns the first data channel) and `DataSet` contains convenient functions over all channels."
   ]
  },
  {
   "cell_type": "code",
   "execution_count": 1,
   "metadata": {},
   "outputs": [],
   "source": [
    "import mogptk\n",
    "import pandas as pd"
   ]
  },
  {
   "cell_type": "markdown",
   "metadata": {},
   "source": [
    "## Loading from CSV file\n",
    "Loading CSV files can be done through the [`mogptk.LoadCSV`](https://games-uchile.github.io/MultiOutputGP-Toolkit/data.html#mogptk.data.LoadCSV) function. We will use the airline passenger data set as an example and we'll inspect how the first lines of this file look like:"
   ]
  },
  {
   "cell_type": "code",
   "execution_count": 3,
   "metadata": {},
   "outputs": [
    {
     "name": "stdout",
     "output_type": "stream",
     "text": [
      "0.000000000000000000e+00 1.120000000000000000e+02\n",
      "1.000000000000000000e+00 1.180000000000000000e+02\n",
      "2.000000000000000000e+00 1.320000000000000000e+02\n",
      "3.000000000000000000e+00 1.290000000000000000e+02\n",
      "4.000000000000000000e+00 1.210000000000000000e+02\n"
     ]
    }
   ],
   "source": [
    "with open('data/Airline_passenger.csv') as f:\n",
    "    for i in range(5):\n",
    "        print(f.readline(), end='')"
   ]
  },
  {
   "cell_type": "markdown",
   "metadata": {},
   "source": [
    "We note that there are no column names in the first row, nor are columns separated by commas which usually is the case with CSV (comma-separated values) files. Our function is able to load this CSV file, but we have to explicitly pass `sep=' '` to tell that columns are separated by spaces. We also pass the `names=['time','passengers]` to set the column names explicitly as they cannot be extracted from the data."
   ]
  },
  {
   "cell_type": "code",
   "execution_count": 4,
   "metadata": {},
   "outputs": [
    {
     "data": {
      "text/plain": [
       "      time  passengers\n",
       "0      0.0       112.0\n",
       "1      1.0       118.0\n",
       "2      2.0       132.0\n",
       "3      3.0       129.0\n",
       "4      4.0       121.0\n",
       "..     ...         ...\n",
       "139  139.0       606.0\n",
       "140  140.0       508.0\n",
       "141  141.0       461.0\n",
       "142  142.0       390.0\n",
       "143  143.0       432.0\n",
       "\n",
       "[144 rows x 2 columns]"
      ]
     },
     "execution_count": 4,
     "metadata": {},
     "output_type": "execute_result"
    }
   ],
   "source": [
    "mogptk.LoadCSV('data/Airline_passenger.csv',\n",
    "               names=['time','passengers'],\n",
    "               sep=' ')"
   ]
  },
  {
   "cell_type": "markdown",
   "metadata": {},
   "source": [
    "## Loading from DataFrame\n",
    "A more flexible way to load data is through data frame from pandas because DataFrames provides functions for loading from CSV, Excel, JSON, SQL, and more. Furthermore, dataframes allow to filter and clean the data before handing them over to the MOGP toolkit. We will be using the [`mogptk.LoadDataFrame`](https://games-uchile.github.io/MultiOutputGP-Toolkit/data.html#mogptk.data.LoadDataFrame) to load the airline passenger data. First we load our data into a DataFrame using the `read_table` function:"
   ]
  },
  {
   "cell_type": "code",
   "execution_count": 5,
   "metadata": {},
   "outputs": [
    {
     "data": {
      "text/html": [
       "<div>\n",
       "<style scoped>\n",
       "    .dataframe tbody tr th:only-of-type {\n",
       "        vertical-align: middle;\n",
       "    }\n",
       "\n",
       "    .dataframe tbody tr th {\n",
       "        vertical-align: top;\n",
       "    }\n",
       "\n",
       "    .dataframe thead th {\n",
       "        text-align: right;\n",
       "    }\n",
       "</style>\n",
       "<table border=\"1\" class=\"dataframe\">\n",
       "  <thead>\n",
       "    <tr style=\"text-align: right;\">\n",
       "      <th></th>\n",
       "      <th>time</th>\n",
       "      <th>passengers</th>\n",
       "    </tr>\n",
       "  </thead>\n",
       "  <tbody>\n",
       "    <tr>\n",
       "      <th>0</th>\n",
       "      <td>0.0</td>\n",
       "      <td>112.0</td>\n",
       "    </tr>\n",
       "    <tr>\n",
       "      <th>1</th>\n",
       "      <td>1.0</td>\n",
       "      <td>118.0</td>\n",
       "    </tr>\n",
       "    <tr>\n",
       "      <th>2</th>\n",
       "      <td>2.0</td>\n",
       "      <td>132.0</td>\n",
       "    </tr>\n",
       "    <tr>\n",
       "      <th>3</th>\n",
       "      <td>3.0</td>\n",
       "      <td>129.0</td>\n",
       "    </tr>\n",
       "    <tr>\n",
       "      <th>4</th>\n",
       "      <td>4.0</td>\n",
       "      <td>121.0</td>\n",
       "    </tr>\n",
       "    <tr>\n",
       "      <th>...</th>\n",
       "      <td>...</td>\n",
       "      <td>...</td>\n",
       "    </tr>\n",
       "    <tr>\n",
       "      <th>139</th>\n",
       "      <td>139.0</td>\n",
       "      <td>606.0</td>\n",
       "    </tr>\n",
       "    <tr>\n",
       "      <th>140</th>\n",
       "      <td>140.0</td>\n",
       "      <td>508.0</td>\n",
       "    </tr>\n",
       "    <tr>\n",
       "      <th>141</th>\n",
       "      <td>141.0</td>\n",
       "      <td>461.0</td>\n",
       "    </tr>\n",
       "    <tr>\n",
       "      <th>142</th>\n",
       "      <td>142.0</td>\n",
       "      <td>390.0</td>\n",
       "    </tr>\n",
       "    <tr>\n",
       "      <th>143</th>\n",
       "      <td>143.0</td>\n",
       "      <td>432.0</td>\n",
       "    </tr>\n",
       "  </tbody>\n",
       "</table>\n",
       "<p>144 rows × 2 columns</p>\n",
       "</div>"
      ],
      "text/plain": [
       "      time  passengers\n",
       "0      0.0       112.0\n",
       "1      1.0       118.0\n",
       "2      2.0       132.0\n",
       "3      3.0       129.0\n",
       "4      4.0       121.0\n",
       "..     ...         ...\n",
       "139  139.0       606.0\n",
       "140  140.0       508.0\n",
       "141  141.0       461.0\n",
       "142  142.0       390.0\n",
       "143  143.0       432.0\n",
       "\n",
       "[144 rows x 2 columns]"
      ]
     },
     "execution_count": 5,
     "metadata": {},
     "output_type": "execute_result"
    }
   ],
   "source": [
    "df = pd.read_table('data/Airline_passenger.csv',\n",
    "                   names=['time','passengers'],\n",
    "                   sep=' ')\n",
    "df"
   ]
  },
  {
   "cell_type": "markdown",
   "metadata": {},
   "source": [
    "Given the DataFrame we can load this into a `DataSet` as follows. This function will by default load the first column as the `X` axis and the second column as the `Y` axis. Using the `dtypes` of the data frame columns it will automatically load `datetime` and similar `dtypes` as numbers, since GPs can only train numbers."
   ]
  },
  {
   "cell_type": "code",
   "execution_count": 6,
   "metadata": {},
   "outputs": [
    {
     "data": {
      "text/plain": [
       "      time  passengers\n",
       "0      0.0       112.0\n",
       "1      1.0       118.0\n",
       "2      2.0       132.0\n",
       "3      3.0       129.0\n",
       "4      4.0       121.0\n",
       "..     ...         ...\n",
       "139  139.0       606.0\n",
       "140  140.0       508.0\n",
       "141  141.0       461.0\n",
       "142  142.0       390.0\n",
       "143  143.0       432.0\n",
       "\n",
       "[144 rows x 2 columns]"
      ]
     },
     "execution_count": 6,
     "metadata": {},
     "output_type": "execute_result"
    }
   ],
   "source": [
    "data = mogptk.LoadDataFrame(df)\n",
    "data"
   ]
  },
  {
   "cell_type": "markdown",
   "metadata": {},
   "source": [
    "## Selecting columns and loading datetime values\n",
    "Here we will use the air quality data set which includes column names as well as date and time values. First we inspect the first five lines:"
   ]
  },
  {
   "cell_type": "code",
   "execution_count": 7,
   "metadata": {},
   "outputs": [
    {
     "name": "stdout",
     "output_type": "stream",
     "text": [
      "Date;Time;CO(GT);PT08.S1(CO);NMHC(GT);C6H6(GT);PT08.S2(NMHC);NOx(GT);PT08.S3(NOx);NO2(GT);PT08.S4(NO2);PT08.S5(O3);T;RH;AH;;\n",
      "10/03/2004;18.00.00;2.6;1360;150;11.9;1046;166;1056;113;1692;1268;13.6;48.9;0.7578;;\n",
      "10/03/2004;19.00.00;2;1292;112;9.4;955;103;1174;92;1559;972;13.3;47.7;0.7255;;\n",
      "10/03/2004;20.00.00;2.2;1402;88;9.0;939;131;1140;114;1555;1074;11.9;54.0;0.7502;;\n",
      "10/03/2004;21.00.00;2.2;1376;80;9.2;948;172;1092;122;1584;1203;11.0;60.0;0.7867;;\n"
     ]
    }
   ],
   "source": [
    "with open('data/AirQualityUCI.csv') as f:\n",
    "    for i in range(5):\n",
    "        print(f.readline(), end='')"
   ]
  },
  {
   "cell_type": "markdown",
   "metadata": {},
   "source": [
    "We note that that the separator between the columns is a semicolon `;`, so this will be our separator for `pandas.read_table`. There is no need to set the `names` parameter since all the column names are given in the first row of the data file."
   ]
  },
  {
   "cell_type": "code",
   "execution_count": 8,
   "metadata": {},
   "outputs": [],
   "source": [
    "df = pd.read_table('data/AirQualityUCI.csv', sep=';')"
   ]
  },
  {
   "cell_type": "markdown",
   "metadata": {},
   "source": [
    "Data loading will automatically try and parse the `Date` column to see if it can be parsed as a datetime type. However we can also explicitly set the DataFrame column's dtype to `datetime64`. The toolkit will automatically recognize this and convert the date time values to numbers which is needed for training."
   ]
  },
  {
   "cell_type": "code",
   "execution_count": 9,
   "metadata": {},
   "outputs": [],
   "source": [
    "df['Date'] = pd.to_datetime(df['Date'])\n",
    "df['Time'] = pd.to_datetime(df['Time'], format='%H.%M.%S')"
   ]
  },
  {
   "cell_type": "markdown",
   "metadata": {},
   "source": [
    "Next we will load the data frame and set our input dimension to the `Date` column, and our output dimensions to the `CO(GT)` and `PT08.S1(CO)` columns. That means, we will have two channels `CO(GT)` and `PT08.S1(CO)` that share the same `X` coordinates."
   ]
  },
  {
   "cell_type": "code",
   "execution_count": 10,
   "metadata": {},
   "outputs": [
    {
     "data": {
      "text/plain": [
       "              Date  CO(GT)\n",
       "0     1.073174e+09     1.6\n",
       "1     1.073174e+09     2.0\n",
       "2     1.073174e+09     2.0\n",
       "3     1.073174e+09     2.5\n",
       "4     1.073174e+09     4.9\n",
       "...            ...     ...\n",
       "9352  1.133568e+09     0.6\n",
       "9353  1.133568e+09     0.7\n",
       "9354  1.133568e+09     0.6\n",
       "9355  1.133568e+09     0.4\n",
       "9356  1.133568e+09  -200.0\n",
       "\n",
       "[9357 rows x 2 columns]\n",
       "              Date  PT08.S1(CO)\n",
       "0     1.073174e+09       1143.0\n",
       "1     1.073174e+09       1203.0\n",
       "2     1.073174e+09       1186.0\n",
       "3     1.073174e+09       1192.0\n",
       "4     1.073174e+09       1536.0\n",
       "...            ...          ...\n",
       "9352  1.133568e+09       1136.0\n",
       "9353  1.133568e+09       1180.0\n",
       "9354  1.133568e+09       1131.0\n",
       "9355  1.133568e+09       1152.0\n",
       "9356  1.133568e+09        992.0\n",
       "\n",
       "[9357 rows x 2 columns]"
      ]
     },
     "execution_count": 10,
     "metadata": {},
     "output_type": "execute_result"
    }
   ],
   "source": [
    "data = mogptk.LoadDataFrame(df, x_col='Date', y_col=['CO(GT)', 'PT08.S1(CO)'])\n",
    "data"
   ]
  },
  {
   "cell_type": "markdown",
   "metadata": {},
   "source": [
    "If the values are not automatically recognized by their types, it may be set explicitly using `formats`. The default formatter is `FormatNumber` which will interpret any numeric value (such as a `float` or `int`). The `FormatDateTime` will parse date time values such as `25-10-2002` or `25-10-2002 15:59:13` and convert them internally to numbers."
   ]
  },
  {
   "cell_type": "code",
   "execution_count": 11,
   "metadata": {},
   "outputs": [
    {
     "data": {
      "text/plain": [
       "              Date  CO(GT)\n",
       "0     1.073174e+09     1.6\n",
       "1     1.073174e+09     2.0\n",
       "2     1.073174e+09     2.0\n",
       "3     1.073174e+09     2.5\n",
       "4     1.073174e+09     4.9\n",
       "...            ...     ...\n",
       "9352  1.133568e+09     0.6\n",
       "9353  1.133568e+09     0.7\n",
       "9354  1.133568e+09     0.6\n",
       "9355  1.133568e+09     0.4\n",
       "9356  1.133568e+09  -200.0\n",
       "\n",
       "[9357 rows x 2 columns]\n",
       "              Date  PT08.S1(CO)\n",
       "0     1.073174e+09       1143.0\n",
       "1     1.073174e+09       1203.0\n",
       "2     1.073174e+09       1186.0\n",
       "3     1.073174e+09       1192.0\n",
       "4     1.073174e+09       1536.0\n",
       "...            ...          ...\n",
       "9352  1.133568e+09       1136.0\n",
       "9353  1.133568e+09       1180.0\n",
       "9354  1.133568e+09       1131.0\n",
       "9355  1.133568e+09       1152.0\n",
       "9356  1.133568e+09        992.0\n",
       "\n",
       "[9357 rows x 2 columns]"
      ]
     },
     "execution_count": 11,
     "metadata": {},
     "output_type": "execute_result"
    }
   ],
   "source": [
    "data = mogptk.LoadDataFrame(df, x_col='Date', y_col=['CO(GT)', 'PT08.S1(CO)'], formats={'Date': mogptk.FormatDateTime})\n",
    "data"
   ]
  },
  {
   "cell_type": "markdown",
   "metadata": {},
   "source": [
    "## DataSets\n",
    "We can expand DataSets by appending another DataSet or Data instance, which will be added to the list of channels:"
   ]
  },
  {
   "cell_type": "code",
   "execution_count": 12,
   "metadata": {},
   "outputs": [
    {
     "data": {
      "text/plain": [
       "              Date  CO(GT)\n",
       "0     1.073174e+09     1.6\n",
       "1     1.073174e+09     2.0\n",
       "2     1.073174e+09     2.0\n",
       "3     1.073174e+09     2.5\n",
       "4     1.073174e+09     4.9\n",
       "...            ...     ...\n",
       "9352  1.133568e+09     0.6\n",
       "9353  1.133568e+09     0.7\n",
       "9354  1.133568e+09     0.6\n",
       "9355  1.133568e+09     0.4\n",
       "9356  1.133568e+09  -200.0\n",
       "\n",
       "[9357 rows x 2 columns]\n",
       "              Date  PT08.S1(CO)\n",
       "0     1.073174e+09       1143.0\n",
       "1     1.073174e+09       1203.0\n",
       "2     1.073174e+09       1186.0\n",
       "3     1.073174e+09       1192.0\n",
       "4     1.073174e+09       1536.0\n",
       "...            ...          ...\n",
       "9352  1.133568e+09       1136.0\n",
       "9353  1.133568e+09       1180.0\n",
       "9354  1.133568e+09       1131.0\n",
       "9355  1.133568e+09       1152.0\n",
       "9356  1.133568e+09        992.0\n",
       "\n",
       "[9357 rows x 2 columns]\n",
       "              Date          Time  NMHC(GT)\n",
       "0     1.096762e+09 -2.208924e+09     150.0\n",
       "1     1.096762e+09 -2.208920e+09     112.0\n",
       "2     1.096762e+09 -2.208917e+09      88.0\n",
       "3     1.096762e+09 -2.208913e+09      80.0\n",
       "4     1.096762e+09 -2.208910e+09      51.0\n",
       "...            ...           ...       ...\n",
       "9352  1.112573e+09 -2.208953e+09    -200.0\n",
       "9353  1.112573e+09 -2.208949e+09    -200.0\n",
       "9354  1.112573e+09 -2.208946e+09    -200.0\n",
       "9355  1.112573e+09 -2.208942e+09    -200.0\n",
       "9356  1.112573e+09 -2.208938e+09    -200.0\n",
       "\n",
       "[9357 rows x 3 columns]"
      ]
     },
     "execution_count": 12,
     "metadata": {},
     "output_type": "execute_result"
    }
   ],
   "source": [
    "data.append(mogptk.LoadDataFrame(df, x_col=['Date', 'Time'], y_col='NMHC(GT)'))"
   ]
  },
  {
   "cell_type": "code",
   "execution_count": 13,
   "metadata": {},
   "outputs": [
    {
     "data": {
      "text/plain": [
       "3"
      ]
     },
     "execution_count": 13,
     "metadata": {},
     "output_type": "execute_result"
    }
   ],
   "source": [
    "# How many channels do we have?\n",
    "data.get_output_dims()"
   ]
  },
  {
   "cell_type": "code",
   "execution_count": 14,
   "metadata": {},
   "outputs": [
    {
     "data": {
      "text/plain": [
       "[1, 1, 2]"
      ]
     },
     "execution_count": 14,
     "metadata": {},
     "output_type": "execute_result"
    }
   ],
   "source": [
    "# And how many input dimensions do each of these channels have?\n",
    "data.get_input_dims()"
   ]
  },
  {
   "cell_type": "code",
   "execution_count": 15,
   "metadata": {},
   "outputs": [
    {
     "data": {
      "text/plain": [
       "['CO(GT)', 'PT08.S1(CO)', 'NMHC(GT)']"
      ]
     },
     "execution_count": 15,
     "metadata": {},
     "output_type": "execute_result"
    }
   ],
   "source": [
    "# What are the channel's names?\n",
    "data.get_names()"
   ]
  },
  {
   "cell_type": "markdown",
   "metadata": {},
   "source": [
    "We can retrieve a single channel as follows:"
   ]
  },
  {
   "cell_type": "code",
   "execution_count": 16,
   "metadata": {},
   "outputs": [
    {
     "data": {
      "text/plain": [
       "              Date  CO(GT)\n",
       "0     1.073174e+09     1.6\n",
       "1     1.073174e+09     2.0\n",
       "2     1.073174e+09     2.0\n",
       "3     1.073174e+09     2.5\n",
       "4     1.073174e+09     4.9\n",
       "...            ...     ...\n",
       "9352  1.133568e+09     0.6\n",
       "9353  1.133568e+09     0.7\n",
       "9354  1.133568e+09     0.6\n",
       "9355  1.133568e+09     0.4\n",
       "9356  1.133568e+09  -200.0\n",
       "\n",
       "[9357 rows x 2 columns]"
      ]
     },
     "execution_count": 16,
     "metadata": {},
     "output_type": "execute_result"
    }
   ],
   "source": [
    "data[0]"
   ]
  },
  {
   "cell_type": "code",
   "execution_count": 17,
   "metadata": {},
   "outputs": [
    {
     "data": {
      "text/plain": [
       "              Date  CO(GT)\n",
       "0     1.073174e+09     1.6\n",
       "1     1.073174e+09     2.0\n",
       "2     1.073174e+09     2.0\n",
       "3     1.073174e+09     2.5\n",
       "4     1.073174e+09     4.9\n",
       "...            ...     ...\n",
       "9352  1.133568e+09     0.6\n",
       "9353  1.133568e+09     0.7\n",
       "9354  1.133568e+09     0.6\n",
       "9355  1.133568e+09     0.4\n",
       "9356  1.133568e+09  -200.0\n",
       "\n",
       "[9357 rows x 2 columns]"
      ]
     },
     "execution_count": 17,
     "metadata": {},
     "output_type": "execute_result"
    }
   ],
   "source": [
    "data['CO(GT)']"
   ]
  },
  {
   "cell_type": "markdown",
   "metadata": {},
   "source": [
    "Using `get_train_data()` we get the `X` and `Y` training data. `get_data()` returns all data, and `get_test_data()` returns the test data."
   ]
  },
  {
   "cell_type": "code",
   "execution_count": 18,
   "metadata": {},
   "outputs": [
    {
     "data": {
      "text/plain": [
       "([array([[1.0731744e+09],\n",
       "         [1.0731744e+09],\n",
       "         [1.0731744e+09],\n",
       "         ...,\n",
       "         [1.1335680e+09],\n",
       "         [1.1335680e+09],\n",
       "         [1.1335680e+09]]),\n",
       "  array([[1.0731744e+09],\n",
       "         [1.0731744e+09],\n",
       "         [1.0731744e+09],\n",
       "         ...,\n",
       "         [1.1335680e+09],\n",
       "         [1.1335680e+09],\n",
       "         [1.1335680e+09]]),\n",
       "  array([[ 1.0967616e+09, -2.2089240e+09],\n",
       "         [ 1.0967616e+09, -2.2089204e+09],\n",
       "         [ 1.0967616e+09, -2.2089168e+09],\n",
       "         ...,\n",
       "         [ 1.1125728e+09, -2.2089456e+09],\n",
       "         [ 1.1125728e+09, -2.2089420e+09],\n",
       "         [ 1.1125728e+09, -2.2089384e+09]])],\n",
       " [array([   1.6,    2. ,    2. , ...,    0.6,    0.4, -200. ]),\n",
       "  array([1143., 1203., 1186., ..., 1131., 1152.,  992.]),\n",
       "  array([ 150.,  112.,   88., ..., -200., -200., -200.])])"
      ]
     },
     "execution_count": 18,
     "metadata": {},
     "output_type": "execute_result"
    }
   ],
   "source": [
    "data.get_train_data()"
   ]
  }
 ],
 "metadata": {
  "kernelspec": {
   "display_name": "tf2gpu",
   "language": "python",
   "name": "tf2gpu"
  },
  "language_info": {
   "codemirror_mode": {
    "name": "ipython",
    "version": 3
   },
   "file_extension": ".py",
   "mimetype": "text/x-python",
   "name": "python",
   "nbconvert_exporter": "python",
   "pygments_lexer": "ipython3",
   "version": "3.7.6"
  }
 },
 "nbformat": 4,
 "nbformat_minor": 2
}
