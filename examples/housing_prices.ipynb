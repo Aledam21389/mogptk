{
 "cells": [
  {
   "cell_type": "markdown",
   "metadata": {},
   "source": [
    "# Experiment of Housing prices dataset\n",
    "\n",
    "Obtained from: \n",
    "https://my.spindices.com/indices/real-estate/sp-corelogic-case-shiller-20-city-composite-home-price-nsa-index"
   ]
  },
  {
   "cell_type": "code",
   "execution_count": 1,
   "metadata": {
    "collapsed": true
   },
   "outputs": [],
   "source": [
    "# execute if not installed\n",
    "import sys\n",
    "sys.path.insert(0, '../')\n",
    "\n",
    "import mogptk\n",
    "\n",
    "import matplotlib.pyplot as plt\n",
    "import seaborn as sns\n",
    "import numpy as np\n",
    "import pandas as pd\n",
    "\n",
    "%reload_ext autoreload\n",
    "%autoreload 2"
   ]
  },
  {
   "cell_type": "code",
   "execution_count": 2,
   "metadata": {
    "collapsed": true
   },
   "outputs": [],
   "source": [
    "# plot config\n",
    "sns.set_context('paper', font_scale=1.3)\n",
    "sns.set_style('ticks')\n",
    "plt.rcParams['figure.figsize'] = (10, 5)"
   ]
  },
  {
   "cell_type": "code",
   "execution_count": 3,
   "metadata": {
    "collapsed": false
   },
   "outputs": [],
   "source": [
    "def test_errors(model):\n",
    "    \"\"\"\n",
    "    Obtain test errors for model\n",
    "    \n",
    "    The function assumes the original data includes the test data\n",
    "    \"\"\"\n",
    "    x_pred = {i:array[stop:] for i, array in enumerate(model.data.X_all)}\n",
    "    \n",
    "    y_pred, var_pred = model.predict(x_pred)\n",
    "    \n",
    "    n_channels = model.data.get_output_dims()\n",
    "    \n",
    "    mae = np.zeros(n_channels)\n",
    "    mape = np.zeros(n_channels)\n",
    "    mse = np.zeros(n_channels)\n",
    "    \n",
    "    for i in range(n_channels):\n",
    "        idx = model.data.Y_all[i] != 0\n",
    "        y_true = model.data.Y_all[i][stop:]\n",
    "        \n",
    "        mae[i] = np.abs(y_true - y_pred[i]).mean()\n",
    "        mape[i] = np.abs((y_true - y_pred[i]) / y_true).mean()\n",
    "        mse[i] = ((y_true - y_pred[i])**2).mean()\n",
    "    return mae, mape, mse"
   ]
  },
  {
   "cell_type": "code",
   "execution_count": 4,
   "metadata": {
    "collapsed": true
   },
   "outputs": [],
   "source": [
    "def plot_experiment(model, ylims=None, names=[], title='Finance experiment'):\n",
    "    \"\"\"\n",
    "    Plot finance exchange mogptk experiment\n",
    "    \"\"\"\n",
    "    x_train = model.data.X\n",
    "    y_train = model.data.Y\n",
    "    x_all = model.data.X_all\n",
    "    y_all = model.data.Y_all\n",
    "    x_pred = {i:array for i, array in enumerate(data.X_all)}\n",
    "\n",
    "    mean_pred, var_pred = model.predict(x_pred)\n",
    "    \n",
    "    f, axarr = plt.subplots(3, 2, sharex=True, figsize=(20, 15))\n",
    "    axarr = axarr.reshape(-1)\n",
    "    \n",
    "    for i in range(len(x_train)):\n",
    "        axarr[i].plot(x_train[i][:, 0], y_train[i], '.k', label='Train', )\n",
    "        axarr[i].plot(x_all[i][:, 0], y_all[i], '--', label='Test', c='gray')\n",
    "        \n",
    "        axarr[i].plot(x_pred[i][:, 0], mean_pred[i], label='Pred', c=sns.color_palette()[i%10])\n",
    "        axarr[i].fill_between(x_pred[i][:, 0].reshape(-1),\n",
    "                              mean_pred[i] + 2 * np.sqrt(var_pred[i]),\n",
    "                              mean_pred[i] - 2 * np.sqrt(var_pred[i]),\n",
    "                              label='95% c.i',\n",
    "                              color=sns.color_palette()[i%10],\n",
    "                              alpha=0.4)\n",
    "        \n",
    "        axarr[i].legend(ncol=4)\n",
    "        axarr[i].set_title(names[i])\n",
    "        axarr[i].set_xlim(-1, x_all[i][-1])\n",
    "    plt.suptitle(title, y=1.02)\n",
    "    plt.tight_layout()"
   ]
  },
  {
   "cell_type": "markdown",
   "metadata": {},
   "source": [
    "### Load dataset"
   ]
  },
  {
   "cell_type": "code",
   "execution_count": 5,
   "metadata": {
    "collapsed": false
   },
   "outputs": [
    {
     "data": {
      "text/html": [
       "<div>\n",
       "<style scoped>\n",
       "    .dataframe tbody tr th:only-of-type {\n",
       "        vertical-align: middle;\n",
       "    }\n",
       "\n",
       "    .dataframe tbody tr th {\n",
       "        vertical-align: top;\n",
       "    }\n",
       "\n",
       "    .dataframe thead th {\n",
       "        text-align: right;\n",
       "    }\n",
       "</style>\n",
       "<table border=\"1\" class=\"dataframe\">\n",
       "  <thead>\n",
       "    <tr style=\"text-align: right;\">\n",
       "      <th></th>\n",
       "      <th>Chicago</th>\n",
       "      <th>Phoenix</th>\n",
       "      <th>Los Angeles</th>\n",
       "      <th>San Diego</th>\n",
       "      <th>New York</th>\n",
       "      <th>San Francisco</th>\n",
       "      <th>Month</th>\n",
       "    </tr>\n",
       "  </thead>\n",
       "  <tbody>\n",
       "    <tr>\n",
       "      <th>2009-05-01</th>\n",
       "      <td>123.73</td>\n",
       "      <td>103.56</td>\n",
       "      <td>159.18</td>\n",
       "      <td>145.06</td>\n",
       "      <td>171.17</td>\n",
       "      <td>120.16</td>\n",
       "      <td>0.0</td>\n",
       "    </tr>\n",
       "    <tr>\n",
       "      <th>2009-06-01</th>\n",
       "      <td>124.99</td>\n",
       "      <td>104.73</td>\n",
       "      <td>160.90</td>\n",
       "      <td>147.31</td>\n",
       "      <td>172.34</td>\n",
       "      <td>124.70</td>\n",
       "      <td>1.0</td>\n",
       "    </tr>\n",
       "    <tr>\n",
       "      <th>2009-07-01</th>\n",
       "      <td>128.32</td>\n",
       "      <td>106.66</td>\n",
       "      <td>163.97</td>\n",
       "      <td>150.99</td>\n",
       "      <td>173.91</td>\n",
       "      <td>128.86</td>\n",
       "      <td>2.0</td>\n",
       "    </tr>\n",
       "    <tr>\n",
       "      <th>2009-08-01</th>\n",
       "      <td>130.55</td>\n",
       "      <td>108.41</td>\n",
       "      <td>166.62</td>\n",
       "      <td>153.34</td>\n",
       "      <td>175.13</td>\n",
       "      <td>132.47</td>\n",
       "      <td>3.0</td>\n",
       "    </tr>\n",
       "    <tr>\n",
       "      <th>2009-09-01</th>\n",
       "      <td>132.13</td>\n",
       "      <td>109.26</td>\n",
       "      <td>168.03</td>\n",
       "      <td>154.76</td>\n",
       "      <td>174.81</td>\n",
       "      <td>134.16</td>\n",
       "      <td>4.0</td>\n",
       "    </tr>\n",
       "  </tbody>\n",
       "</table>\n",
       "</div>"
      ],
      "text/plain": [
       "            Chicago  Phoenix  Los Angeles  San Diego  New York  San Francisco  \\\n",
       "2009-05-01   123.73   103.56       159.18     145.06    171.17         120.16   \n",
       "2009-06-01   124.99   104.73       160.90     147.31    172.34         124.70   \n",
       "2009-07-01   128.32   106.66       163.97     150.99    173.91         128.86   \n",
       "2009-08-01   130.55   108.41       166.62     153.34    175.13         132.47   \n",
       "2009-09-01   132.13   109.26       168.03     154.76    174.81         134.16   \n",
       "\n",
       "            Month  \n",
       "2009-05-01    0.0  \n",
       "2009-06-01    1.0  \n",
       "2009-07-01    2.0  \n",
       "2009-08-01    3.0  \n",
       "2009-09-01    4.0  "
      ]
     },
     "execution_count": 5,
     "metadata": {},
     "output_type": "execute_result"
    }
   ],
   "source": [
    "# load dataset \n",
    "cols = ['Chicago', 'Phoenix', 'Los Angeles', 'San Diego', 'New York', 'San Francisco']\n",
    "\n",
    "df = pd.read_csv('data/finance_datasets/housing_prices_usa/housing_dataset.csv',\n",
    "                 skiprows=7,\n",
    "                 names=cols)\n",
    "df = df.iloc[:-4]\n",
    "df.index = pd.to_datetime(df.index)\n",
    "\n",
    "df['Month'] = np.round(((df.index - df.index[0]) / np.timedelta64(1, 'M')).values)\n",
    "df.head()"
   ]
  },
  {
   "cell_type": "markdown",
   "metadata": {},
   "source": [
    "### Data"
   ]
  },
  {
   "cell_type": "code",
   "execution_count": 6,
   "metadata": {
    "collapsed": false
   },
   "outputs": [],
   "source": [
    "data = mogptk.Data()\n",
    "\n",
    "for i, c in enumerate(cols):\n",
    "    x = df['Month'].values.reshape(-1, 1)\n",
    "    y = df[c].values\n",
    "    # y = np.log(df[c].values)\n",
    "    \n",
    "    data.add(x, y)\n",
    "    \n",
    "    stop = int(len(df) * 0.9)\n",
    "    data.remove_range(i, df['Month'][stop], None)"
   ]
  },
  {
   "cell_type": "markdown",
   "metadata": {},
   "source": [
    "### Model "
   ]
  },
  {
   "cell_type": "code",
   "execution_count": null,
   "metadata": {
    "collapsed": false
   },
   "outputs": [],
   "source": [
    "n_trials = 2\n",
    "\n",
    "mosm_mae = np.zeros((n_trials, len(cols)))\n",
    "mosm_mape = np.zeros((n_trials, len(cols)))\n",
    "mosm_mse = np.zeros((n_trials, len(cols)))\n",
    "\n",
    "for n in range(n_trials):\n",
    "    model = mogptk.MOSM(data, Q=3)\n",
    "    model.init_params('means')\n",
    "    \n",
    "    model.train(method='L-BFGS-B', maxiter=3000, tol=1e-50)\n",
    "    \n",
    "    mae, mape, mse = test_errors(model)\n",
    "    \n",
    "    mosm_mae[n, :] = mae\n",
    "    mosm_mape[n, :] = mape\n",
    "    mosm_mse[n, :] = mse"
   ]
  },
  {
   "cell_type": "code",
   "execution_count": null,
   "metadata": {
    "collapsed": false
   },
   "outputs": [],
   "source": [
    "pd.DataFrame(np.c_[mosm_mae.mean(0), mosm_mape.mean(0), mosm_mse.mean(0),\n",
    "                             mosm_mae.std(0), mosm_mape.std(0), mosm_mse.std(0)],\n",
    "                       columns=['MAE', 'MAPE%', 'MSE', 'MAE std', 'MAPE% std', 'MSE std'])"
   ]
  },
  {
   "cell_type": "code",
   "execution_count": null,
   "metadata": {
    "collapsed": false
   },
   "outputs": [],
   "source": [
    "plot_experiment(model, names=cols)"
   ]
  },
  {
   "cell_type": "code",
   "execution_count": null,
   "metadata": {
    "collapsed": true
   },
   "outputs": [],
   "source": []
  }
 ],
 "metadata": {
  "anaconda-cloud": {},
  "kernelspec": {
   "display_name": "tfgpu",
   "language": "python",
   "name": "tfgpu"
  },
  "language_info": {
   "codemirror_mode": {
    "name": "ipython",
    "version": 3
   },
   "file_extension": ".py",
   "mimetype": "text/x-python",
   "name": "python",
   "nbconvert_exporter": "python",
   "pygments_lexer": "ipython3",
   "version": "3.6.8"
  }
 },
 "nbformat": 4,
 "nbformat_minor": 2
}
